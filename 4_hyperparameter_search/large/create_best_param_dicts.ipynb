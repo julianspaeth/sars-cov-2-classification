{
 "cells": [
  {
   "cell_type": "code",
   "execution_count": 2,
   "id": "initial_id",
   "metadata": {
    "collapsed": true,
    "ExecuteTime": {
     "end_time": "2023-08-04T08:33:54.240649Z",
     "start_time": "2023-08-04T08:33:54.235002Z"
    }
   },
   "outputs": [],
   "source": [
    "import ast\n",
    "import json\n",
    "\n",
    "import pandas as pd"
   ]
  },
  {
   "cell_type": "code",
   "execution_count": 3,
   "outputs": [
    {
     "data": {
      "text/plain": "                                               params  mean_test_score  \\\n45  {'var_thresh__threshold': 0.15, 'imputer__weig...         0.739506   \n42  {'var_thresh__threshold': 0.15, 'imputer__weig...         0.739428   \n95  {'var_thresh__threshold': 0.2, 'imputer__weigh...         0.739243   \n87  {'var_thresh__threshold': 0.1, 'imputer__weigh...         0.738116   \n14  {'var_thresh__threshold': 0.2, 'imputer__weigh...         0.738105   \n..                                                ...              ...   \n19  {'var_thresh__threshold': 0.0, 'imputer__weigh...         0.713221   \n62  {'var_thresh__threshold': 0.0, 'imputer__weigh...         0.710637   \n13  {'var_thresh__threshold': 0.0, 'imputer__weigh...         0.709580   \n7   {'var_thresh__threshold': 0.0, 'imputer__weigh...         0.706820   \n18  {'var_thresh__threshold': 0.0, 'imputer__weigh...         0.702836   \n\n    std_test_score  min_test_score  max_test_score  \n45        0.057537        0.566986        0.820946  \n42        0.058213        0.581340        0.831081  \n95        0.058170        0.564593        0.822072  \n87        0.061105        0.564593        0.824324  \n14        0.062188        0.550239        0.816441  \n..             ...             ...             ...  \n19        0.079587        0.464115        0.860360  \n62        0.075029        0.472488        0.853070  \n13        0.078997        0.442584        0.839912  \n7         0.086585        0.430622        0.846847  \n18        0.086710        0.433014        0.851351  \n\n[100 rows x 5 columns]",
      "text/html": "<div>\n<style scoped>\n    .dataframe tbody tr th:only-of-type {\n        vertical-align: middle;\n    }\n\n    .dataframe tbody tr th {\n        vertical-align: top;\n    }\n\n    .dataframe thead th {\n        text-align: right;\n    }\n</style>\n<table border=\"1\" class=\"dataframe\">\n  <thead>\n    <tr style=\"text-align: right;\">\n      <th></th>\n      <th>params</th>\n      <th>mean_test_score</th>\n      <th>std_test_score</th>\n      <th>min_test_score</th>\n      <th>max_test_score</th>\n    </tr>\n  </thead>\n  <tbody>\n    <tr>\n      <th>45</th>\n      <td>{'var_thresh__threshold': 0.15, 'imputer__weig...</td>\n      <td>0.739506</td>\n      <td>0.057537</td>\n      <td>0.566986</td>\n      <td>0.820946</td>\n    </tr>\n    <tr>\n      <th>42</th>\n      <td>{'var_thresh__threshold': 0.15, 'imputer__weig...</td>\n      <td>0.739428</td>\n      <td>0.058213</td>\n      <td>0.581340</td>\n      <td>0.831081</td>\n    </tr>\n    <tr>\n      <th>95</th>\n      <td>{'var_thresh__threshold': 0.2, 'imputer__weigh...</td>\n      <td>0.739243</td>\n      <td>0.058170</td>\n      <td>0.564593</td>\n      <td>0.822072</td>\n    </tr>\n    <tr>\n      <th>87</th>\n      <td>{'var_thresh__threshold': 0.1, 'imputer__weigh...</td>\n      <td>0.738116</td>\n      <td>0.061105</td>\n      <td>0.564593</td>\n      <td>0.824324</td>\n    </tr>\n    <tr>\n      <th>14</th>\n      <td>{'var_thresh__threshold': 0.2, 'imputer__weigh...</td>\n      <td>0.738105</td>\n      <td>0.062188</td>\n      <td>0.550239</td>\n      <td>0.816441</td>\n    </tr>\n    <tr>\n      <th>...</th>\n      <td>...</td>\n      <td>...</td>\n      <td>...</td>\n      <td>...</td>\n      <td>...</td>\n    </tr>\n    <tr>\n      <th>19</th>\n      <td>{'var_thresh__threshold': 0.0, 'imputer__weigh...</td>\n      <td>0.713221</td>\n      <td>0.079587</td>\n      <td>0.464115</td>\n      <td>0.860360</td>\n    </tr>\n    <tr>\n      <th>62</th>\n      <td>{'var_thresh__threshold': 0.0, 'imputer__weigh...</td>\n      <td>0.710637</td>\n      <td>0.075029</td>\n      <td>0.472488</td>\n      <td>0.853070</td>\n    </tr>\n    <tr>\n      <th>13</th>\n      <td>{'var_thresh__threshold': 0.0, 'imputer__weigh...</td>\n      <td>0.709580</td>\n      <td>0.078997</td>\n      <td>0.442584</td>\n      <td>0.839912</td>\n    </tr>\n    <tr>\n      <th>7</th>\n      <td>{'var_thresh__threshold': 0.0, 'imputer__weigh...</td>\n      <td>0.706820</td>\n      <td>0.086585</td>\n      <td>0.430622</td>\n      <td>0.846847</td>\n    </tr>\n    <tr>\n      <th>18</th>\n      <td>{'var_thresh__threshold': 0.0, 'imputer__weigh...</td>\n      <td>0.702836</td>\n      <td>0.086710</td>\n      <td>0.433014</td>\n      <td>0.851351</td>\n    </tr>\n  </tbody>\n</table>\n<p>100 rows × 5 columns</p>\n</div>"
     },
     "execution_count": 3,
     "metadata": {},
     "output_type": "execute_result"
    }
   ],
   "source": [
    "pd.read_csv('Cyto_Effect.csv', index_col=0)"
   ],
   "metadata": {
    "collapsed": false,
    "ExecuteTime": {
     "end_time": "2023-08-04T08:33:54.628390Z",
     "start_time": "2023-08-04T08:33:54.610739Z"
    }
   },
   "id": "a36a7211a2550a11"
  },
  {
   "cell_type": "code",
   "execution_count": 4,
   "outputs": [
    {
     "data": {
      "text/plain": "{'var_thresh__threshold': 0.15,\n 'imputer__weights': 'distance',\n 'imputer__n_neighbors': 20,\n 'clf__n_estimators': 1000,\n 'clf__min_samples_split': 5,\n 'clf__min_samples_leaf': 2,\n 'clf__max_features': 'log2',\n 'clf__max_depth': 10,\n 'clf__criterion': 'entropy',\n 'clf__class_weight': None,\n 'clf__bootstrap': False}"
     },
     "execution_count": 4,
     "metadata": {},
     "output_type": "execute_result"
    }
   ],
   "source": [
    "cyto_effect_params = ast.literal_eval(pd.read_csv('Cyto_Effect.csv', index_col=0).loc[42, 'params'])\n",
    "cyto_effect_rand_params = ast.literal_eval(pd.read_csv('Cyto_Effect_rand.csv', index_col=0).iloc[0, 0])\n",
    "with open('Cyto_Effect.json', 'w') as file:\n",
    "    json.dump(cyto_effect_params, file)\n",
    "with open('Cyto_Effect_rand.json', 'w') as file:\n",
    "    json.dump(cyto_effect_rand_params, file)\n",
    "cyto_effect_params\n"
   ],
   "metadata": {
    "collapsed": false,
    "ExecuteTime": {
     "end_time": "2023-08-04T08:34:12.715081Z",
     "start_time": "2023-08-04T08:34:12.702006Z"
    }
   },
   "id": "df84bea4cef8015"
  },
  {
   "cell_type": "code",
   "execution_count": 5,
   "outputs": [
    {
     "data": {
      "text/plain": "                                               params  mean_test_score  \\\n80  {'var_thresh__threshold': 0.0, 'imputer__weigh...         0.773852   \n76  {'var_thresh__threshold': 0.0, 'imputer__weigh...         0.771191   \n44  {'var_thresh__threshold': 0.0, 'imputer__weigh...         0.770149   \n53  {'var_thresh__threshold': 0.0, 'imputer__weigh...         0.768700   \n99  {'var_thresh__threshold': 0.0, 'imputer__weigh...         0.768632   \n..                                                ...              ...   \n15  {'var_thresh__threshold': 0.05, 'imputer__weig...         0.723100   \n17  {'var_thresh__threshold': 0.1, 'imputer__weigh...         0.722740   \n73  {'var_thresh__threshold': 0.15, 'imputer__weig...         0.722480   \n37  {'var_thresh__threshold': 0.15, 'imputer__weig...         0.721610   \n49  {'var_thresh__threshold': 0.05, 'imputer__weig...         0.720698   \n\n    std_test_score  min_test_score  max_test_score  \n80        0.051530        0.690966        0.857022  \n76        0.053230        0.681464        0.872626  \n44        0.052421        0.683489        0.870081  \n53        0.053865        0.673520        0.866520  \n99        0.054168        0.669159        0.863467  \n..             ...             ...             ...  \n15        0.081920        0.606854        0.892300  \n17        0.081415        0.605763        0.887720  \n73        0.082115        0.605062        0.890943  \n37        0.081967        0.604517        0.889671  \n49        0.082633        0.602492        0.887466  \n\n[100 rows x 5 columns]",
      "text/html": "<div>\n<style scoped>\n    .dataframe tbody tr th:only-of-type {\n        vertical-align: middle;\n    }\n\n    .dataframe tbody tr th {\n        vertical-align: top;\n    }\n\n    .dataframe thead th {\n        text-align: right;\n    }\n</style>\n<table border=\"1\" class=\"dataframe\">\n  <thead>\n    <tr style=\"text-align: right;\">\n      <th></th>\n      <th>params</th>\n      <th>mean_test_score</th>\n      <th>std_test_score</th>\n      <th>min_test_score</th>\n      <th>max_test_score</th>\n    </tr>\n  </thead>\n  <tbody>\n    <tr>\n      <th>80</th>\n      <td>{'var_thresh__threshold': 0.0, 'imputer__weigh...</td>\n      <td>0.773852</td>\n      <td>0.051530</td>\n      <td>0.690966</td>\n      <td>0.857022</td>\n    </tr>\n    <tr>\n      <th>76</th>\n      <td>{'var_thresh__threshold': 0.0, 'imputer__weigh...</td>\n      <td>0.771191</td>\n      <td>0.053230</td>\n      <td>0.681464</td>\n      <td>0.872626</td>\n    </tr>\n    <tr>\n      <th>44</th>\n      <td>{'var_thresh__threshold': 0.0, 'imputer__weigh...</td>\n      <td>0.770149</td>\n      <td>0.052421</td>\n      <td>0.683489</td>\n      <td>0.870081</td>\n    </tr>\n    <tr>\n      <th>53</th>\n      <td>{'var_thresh__threshold': 0.0, 'imputer__weigh...</td>\n      <td>0.768700</td>\n      <td>0.053865</td>\n      <td>0.673520</td>\n      <td>0.866520</td>\n    </tr>\n    <tr>\n      <th>99</th>\n      <td>{'var_thresh__threshold': 0.0, 'imputer__weigh...</td>\n      <td>0.768632</td>\n      <td>0.054168</td>\n      <td>0.669159</td>\n      <td>0.863467</td>\n    </tr>\n    <tr>\n      <th>...</th>\n      <td>...</td>\n      <td>...</td>\n      <td>...</td>\n      <td>...</td>\n      <td>...</td>\n    </tr>\n    <tr>\n      <th>15</th>\n      <td>{'var_thresh__threshold': 0.05, 'imputer__weig...</td>\n      <td>0.723100</td>\n      <td>0.081920</td>\n      <td>0.606854</td>\n      <td>0.892300</td>\n    </tr>\n    <tr>\n      <th>17</th>\n      <td>{'var_thresh__threshold': 0.1, 'imputer__weigh...</td>\n      <td>0.722740</td>\n      <td>0.081415</td>\n      <td>0.605763</td>\n      <td>0.887720</td>\n    </tr>\n    <tr>\n      <th>73</th>\n      <td>{'var_thresh__threshold': 0.15, 'imputer__weig...</td>\n      <td>0.722480</td>\n      <td>0.082115</td>\n      <td>0.605062</td>\n      <td>0.890943</td>\n    </tr>\n    <tr>\n      <th>37</th>\n      <td>{'var_thresh__threshold': 0.15, 'imputer__weig...</td>\n      <td>0.721610</td>\n      <td>0.081967</td>\n      <td>0.604517</td>\n      <td>0.889671</td>\n    </tr>\n    <tr>\n      <th>49</th>\n      <td>{'var_thresh__threshold': 0.05, 'imputer__weig...</td>\n      <td>0.720698</td>\n      <td>0.082633</td>\n      <td>0.602492</td>\n      <td>0.887466</td>\n    </tr>\n  </tbody>\n</table>\n<p>100 rows × 5 columns</p>\n</div>"
     },
     "execution_count": 5,
     "metadata": {},
     "output_type": "execute_result"
    }
   ],
   "source": [
    "pd.read_csv('No-Effect_Cyto.csv', index_col=0)"
   ],
   "metadata": {
    "collapsed": false,
    "ExecuteTime": {
     "end_time": "2023-08-04T08:34:13.892297Z",
     "start_time": "2023-08-04T08:34:13.877460Z"
    }
   },
   "id": "d9dbf378d3c1020d"
  },
  {
   "cell_type": "code",
   "execution_count": 6,
   "outputs": [
    {
     "data": {
      "text/plain": "{'var_thresh__threshold': 0.0,\n 'imputer__weights': 'uniform',\n 'imputer__n_neighbors': 10,\n 'clf__n_estimators': 5000,\n 'clf__min_samples_split': 2,\n 'clf__min_samples_leaf': 4,\n 'clf__max_features': 'log2',\n 'clf__max_depth': 20,\n 'clf__criterion': 'entropy',\n 'clf__class_weight': None,\n 'clf__bootstrap': True}"
     },
     "execution_count": 6,
     "metadata": {},
     "output_type": "execute_result"
    }
   ],
   "source": [
    "no_effect_cyto_params = ast.literal_eval(pd.read_csv('No-Effect_Cyto.csv', index_col=0).loc[80, 'params'])\n",
    "no_effect_cyto_rand_params = ast.literal_eval(pd.read_csv('No-Effect_Cyto_rand.csv', index_col=0).iloc[0, 0])\n",
    "with open('No-Effect_Cyto.json', 'w') as file:\n",
    "    json.dump(no_effect_cyto_params, file)\n",
    "with open('No-Effect_Cyto_rand.json', 'w') as file:\n",
    "    json.dump(no_effect_cyto_rand_params, file)\n",
    "no_effect_cyto_params"
   ],
   "metadata": {
    "collapsed": false,
    "ExecuteTime": {
     "end_time": "2023-08-04T08:34:24.304243Z",
     "start_time": "2023-08-04T08:34:24.295997Z"
    }
   },
   "id": "d61a9d1b142437c1"
  },
  {
   "cell_type": "code",
   "execution_count": 7,
   "outputs": [
    {
     "data": {
      "text/plain": "                                               params  mean_test_score  \\\n19  {'var_thresh__threshold': 0.0, 'imputer__weigh...         0.701479   \n18  {'var_thresh__threshold': 0.0, 'imputer__weigh...         0.701209   \n7   {'var_thresh__threshold': 0.0, 'imputer__weigh...         0.700995   \n13  {'var_thresh__threshold': 0.0, 'imputer__weigh...         0.698672   \n62  {'var_thresh__threshold': 0.0, 'imputer__weigh...         0.697282   \n..                                                ...              ...   \n43  {'var_thresh__threshold': 0.0, 'imputer__weigh...         0.691836   \n12  {'var_thresh__threshold': 0.0, 'imputer__weigh...         0.691547   \n97  {'var_thresh__threshold': 0.0, 'imputer__weigh...         0.691246   \n15  {'var_thresh__threshold': 0.05, 'imputer__weig...         0.691123   \n49  {'var_thresh__threshold': 0.05, 'imputer__weig...         0.689698   \n\n    std_test_score  min_test_score  max_test_score  \n19        0.041535        0.616703        0.768264  \n18        0.043503        0.614886        0.777373  \n7         0.044495        0.609584        0.779998  \n13        0.044547        0.604281        0.781667  \n62        0.044193        0.599347        0.782085  \n..             ...             ...             ...  \n43        0.039088        0.613511        0.755106  \n12        0.039960        0.606294        0.771701  \n97        0.042575        0.603226        0.779532  \n15        0.039196        0.628535        0.774156  \n49        0.038994        0.628510        0.773272  \n\n[100 rows x 5 columns]",
      "text/html": "<div>\n<style scoped>\n    .dataframe tbody tr th:only-of-type {\n        vertical-align: middle;\n    }\n\n    .dataframe tbody tr th {\n        vertical-align: top;\n    }\n\n    .dataframe thead th {\n        text-align: right;\n    }\n</style>\n<table border=\"1\" class=\"dataframe\">\n  <thead>\n    <tr style=\"text-align: right;\">\n      <th></th>\n      <th>params</th>\n      <th>mean_test_score</th>\n      <th>std_test_score</th>\n      <th>min_test_score</th>\n      <th>max_test_score</th>\n    </tr>\n  </thead>\n  <tbody>\n    <tr>\n      <th>19</th>\n      <td>{'var_thresh__threshold': 0.0, 'imputer__weigh...</td>\n      <td>0.701479</td>\n      <td>0.041535</td>\n      <td>0.616703</td>\n      <td>0.768264</td>\n    </tr>\n    <tr>\n      <th>18</th>\n      <td>{'var_thresh__threshold': 0.0, 'imputer__weigh...</td>\n      <td>0.701209</td>\n      <td>0.043503</td>\n      <td>0.614886</td>\n      <td>0.777373</td>\n    </tr>\n    <tr>\n      <th>7</th>\n      <td>{'var_thresh__threshold': 0.0, 'imputer__weigh...</td>\n      <td>0.700995</td>\n      <td>0.044495</td>\n      <td>0.609584</td>\n      <td>0.779998</td>\n    </tr>\n    <tr>\n      <th>13</th>\n      <td>{'var_thresh__threshold': 0.0, 'imputer__weigh...</td>\n      <td>0.698672</td>\n      <td>0.044547</td>\n      <td>0.604281</td>\n      <td>0.781667</td>\n    </tr>\n    <tr>\n      <th>62</th>\n      <td>{'var_thresh__threshold': 0.0, 'imputer__weigh...</td>\n      <td>0.697282</td>\n      <td>0.044193</td>\n      <td>0.599347</td>\n      <td>0.782085</td>\n    </tr>\n    <tr>\n      <th>...</th>\n      <td>...</td>\n      <td>...</td>\n      <td>...</td>\n      <td>...</td>\n      <td>...</td>\n    </tr>\n    <tr>\n      <th>43</th>\n      <td>{'var_thresh__threshold': 0.0, 'imputer__weigh...</td>\n      <td>0.691836</td>\n      <td>0.039088</td>\n      <td>0.613511</td>\n      <td>0.755106</td>\n    </tr>\n    <tr>\n      <th>12</th>\n      <td>{'var_thresh__threshold': 0.0, 'imputer__weigh...</td>\n      <td>0.691547</td>\n      <td>0.039960</td>\n      <td>0.606294</td>\n      <td>0.771701</td>\n    </tr>\n    <tr>\n      <th>97</th>\n      <td>{'var_thresh__threshold': 0.0, 'imputer__weigh...</td>\n      <td>0.691246</td>\n      <td>0.042575</td>\n      <td>0.603226</td>\n      <td>0.779532</td>\n    </tr>\n    <tr>\n      <th>15</th>\n      <td>{'var_thresh__threshold': 0.05, 'imputer__weig...</td>\n      <td>0.691123</td>\n      <td>0.039196</td>\n      <td>0.628535</td>\n      <td>0.774156</td>\n    </tr>\n    <tr>\n      <th>49</th>\n      <td>{'var_thresh__threshold': 0.05, 'imputer__weig...</td>\n      <td>0.689698</td>\n      <td>0.038994</td>\n      <td>0.628510</td>\n      <td>0.773272</td>\n    </tr>\n  </tbody>\n</table>\n<p>100 rows × 5 columns</p>\n</div>"
     },
     "execution_count": 7,
     "metadata": {},
     "output_type": "execute_result"
    }
   ],
   "source": [
    "pd.read_csv('No-Effect_Effect.csv', index_col=0)"
   ],
   "metadata": {
    "collapsed": false,
    "ExecuteTime": {
     "end_time": "2023-08-04T08:34:25.379926Z",
     "start_time": "2023-08-04T08:34:25.368610Z"
    }
   },
   "id": "414866ac1d9d88cf"
  },
  {
   "cell_type": "code",
   "execution_count": 8,
   "outputs": [
    {
     "data": {
      "text/plain": "{'var_thresh__threshold': 0.15,\n 'imputer__weights': 'uniform',\n 'imputer__n_neighbors': 10,\n 'clf__n_estimators': 2000,\n 'clf__min_samples_split': 5,\n 'clf__min_samples_leaf': 4,\n 'clf__max_features': None,\n 'clf__max_depth': 20,\n 'clf__criterion': 'gini',\n 'clf__class_weight': 'balanced_subsample',\n 'clf__bootstrap': True}"
     },
     "execution_count": 8,
     "metadata": {},
     "output_type": "execute_result"
    }
   ],
   "source": [
    "no_effect_effect_params = ast.literal_eval(pd.read_csv('No-Effect_Effect.csv', index_col=0).loc[20, 'params'])\n",
    "no_effect_effect_rand_params = ast.literal_eval(pd.read_csv('No-Effect_Effect_rand.csv', index_col=0).iloc[0, 0])\n",
    "with open('No-Effect_Effect.json', 'w') as file:\n",
    "    json.dump(no_effect_effect_params, file)\n",
    "with open('No-Effect_Effect_rand.json', 'w') as file:\n",
    "    json.dump(no_effect_effect_rand_params, file)\n",
    "no_effect_effect_params"
   ],
   "metadata": {
    "collapsed": false,
    "ExecuteTime": {
     "end_time": "2023-08-04T08:34:35.815915Z",
     "start_time": "2023-08-04T08:34:35.810171Z"
    }
   },
   "id": "8509273953556004"
  },
  {
   "cell_type": "code",
   "execution_count": null,
   "outputs": [],
   "source": [],
   "metadata": {
    "collapsed": false
   },
   "id": "73bf4cbd6e7e31a5"
  }
 ],
 "metadata": {
  "kernelspec": {
   "display_name": "Python 3",
   "language": "python",
   "name": "python3"
  },
  "language_info": {
   "codemirror_mode": {
    "name": "ipython",
    "version": 2
   },
   "file_extension": ".py",
   "mimetype": "text/x-python",
   "name": "python",
   "nbconvert_exporter": "python",
   "pygments_lexer": "ipython2",
   "version": "2.7.6"
  }
 },
 "nbformat": 4,
 "nbformat_minor": 5
}
