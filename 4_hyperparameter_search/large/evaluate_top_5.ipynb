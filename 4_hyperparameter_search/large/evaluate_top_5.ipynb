{
 "cells": [
  {
   "cell_type": "code",
   "execution_count": 1,
   "id": "initial_id",
   "metadata": {
    "collapsed": true,
    "ExecuteTime": {
     "end_time": "2023-08-04T08:28:55.505055Z",
     "start_time": "2023-08-04T08:28:55.373171Z"
    }
   },
   "outputs": [],
   "source": [
    "import pandas as pd"
   ]
  },
  {
   "cell_type": "code",
   "execution_count": 6,
   "outputs": [
    {
     "data": {
      "text/plain": "                                               params  mean_test_score  \\\n45  {'var_thresh__threshold': 0.15, 'imputer__weig...         0.739506   \n42  {'var_thresh__threshold': 0.15, 'imputer__weig...         0.739428   \n95  {'var_thresh__threshold': 0.2, 'imputer__weigh...         0.739243   \n87  {'var_thresh__threshold': 0.1, 'imputer__weigh...         0.738116   \n14  {'var_thresh__threshold': 0.2, 'imputer__weigh...         0.738105   \n\n    std_test_score  min_test_score  max_test_score  \n45        0.057537        0.566986        0.820946  \n42        0.058213        0.581340        0.831081  \n95        0.058170        0.564593        0.822072  \n87        0.061105        0.564593        0.824324  \n14        0.062188        0.550239        0.816441  ",
      "text/html": "<div>\n<style scoped>\n    .dataframe tbody tr th:only-of-type {\n        vertical-align: middle;\n    }\n\n    .dataframe tbody tr th {\n        vertical-align: top;\n    }\n\n    .dataframe thead th {\n        text-align: right;\n    }\n</style>\n<table border=\"1\" class=\"dataframe\">\n  <thead>\n    <tr style=\"text-align: right;\">\n      <th></th>\n      <th>params</th>\n      <th>mean_test_score</th>\n      <th>std_test_score</th>\n      <th>min_test_score</th>\n      <th>max_test_score</th>\n    </tr>\n  </thead>\n  <tbody>\n    <tr>\n      <th>45</th>\n      <td>{'var_thresh__threshold': 0.15, 'imputer__weig...</td>\n      <td>0.739506</td>\n      <td>0.057537</td>\n      <td>0.566986</td>\n      <td>0.820946</td>\n    </tr>\n    <tr>\n      <th>42</th>\n      <td>{'var_thresh__threshold': 0.15, 'imputer__weig...</td>\n      <td>0.739428</td>\n      <td>0.058213</td>\n      <td>0.581340</td>\n      <td>0.831081</td>\n    </tr>\n    <tr>\n      <th>95</th>\n      <td>{'var_thresh__threshold': 0.2, 'imputer__weigh...</td>\n      <td>0.739243</td>\n      <td>0.058170</td>\n      <td>0.564593</td>\n      <td>0.822072</td>\n    </tr>\n    <tr>\n      <th>87</th>\n      <td>{'var_thresh__threshold': 0.1, 'imputer__weigh...</td>\n      <td>0.738116</td>\n      <td>0.061105</td>\n      <td>0.564593</td>\n      <td>0.824324</td>\n    </tr>\n    <tr>\n      <th>14</th>\n      <td>{'var_thresh__threshold': 0.2, 'imputer__weigh...</td>\n      <td>0.738105</td>\n      <td>0.062188</td>\n      <td>0.550239</td>\n      <td>0.816441</td>\n    </tr>\n  </tbody>\n</table>\n</div>"
     },
     "execution_count": 6,
     "metadata": {},
     "output_type": "execute_result"
    }
   ],
   "source": [
    "cyto_effect = pd.read_csv(\"Cyto_Effect.csv\", index_col=0).head(5)\n",
    "cyto_effect"
   ],
   "metadata": {
    "collapsed": false,
    "ExecuteTime": {
     "end_time": "2023-08-04T08:29:42.138984Z",
     "start_time": "2023-08-04T08:29:42.126396Z"
    }
   },
   "id": "4f18442acc043fe4"
  },
  {
   "cell_type": "code",
   "execution_count": null,
   "outputs": [],
   "source": [],
   "metadata": {
    "collapsed": false
   },
   "id": "434d5fd7d7bd4af5"
  }
 ],
 "metadata": {
  "kernelspec": {
   "display_name": "Python 3",
   "language": "python",
   "name": "python3"
  },
  "language_info": {
   "codemirror_mode": {
    "name": "ipython",
    "version": 2
   },
   "file_extension": ".py",
   "mimetype": "text/x-python",
   "name": "python",
   "nbconvert_exporter": "python",
   "pygments_lexer": "ipython2",
   "version": "2.7.6"
  }
 },
 "nbformat": 4,
 "nbformat_minor": 5
}
