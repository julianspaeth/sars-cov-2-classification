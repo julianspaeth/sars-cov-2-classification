{
 "cells": [
  {
   "cell_type": "code",
   "execution_count": 4,
   "metadata": {
    "collapsed": false
   },
   "outputs": [],
   "source": [
    "import pandas as pd\n",
    "import numpy as np\n",
    "import mygene\n",
    "import joblib\n",
    "\n",
    "mg = mygene.MyGeneInfo()"
   ]
  },
  {
   "cell_type": "code",
   "execution_count": 5,
   "metadata": {
    "collapsed": false
   },
   "outputs": [],
   "source": [
    "import graph_tool as gt\n",
    "\n",
    "\n",
    "def create_ppi_graph(edges_df: pd.DataFrame):\n",
    "    edges_df = edges_df.loc[edges_df.iloc[:, 0] != edges_df.iloc[:, 1], :]\n",
    "\n",
    "    nodes = list(set(edges_df.iloc[:, 0].unique().tolist() + edges_df.iloc[:, 1].unique().tolist()))\n",
    "\n",
    "    edges_df.loc[:, 'source'] = edges_df.iloc[:, 0].apply(lambda x: nodes.index(x) if x in nodes else np.nan)\n",
    "    edges_df.loc[:, 'target'] = edges_df.iloc[:, 1].apply(lambda x: nodes.index(x) if x in nodes else np.nan)\n",
    "\n",
    "    edges_df = edges_df.dropna()\n",
    "\n",
    "    edges_df.loc[:, 'union'] = edges_df.apply(lambda x: \", \".join(list(set([str(x['source'])]).union(set([str(x['target'])])))), axis=1)\n",
    "    edges_df.loc[:, 'union'] = edges_df.apply(lambda x: \", \".join(list(set([str(x['source'])]).union(set([str(x['target'])])))), axis=1)\n",
    "    edges_df = edges_df.drop_duplicates(subset=['union'])\n",
    "\n",
    "    ppi_G = gt.Graph()\n",
    "\n",
    "    for node in nodes:\n",
    "        v = ppi_G.add_vertex()\n",
    "\n",
    "    for index, row in edges_df.iterrows():\n",
    "        ppi_G.add_edge(row['source'], row['target'], add_missing=False)\n",
    "\n",
    "    print('Number of nodes:', ppi_G.num_vertices(), 'Number of edges:', ppi_G.num_edges())\n",
    "    return ppi_G, nodes"
   ]
  },
  {
   "cell_type": "code",
   "execution_count": 7,
   "metadata": {
    "collapsed": false
   },
   "outputs": [
    {
     "name": "stdout",
     "output_type": "stream",
     "text": [
      "Number of nodes: 16470 Number of edges: 233957\n"
     ]
    },
    {
     "data": {
      "text/plain": "['large_ppi.sav']"
     },
     "execution_count": 7,
     "metadata": {},
     "output_type": "execute_result"
    }
   ],
   "source": [
    "large = pd.read_csv('../0_data/ppi_networks/large.txt', sep=\"\\t\", header=None).drop([0, 2], axis=1)\n",
    "large.to_csv('large_network.csv')\n",
    "large_ppi, large_nodes = create_ppi_graph(large)\n",
    "large_ppi = {'network': large_ppi, 'nodes': large_nodes}\n",
    "joblib.dump(large_ppi, 'large_ppi.sav')"
   ]
  },
  {
   "cell_type": "code",
   "execution_count": null,
   "metadata": {
    "collapsed": false
   },
   "outputs": [],
   "source": []
  }
 ],
 "metadata": {
  "kernelspec": {
   "display_name": "Python 3",
   "language": "python",
   "name": "python3"
  },
  "language_info": {
   "codemirror_mode": {
    "name": "ipython",
    "version": 2
   },
   "file_extension": ".py",
   "mimetype": "text/x-python",
   "name": "python",
   "nbconvert_exporter": "python",
   "pygments_lexer": "ipython2",
   "version": "2.7.6"
  }
 },
 "nbformat": 4,
 "nbformat_minor": 0
}
