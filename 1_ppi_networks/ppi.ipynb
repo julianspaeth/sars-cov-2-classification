{
 "cells": [
  {
   "cell_type": "code",
   "execution_count": 22,
   "metadata": {
    "collapsed": false,
    "ExecuteTime": {
     "end_time": "2023-10-12T14:09:30.897862Z",
     "start_time": "2023-10-12T14:09:30.887372Z"
    }
   },
   "outputs": [],
   "source": [
    "import pandas as pd\n",
    "import numpy as np\n",
    "import mygene\n",
    "import joblib\n",
    "import graph_tool as gt\n",
    "\n",
    "mg = mygene.MyGeneInfo()\n",
    "\n",
    "\n",
    "def create_ppi_graph(edges_df: pd.DataFrame):\n",
    "    edges_df = edges_df.loc[edges_df.iloc[:, 0] != edges_df.iloc[:, 1], :]\n",
    "\n",
    "    nodes = list(set(edges_df.iloc[:, 0].unique().tolist() + edges_df.iloc[:, 1].unique().tolist()))\n",
    "\n",
    "    edges_df.loc[:, 'source'] = edges_df.iloc[:, 0].apply(lambda x: nodes.index(x) if x in nodes else np.nan)\n",
    "    edges_df.loc[:, 'target'] = edges_df.iloc[:, 1].apply(lambda x: nodes.index(x) if x in nodes else np.nan)\n",
    "\n",
    "    edges_df = edges_df.dropna()\n",
    "\n",
    "    edges_df.loc[:, 'union'] = edges_df.apply(lambda x: \", \".join(list({str(x['source'])}.union({str(x['target'])}))),\n",
    "                                              axis=1)\n",
    "    edges_df.loc[:, 'union'] = edges_df.apply(lambda x: \", \".join(list({str(x['source'])}.union({str(x['target'])}))),\n",
    "                                              axis=1)\n",
    "    edges_df = edges_df.drop_duplicates(subset=['union'])\n",
    "\n",
    "    ppi_g = gt.Graph()\n",
    "\n",
    "    for node in nodes:\n",
    "        v = ppi_g.add_vertex()\n",
    "\n",
    "    for index, row in edges_df.iterrows():\n",
    "        ppi_g.add_edge(row['source'], row['target'], add_missing=False)\n",
    "\n",
    "    print('Number of nodes:', ppi_g.num_vertices(), 'Number of edges:', ppi_g.num_edges())\n",
    "    return ppi_g, nodes"
   ]
  },
  {
   "cell_type": "code",
   "execution_count": 23,
   "outputs": [
    {
     "name": "stdout",
     "output_type": "stream",
     "text": [
      "Number of nodes: 16454 Number of edges: 233957\n"
     ]
    },
    {
     "data": {
      "text/plain": "['large_ppi.sav']"
     },
     "execution_count": 23,
     "metadata": {},
     "output_type": "execute_result"
    }
   ],
   "source": [
    "large = pd.read_csv('../0_data/ppi_networks/human_interactome_wang.txt', sep=\"\\t\", header=0).drop(\n",
    "    ['EntrezID', 'EntrezID.1'], axis=1)\n",
    "large.to_csv('large_network.csv')\n",
    "large_ppi, large_nodes = create_ppi_graph(large)\n",
    "large_ppi = {'network': large_ppi, 'nodes': large_nodes}\n",
    "joblib.dump(large_ppi, 'large_ppi.sav')"
   ],
   "metadata": {
    "collapsed": false,
    "ExecuteTime": {
     "end_time": "2023-10-12T14:10:59.477095Z",
     "start_time": "2023-10-12T14:09:36.952467Z"
    }
   }
  },
  {
   "cell_type": "code",
   "execution_count": 10,
   "metadata": {
    "collapsed": false,
    "ExecuteTime": {
     "end_time": "2023-07-28T22:11:08.846777Z",
     "start_time": "2023-07-28T22:04:33.357183Z"
    }
   },
   "outputs": [
    {
     "data": {
      "text/plain": "        OFFICIAL_SYMBOL_A OFFICIAL_SYMBOL_B  \\\n0                  MAP2K4              FLNC   \n1                    MYPN             ACTN2   \n2                   ACVR1              FNTA   \n3                   GATA2               PML   \n4                    RPA2             STAT3   \n...                   ...               ...   \n2379603             RNF43            ZNF638   \n2379608           ALDH7A1              BMI1   \n2379625              CDK1              SLBP   \n2379626              CDK2              SLBP   \n2379627           CSNK2A1              SLBP   \n\n                                             ALIASES_FOR_A  \\\n0        JNKK|JNKK1|MAPKK4|MEK4|MKK4|PRKMK4|SAPKK-1|SAP...   \n1                                   CMD1DD|CMH22|MYOP|RCM4   \n2                  ACTRI|ACVR1A|ACVRLK2|ALK2|FOP|SKR1|TSRI   \n3                                 DCML|IMD21|MONOMAC|NFE1B   \n4                            REPA2|RP-A p32|RP-A p34|RPA32   \n...                                                    ...   \n2379603                                        RNF124|URCC   \n2379608                                       ATQ1|EPD|PDE   \n2379625                                CDC2|CDC28A|P34CDC2   \n2379626                                    CDKN2|p33(CDK2)   \n2379627                                 CK2A1|CKII|CSNK2A3   \n\n                                    ALIASES_FOR_B  \n0        ABP-280|ABP280A|ABPA|ABPL|FLN2|MFM5|MPD4  \n1                                          CMD1AA  \n2                               FPTA|PGGT1A|PTAR2  \n3                         MYL|PP8675|RNF71|TRIM19  \n4                                 ADMIO|APRF|HIES  \n...                                           ...  \n2379603                         NP220|ZFML|Zfp638  \n2379608                    FLVI2/BMI1|PCGF4|RNF51  \n2379625                                       HBP  \n2379626                                       HBP  \n2379627                                       HBP  \n\n[773955 rows x 4 columns]",
      "text/html": "<div>\n<style scoped>\n    .dataframe tbody tr th:only-of-type {\n        vertical-align: middle;\n    }\n\n    .dataframe tbody tr th {\n        vertical-align: top;\n    }\n\n    .dataframe thead th {\n        text-align: right;\n    }\n</style>\n<table border=\"1\" class=\"dataframe\">\n  <thead>\n    <tr style=\"text-align: right;\">\n      <th></th>\n      <th>OFFICIAL_SYMBOL_A</th>\n      <th>OFFICIAL_SYMBOL_B</th>\n      <th>ALIASES_FOR_A</th>\n      <th>ALIASES_FOR_B</th>\n    </tr>\n  </thead>\n  <tbody>\n    <tr>\n      <th>0</th>\n      <td>MAP2K4</td>\n      <td>FLNC</td>\n      <td>JNKK|JNKK1|MAPKK4|MEK4|MKK4|PRKMK4|SAPKK-1|SAP...</td>\n      <td>ABP-280|ABP280A|ABPA|ABPL|FLN2|MFM5|MPD4</td>\n    </tr>\n    <tr>\n      <th>1</th>\n      <td>MYPN</td>\n      <td>ACTN2</td>\n      <td>CMD1DD|CMH22|MYOP|RCM4</td>\n      <td>CMD1AA</td>\n    </tr>\n    <tr>\n      <th>2</th>\n      <td>ACVR1</td>\n      <td>FNTA</td>\n      <td>ACTRI|ACVR1A|ACVRLK2|ALK2|FOP|SKR1|TSRI</td>\n      <td>FPTA|PGGT1A|PTAR2</td>\n    </tr>\n    <tr>\n      <th>3</th>\n      <td>GATA2</td>\n      <td>PML</td>\n      <td>DCML|IMD21|MONOMAC|NFE1B</td>\n      <td>MYL|PP8675|RNF71|TRIM19</td>\n    </tr>\n    <tr>\n      <th>4</th>\n      <td>RPA2</td>\n      <td>STAT3</td>\n      <td>REPA2|RP-A p32|RP-A p34|RPA32</td>\n      <td>ADMIO|APRF|HIES</td>\n    </tr>\n    <tr>\n      <th>...</th>\n      <td>...</td>\n      <td>...</td>\n      <td>...</td>\n      <td>...</td>\n    </tr>\n    <tr>\n      <th>2379603</th>\n      <td>RNF43</td>\n      <td>ZNF638</td>\n      <td>RNF124|URCC</td>\n      <td>NP220|ZFML|Zfp638</td>\n    </tr>\n    <tr>\n      <th>2379608</th>\n      <td>ALDH7A1</td>\n      <td>BMI1</td>\n      <td>ATQ1|EPD|PDE</td>\n      <td>FLVI2/BMI1|PCGF4|RNF51</td>\n    </tr>\n    <tr>\n      <th>2379625</th>\n      <td>CDK1</td>\n      <td>SLBP</td>\n      <td>CDC2|CDC28A|P34CDC2</td>\n      <td>HBP</td>\n    </tr>\n    <tr>\n      <th>2379626</th>\n      <td>CDK2</td>\n      <td>SLBP</td>\n      <td>CDKN2|p33(CDK2)</td>\n      <td>HBP</td>\n    </tr>\n    <tr>\n      <th>2379627</th>\n      <td>CSNK2A1</td>\n      <td>SLBP</td>\n      <td>CK2A1|CKII|CSNK2A3</td>\n      <td>HBP</td>\n    </tr>\n  </tbody>\n</table>\n<p>773955 rows × 4 columns</p>\n</div>"
     },
     "metadata": {},
     "output_type": "display_data"
    },
    {
     "name": "stdout",
     "output_type": "stream",
     "text": [
      "19826 Proteins with 773955 interactions\n"
     ]
    },
    {
     "name": "stderr",
     "output_type": "stream",
     "text": [
      "/var/folders/7f/97wv261d0mq1gf_z901h4_5h0000gn/T/ipykernel_6558/1782942732.py:9: SettingWithCopyWarning: \n",
      "A value is trying to be set on a copy of a slice from a DataFrame.\n",
      "Try using .loc[row_indexer,col_indexer] = value instead\n",
      "\n",
      "See the caveats in the documentation: https://pandas.pydata.org/pandas-docs/stable/user_guide/indexing.html#returning-a-view-versus-a-copy\n",
      "  edges_df.loc[:, 'source'] = edges_df.copy().iloc[:, 0].apply(lambda x: nodes.index(x) if x in nodes else np.nan)\n",
      "/var/folders/7f/97wv261d0mq1gf_z901h4_5h0000gn/T/ipykernel_6558/1782942732.py:10: SettingWithCopyWarning: \n",
      "A value is trying to be set on a copy of a slice from a DataFrame.\n",
      "Try using .loc[row_indexer,col_indexer] = value instead\n",
      "\n",
      "See the caveats in the documentation: https://pandas.pydata.org/pandas-docs/stable/user_guide/indexing.html#returning-a-view-versus-a-copy\n",
      "  edges_df.loc[:, 'target'] = edges_df.copy().iloc[:, 1].apply(lambda x: nodes.index(x) if x in nodes else np.nan)\n"
     ]
    },
    {
     "name": "stdout",
     "output_type": "stream",
     "text": [
      "Number of nodes: 19823 Number of edges: 728607\n"
     ]
    },
    {
     "data": {
      "text/plain": "['biogrid_ppi.sav']"
     },
     "execution_count": 10,
     "metadata": {},
     "output_type": "execute_result"
    }
   ],
   "source": [
    "biogrid = pd.read_csv('../0_data/ppi_networks/biogrid.zip', sep='\\t', skiprows=35,\n",
    "                      usecols=['OFFICIAL_SYMBOL_A', 'OFFICIAL_SYMBOL_B', 'ALIASES_FOR_A', 'ALIASES_FOR_B',\n",
    "                               'ORGANISM_A_ID', 'ORGANISM_B_ID'], compression='zip')\n",
    "biogrid = biogrid[biogrid['ORGANISM_A_ID'] == 9606]\n",
    "biogrid = biogrid[biogrid['ORGANISM_B_ID'] == 9606]\n",
    "biogrid = biogrid.drop(['ORGANISM_A_ID', 'ORGANISM_B_ID'], axis=1)\n",
    "biogrid = biogrid.drop_duplicates()\n",
    "display(biogrid)\n",
    "print(\n",
    "    f\"{len(set(biogrid['OFFICIAL_SYMBOL_A'].unique().tolist() + biogrid['OFFICIAL_SYMBOL_B'].unique().tolist()))} Proteins with {biogrid.shape[0]} interactions\")\n",
    "biogrid.loc[:, ['OFFICIAL_SYMBOL_A', 'OFFICIAL_SYMBOL_B']].to_csv('biogrid_network.csv', index=False)\n",
    "biogrid_ppi, biogrid_nodes = create_ppi_graph(biogrid)\n",
    "biogrid_ppi = {'network': biogrid_ppi, 'nodes': biogrid_nodes}\n",
    "joblib.dump(biogrid_ppi, 'biogrid_ppi.sav')"
   ]
  },
  {
   "cell_type": "code",
   "execution_count": 11,
   "outputs": [
    {
     "data": {
      "text/plain": "        symbol1  symbol2\n0        MAP2K4     FLNC\n1         ACTN2     MYPN\n2          FNTA    ACVR1\n3         GATA2      PML\n4          RPA2    STAT3\n...         ...      ...\n1209529   SNAI1    LOXL1\n1209530   FBLN1  COL18A1\n1209531    COMP     COMP\n1209532   SNAI1    LOXL3\n1209533   FBLN1    LAMA2\n\n[1206598 rows x 2 columns]",
      "text/html": "<div>\n<style scoped>\n    .dataframe tbody tr th:only-of-type {\n        vertical-align: middle;\n    }\n\n    .dataframe tbody tr th {\n        vertical-align: top;\n    }\n\n    .dataframe thead th {\n        text-align: right;\n    }\n</style>\n<table border=\"1\" class=\"dataframe\">\n  <thead>\n    <tr style=\"text-align: right;\">\n      <th></th>\n      <th>symbol1</th>\n      <th>symbol2</th>\n    </tr>\n  </thead>\n  <tbody>\n    <tr>\n      <th>0</th>\n      <td>MAP2K4</td>\n      <td>FLNC</td>\n    </tr>\n    <tr>\n      <th>1</th>\n      <td>ACTN2</td>\n      <td>MYPN</td>\n    </tr>\n    <tr>\n      <th>2</th>\n      <td>FNTA</td>\n      <td>ACVR1</td>\n    </tr>\n    <tr>\n      <th>3</th>\n      <td>GATA2</td>\n      <td>PML</td>\n    </tr>\n    <tr>\n      <th>4</th>\n      <td>RPA2</td>\n      <td>STAT3</td>\n    </tr>\n    <tr>\n      <th>...</th>\n      <td>...</td>\n      <td>...</td>\n    </tr>\n    <tr>\n      <th>1209529</th>\n      <td>SNAI1</td>\n      <td>LOXL1</td>\n    </tr>\n    <tr>\n      <th>1209530</th>\n      <td>FBLN1</td>\n      <td>COL18A1</td>\n    </tr>\n    <tr>\n      <th>1209531</th>\n      <td>COMP</td>\n      <td>COMP</td>\n    </tr>\n    <tr>\n      <th>1209532</th>\n      <td>SNAI1</td>\n      <td>LOXL3</td>\n    </tr>\n    <tr>\n      <th>1209533</th>\n      <td>FBLN1</td>\n      <td>LAMA2</td>\n    </tr>\n  </tbody>\n</table>\n<p>1206598 rows × 2 columns</p>\n</div>"
     },
     "metadata": {},
     "output_type": "display_data"
    },
    {
     "name": "stdout",
     "output_type": "stream",
     "text": [
      "19552 Proteins with 1206598 interactions\n"
     ]
    },
    {
     "name": "stderr",
     "output_type": "stream",
     "text": [
      "/var/folders/7f/97wv261d0mq1gf_z901h4_5h0000gn/T/ipykernel_6558/1782942732.py:9: SettingWithCopyWarning: \n",
      "A value is trying to be set on a copy of a slice from a DataFrame.\n",
      "Try using .loc[row_indexer,col_indexer] = value instead\n",
      "\n",
      "See the caveats in the documentation: https://pandas.pydata.org/pandas-docs/stable/user_guide/indexing.html#returning-a-view-versus-a-copy\n",
      "  edges_df.loc[:, 'source'] = edges_df.copy().iloc[:, 0].apply(lambda x: nodes.index(x) if x in nodes else np.nan)\n",
      "/var/folders/7f/97wv261d0mq1gf_z901h4_5h0000gn/T/ipykernel_6558/1782942732.py:10: SettingWithCopyWarning: \n",
      "A value is trying to be set on a copy of a slice from a DataFrame.\n",
      "Try using .loc[row_indexer,col_indexer] = value instead\n",
      "\n",
      "See the caveats in the documentation: https://pandas.pydata.org/pandas-docs/stable/user_guide/indexing.html#returning-a-view-versus-a-copy\n",
      "  edges_df.loc[:, 'target'] = edges_df.copy().iloc[:, 1].apply(lambda x: nodes.index(x) if x in nodes else np.nan)\n"
     ]
    },
    {
     "name": "stdout",
     "output_type": "stream",
     "text": [
      "Number of nodes: 19548 Number of edges: 1198994\n"
     ]
    },
    {
     "data": {
      "text/plain": "['iid_ppi.sav']"
     },
     "execution_count": 11,
     "metadata": {},
     "output_type": "execute_result"
    }
   ],
   "source": [
    "iid = pd.read_csv('../0_data/ppi_networks/iid.gz', sep='\\t', compression='gzip', low_memory=False,\n",
    "                  usecols=['symbol1', 'symbol2']).drop_duplicates()\n",
    "display(iid)\n",
    "print(\n",
    "    f\"{len(set(iid['symbol1'].unique().tolist() + iid['symbol2'].unique().tolist()))} Proteins with {iid.shape[0]} interactions\")\n",
    "iid.to_csv('iid_network.csv', index=False)\n",
    "iid_ppi, iid_nodes = create_ppi_graph(iid)\n",
    "iid_ppi = {'network': iid_ppi, 'nodes': iid_nodes}\n",
    "joblib.dump(iid_ppi, 'iid_ppi.sav')"
   ],
   "metadata": {
    "collapsed": false,
    "ExecuteTime": {
     "end_time": "2023-07-28T22:20:06.013090Z",
     "start_time": "2023-07-28T22:11:08.849149Z"
    }
   }
  },
  {
   "cell_type": "code",
   "execution_count": null,
   "outputs": [],
   "source": [],
   "metadata": {
    "collapsed": false
   }
  }
 ],
 "metadata": {
  "kernelspec": {
   "display_name": "Python 3",
   "language": "python",
   "name": "python3"
  },
  "language_info": {
   "codemirror_mode": {
    "name": "ipython",
    "version": 2
   },
   "file_extension": ".py",
   "mimetype": "text/x-python",
   "name": "python",
   "nbconvert_exporter": "python",
   "pygments_lexer": "ipython2",
   "version": "2.7.6"
  }
 },
 "nbformat": 4,
 "nbformat_minor": 0
}
