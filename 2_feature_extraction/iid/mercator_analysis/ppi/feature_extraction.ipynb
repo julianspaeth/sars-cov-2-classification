{
 "cells": [
  {
   "cell_type": "code",
   "execution_count": 3,
   "outputs": [],
   "source": [
    "import mercator\n",
    "import json\n",
    "import pandas as pd\n",
    "import numpy as np\n",
    "import seaborn as sns\n",
    "import matplotlib.pyplot as plt\n",
    "\n",
    "from helper.misc import flatten\n",
    "import joblib"
   ],
   "metadata": {
    "collapsed": false
   }
  },
  {
   "cell_type": "code",
   "execution_count": 2,
   "outputs": [
    {
     "name": "stderr",
     "output_type": "stream",
     "text": [
      "\n",
      "KeyboardInterrupt\n",
      "\n"
     ]
    }
   ],
   "source": [
    "data = joblib.load(\"../../../../1_ppi_networks/iid_ppi.sav\")\n",
    "g = data['network']\n",
    "nodes = data['nodes']\n",
    "edges = []\n",
    "for e in g.iter_edges():\n",
    "    edges.append(e)\n",
    "\n",
    "edge_df = pd.DataFrame(edges)\n",
    "edge_df.columns = ['source', 'target']\n",
    "edge_df['source'] = edge_df['source'].apply(lambda x: nodes[x])\n",
    "edge_df['target'] = edge_df['target'].apply(lambda x: nodes[x])\n",
    "edge_df.to_csv('edges.tsv', sep='\\t', index=False)"
   ],
   "metadata": {
    "collapsed": false
   }
  },
  {
   "cell_type": "code",
   "execution_count": 3,
   "outputs": [],
   "source": [
    "#mercator.embed('edges.tsv')"
   ],
   "metadata": {
    "collapsed": false
   }
  },
  {
   "cell_type": "code",
   "execution_count": null,
   "outputs": [],
   "source": [
    "mercator.embed('edges_GC.edge')"
   ],
   "metadata": {
    "collapsed": false,
    "pycharm": {
     "is_executing": true
    }
   }
  },
  {
   "cell_type": "code",
   "execution_count": null,
   "outputs": [],
   "source": [
    "name = 'edges_GC'\n",
    "edge= pd.read_csv(name+'.edge',comment='#',header=None,sep='\\s+',index_col= None)[[0,1]]\n",
    "edge.columns = 'source target'.split()\n",
    "df = pd.read_csv(name+'.inf_coord',comment='#',header=None,sep='\\s+',index_col=0)\n",
    "df.columns = 'k theta r'.split()\n",
    "df = df.drop('k', axis=1)\n",
    "df.to_csv('mercator_features.csv', index=True)\n",
    "df['x'] = df['r']*np.cos(df['theta'])\n",
    "df['y'] = df['r']*np.sin(df['theta'])\n",
    "ppi_df = pd.read_csv(\"../../ppi_df.csv\", index_col=0)\n",
    "df = pd.concat([ppi_df, df], axis=1)\n",
    "df.columns"
   ],
   "metadata": {
    "collapsed": false,
    "pycharm": {
     "is_executing": true
    }
   }
  },
  {
   "cell_type": "code",
   "execution_count": null,
   "outputs": [],
   "source": [
    "fig, ax1 = plt.subplots(figsize=(5, 5), dpi=100)\n",
    "sns.scatterplot(data=df, x='x', y='y', ax=ax1, hue='eigenvector', size='eigenvector')"
   ],
   "metadata": {
    "collapsed": false,
    "pycharm": {
     "is_executing": true
    }
   }
  },
  {
   "cell_type": "code",
   "execution_count": null,
   "outputs": [],
   "source": [
    "# 1. Figure out orange cluster --> if its closely connected ..."
   ],
   "metadata": {
    "collapsed": false
   }
  }
 ],
 "metadata": {
  "kernelspec": {
   "display_name": "Python 3",
   "language": "python",
   "name": "python3"
  },
  "language_info": {
   "codemirror_mode": {
    "name": "ipython",
    "version": 2
   },
   "file_extension": ".py",
   "mimetype": "text/x-python",
   "name": "python",
   "nbconvert_exporter": "python",
   "pygments_lexer": "ipython2",
   "version": "2.7.6"
  }
 },
 "nbformat": 4,
 "nbformat_minor": 0
}
