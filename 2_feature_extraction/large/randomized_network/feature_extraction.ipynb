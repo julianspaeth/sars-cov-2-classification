{
 "cells": [
  {
   "cell_type": "code",
   "execution_count": 1,
   "metadata": {
    "collapsed": true
   },
   "outputs": [],
   "source": [
    "import numpy as np\n",
    "import pandas as pd\n",
    "import graph_tool as gt\n",
    "from graph_tool import generation\n",
    "\n",
    "from helper.graph_helper import extract_graph_features, get_neighbors, create_spl_matrix, prepare_compound_features, create_compound_summary_statistics\n",
    "import joblib\n",
    "\n",
    "def create_feature_matrix(ppi: gt.Graph, nodes: list, drug_targets: pd.DataFrame, randomization: bool = False, random_state: None or int = None, mercator_df: pd.DataFrame = None):\n",
    "    if randomization:\n",
    "        if random_state is not None:\n",
    "            np.random.seed(random_state)\n",
    "            gt.seed_rng(random_state)\n",
    "\n",
    "        generation.random_rewire(ppi, 'configuration', n_iter=1)\n",
    "        np.random.shuffle(nodes)\n",
    "\n",
    "    cov_targets = pd.read_csv(\"../../../0_data/sars_cov2/sars_cov2_targets.txt\", header=None)[0].values.tolist()\n",
    "    cov_targets = list(set(cov_targets).intersection(set(nodes)))\n",
    "\n",
    "    ppi_df = extract_graph_features(ppi, nodes)\n",
    "\n",
    "    if mercator_df is not None:\n",
    "        ppi_df = pd.concat([ppi_df, mercator_df], axis=1)\n",
    "\n",
    "    if not randomization:\n",
    "        ppi_df.to_csv(\"ppi_df.csv\", index=True)\n",
    "    else:\n",
    "        ppi_df.to_csv(f'ppi_df_randnet_{random_state}.csv', index=True)\n",
    "\n",
    "\n",
    "    drug_targets['Target'] = drug_targets['Target'].apply(lambda x: \", \".join(set(ppi_df.index).intersection(set(str(x).split(\", \")))))\n",
    "    drug_targets = drug_targets[drug_targets['Target'] != '']\n",
    "    drug_targets['Neighbor'] = drug_targets['Target'].apply(lambda x: get_neighbors(ppi, x, nodes) if isinstance(x, str) else np.nan)\n",
    "\n",
    "    features = prepare_compound_features(drug_targets, ppi_df)\n",
    "    features.loc[:, 'n_targets'] = features['Target'].apply(lambda x: len(x.split(', ')) if isinstance(x, str) else 0)\n",
    "    features.loc[:, 'n_cov_targets'] = features['Target'].apply(\n",
    "        lambda x: len(set(str(x).split(', ')).intersection(set(cov_targets))))\n",
    "    features.loc[:, 'n_neighbors'] = features['Neighbor'].apply(lambda x: len(x.split(', ')) if isinstance(x, str) else 0)\n",
    "\n",
    "    spl_df = create_spl_matrix(ppi, nodes)\n",
    "    max_spl = spl_df.max().max()\n",
    "    spl_df.loc[:, 'mean_spl'] = spl_df.mean(axis=1, skipna=True, numeric_only=True)\n",
    "    spl_covidome_df = spl_df.loc[:, spl_df.index.intersection(cov_targets)]\n",
    "    spl_covidome_df['mean_spl_to_covidome'] = spl_covidome_df.mean(axis=1)\n",
    "    spl_covidome_df['min_spl_to_covidome'] = spl_covidome_df.min(axis=1)\n",
    "    spl_covidome_df['mean_spl_to_covidome'] = spl_covidome_df['mean_spl_to_covidome'].fillna(max_spl)\n",
    "    spl_covidome_df['min_spl_to_covidome'] = spl_covidome_df['min_spl_to_covidome'].fillna(max_spl)\n",
    "    spl_features = spl_covidome_df.loc[:, ['mean_spl_to_covidome', 'min_spl_to_covidome']]\n",
    "    for col in spl_features.columns:\n",
    "        features = pd.concat([features, create_compound_summary_statistics(drug_targets, spl_features, col, aim='Target').drop(\n",
    "            ['Target', 'Neighbor'], axis=1)], join='inner', axis=1)\n",
    "    features = features.replace({'': np.nan, 'nan': np.nan})\n",
    "\n",
    "    return features"
   ]
  },
  {
   "cell_type": "code",
   "execution_count": null,
   "outputs": [
    {
     "name": "stdout",
     "output_type": "stream",
     "text": [
      "BDB Target 0\n"
     ]
    },
    {
     "name": "stderr",
     "output_type": "stream",
     "text": [
      "/var/folders/5y/sgsvd71n7yb19_7wd6v8gvh00000gn/T/ipykernel_30624/1500648631.py:34: SettingWithCopyWarning: \n",
      "A value is trying to be set on a copy of a slice from a DataFrame.\n",
      "Try using .loc[row_indexer,col_indexer] = value instead\n",
      "\n",
      "See the caveats in the documentation: https://pandas.pydata.org/pandas-docs/stable/user_guide/indexing.html#returning-a-view-versus-a-copy\n",
      "  drug_targets['Neighbor'] = drug_targets['Target'].apply(lambda x: get_neighbors(ppi, x, nodes) if isinstance(x, str) else np.nan)\n"
     ]
    },
    {
     "name": "stdout",
     "output_type": "stream",
     "text": [
      "BDB Target 1\n",
      "BDB Target 2\n",
      "BDB Target 3\n",
      "BDB Target 4\n",
      "DC Target 0\n",
      "DC Target 1\n",
      "DC Target 2\n",
      "DC Target 3\n",
      "DC Target 4\n",
      "DRH Target 0\n",
      "DRH Target 1\n",
      "DRH Target 2\n",
      "DRH Target 3\n",
      "DRH Target 4\n",
      "TTD Target 0\n",
      "TTD Target 1\n",
      "TTD Target 2\n",
      "TTD Target 3\n",
      "TTD Target 4\n",
      "Merged Target 0\n",
      "Merged Target 1\n",
      "Merged Target 2\n",
      "Merged Target 3\n"
     ]
    }
   ],
   "source": [
    "target_df = pd.read_csv('../../../0_data/targets/targets.csv', index_col=0)\n",
    "\n",
    "drugs = {}\n",
    "for target_set in target_df.columns:\n",
    "    t = target_df.loc[:, target_set].to_frame()\n",
    "    t.columns = ['Target']\n",
    "    drugs[target_set] = t\n",
    "\n",
    "network_dict = joblib.load(f'../../../1_ppi_networks/large_ppi.sav')\n",
    "ppi_network = network_dict['network']\n",
    "ppi_nodes = network_dict['nodes']\n",
    "\n",
    "structure_features = pd.read_csv('../../../0_data/structure/structure_features.csv', index_col=0)\n",
    "structure_features = structure_features.loc[:, ~structure_features.columns.str.startswith('Defined')]\n",
    "structure_features = structure_features.loc[:, ~structure_features.columns.str.startswith('Undefined')]\n",
    "structure_features = structure_features.drop(['IsotopeAtomCount', 'DefinedAtomStereoCount', 'UndefinedAtomStereoCount', 'DefinedBondStereoCount', 'UndefinedBondStereoCount'], axis=1, errors=\"ignore\")\n",
    "\n",
    "features = {}\n",
    "\n",
    "\n",
    "for target_set in drugs.keys():\n",
    "    for i in range(5):\n",
    "        print(target_set + \" \" + str(i))\n",
    "        network_features = create_feature_matrix(ppi=ppi_network, nodes=ppi_nodes, drug_targets=drugs[target_set], mercator_df=None, randomization=True, random_state=i)\n",
    "\n",
    "        features_combined = pd.concat([structure_features, network_features], axis=1, join='inner')\n",
    "        features_combined = features_combined[features_combined['n_targets'] >= 1]\n",
    "        features_combined = features_combined.loc[:, ~features_combined.columns.duplicated()]\n",
    "        features_combined.to_csv(f'features_{target_set}_randnet_{i}.csv')"
   ],
   "metadata": {
    "collapsed": false,
    "pycharm": {
     "is_executing": true
    }
   }
  },
  {
   "cell_type": "code",
   "execution_count": null,
   "outputs": [],
   "source": [],
   "metadata": {
    "collapsed": false
   }
  },
  {
   "cell_type": "code",
   "execution_count": null,
   "outputs": [],
   "source": [],
   "metadata": {
    "collapsed": false
   }
  },
  {
   "cell_type": "code",
   "execution_count": null,
   "outputs": [],
   "source": [],
   "metadata": {
    "collapsed": false
   }
  }
 ],
 "metadata": {
  "kernelspec": {
   "display_name": "Python 3",
   "language": "python",
   "name": "python3"
  },
  "language_info": {
   "codemirror_mode": {
    "name": "ipython",
    "version": 2
   },
   "file_extension": ".py",
   "mimetype": "text/x-python",
   "name": "python",
   "nbconvert_exporter": "python",
   "pygments_lexer": "ipython2",
   "version": "2.7.6"
  }
 },
 "nbformat": 4,
 "nbformat_minor": 0
}
