{
 "cells": [
  {
   "cell_type": "code",
   "execution_count": 6,
   "metadata": {
    "collapsed": true
   },
   "outputs": [],
   "source": [
    "import numpy as np\n",
    "import pandas as pd\n",
    "import graph_tool as gt\n",
    "from graph_tool import generation\n",
    "\n",
    "from helper.graph_helper import extract_graph_features, get_neighbors, create_spl_matrix, prepare_compound_features, create_compound_summary_statistics\n",
    "import joblib\n",
    "\n",
    "def create_feature_matrix(ppi: gt.Graph, nodes: list, drug_targets: pd.DataFrame, randomization: bool = False, random_state: None or int = None, mercator_df: pd.DataFrame = None):\n",
    "    if randomization:\n",
    "        if random_state is not None:\n",
    "            np.random.seed(random_state)\n",
    "            gt.seed_rng(random_state)\n",
    "\n",
    "        generation.random_rewire(ppi, 'configuration', n_iter=1)\n",
    "        np.random.shuffle(nodes)\n",
    "\n",
    "    cov_targets = pd.read_csv(\"../../0_data/sars_cov2/sars_cov2_targets.txt\", header=None)[0].values.tolist()\n",
    "    cov_targets = list(set(cov_targets).intersection(set(nodes)))\n",
    "\n",
    "    ppi_df = extract_graph_features(ppi, nodes)\n",
    "\n",
    "    if mercator_df is not None:\n",
    "        ppi_df = pd.concat([ppi_df, mercator_df], axis=1)\n",
    "\n",
    "\n",
    "    ppi_df.to_csv(\"ppi_df.csv\", index=True)\n",
    "\n",
    "    drug_targets['Target'] = drug_targets['Target'].apply(lambda x: \", \".join(set(ppi_df.index).intersection(set(str(x).split(\", \")))))\n",
    "    drug_targets = drug_targets[drug_targets['Target'] != '']\n",
    "    drug_targets['Neighbor'] = drug_targets['Target'].apply(lambda x: get_neighbors(ppi, x, nodes) if isinstance(x, str) else np.nan)\n",
    "\n",
    "    features = prepare_compound_features(drug_targets, ppi_df)\n",
    "    features.loc[:, 'n_targets'] = features['Target'].apply(lambda x: len(x.split(', ')) if isinstance(x, str) else 0)\n",
    "    features.loc[:, 'n_cov_targets'] = features['Target'].apply(\n",
    "        lambda x: len(set(str(x).split(', ')).intersection(set(cov_targets))))\n",
    "    features.loc[:, 'n_neighbors'] = features['Neighbor'].apply(lambda x: len(x.split(', ')) if isinstance(x, str) else 0)\n",
    "\n",
    "    spl_df = create_spl_matrix(ppi, nodes)\n",
    "    max_spl = spl_df.max().max()\n",
    "    spl_df.loc[:, 'mean_spl'] = spl_df.mean(axis=1, skipna=True, numeric_only=True)\n",
    "    spl_covidome_df = spl_df.loc[:, spl_df.index.intersection(cov_targets)]\n",
    "    spl_covidome_df['mean_spl_to_covidome'] = spl_covidome_df.mean(axis=1)\n",
    "    spl_covidome_df['min_spl_to_covidome'] = spl_covidome_df.min(axis=1)\n",
    "    spl_covidome_df['mean_spl_to_covidome'] = spl_covidome_df['mean_spl_to_covidome'].fillna(max_spl)\n",
    "    spl_covidome_df['min_spl_to_covidome'] = spl_covidome_df['min_spl_to_covidome'].fillna(max_spl)\n",
    "    spl_features = spl_covidome_df.loc[:, ['mean_spl_to_covidome', 'min_spl_to_covidome']]\n",
    "    for col in spl_features.columns:\n",
    "        features = pd.concat([features, create_compound_summary_statistics(drug_targets, spl_features, col, aim='Target').drop(\n",
    "            ['Target', 'Neighbor'], axis=1)], join='inner', axis=1)\n",
    "    features = features.replace({'': np.nan, 'nan': np.nan})\n",
    "\n",
    "    return features"
   ]
  },
  {
   "cell_type": "code",
   "execution_count": 7,
   "outputs": [
    {
     "name": "stdout",
     "output_type": "stream",
     "text": [
      "DRH Target\n"
     ]
    },
    {
     "name": "stderr",
     "output_type": "stream",
     "text": [
      "/var/folders/7f/97wv261d0mq1gf_z901h4_5h0000gn/T/ipykernel_2653/2292736215.py:31: SettingWithCopyWarning: \n",
      "A value is trying to be set on a copy of a slice from a DataFrame.\n",
      "Try using .loc[row_indexer,col_indexer] = value instead\n",
      "\n",
      "See the caveats in the documentation: https://pandas.pydata.org/pandas-docs/stable/user_guide/indexing.html#returning-a-view-versus-a-copy\n",
      "  drug_targets['Neighbor'] = drug_targets['Target'].apply(lambda x: get_neighbors(ppi, x, nodes) if isinstance(x, str) else np.nan)\n"
     ]
    },
    {
     "name": "stdout",
     "output_type": "stream",
     "text": [
      "Finished\n"
     ]
    }
   ],
   "source": [
    "target_df = pd.read_csv('../../0_data/targets/targets.csv', index_col=0)\n",
    "\n",
    "drugs = {}\n",
    "for target_set in target_df.columns:\n",
    "    t = target_df.loc[:, target_set].to_frame()\n",
    "    t.columns = ['Target']\n",
    "    drugs[target_set] = t\n",
    "\n",
    "network_dict = joblib.load(f'../../1_ppi_networks/large_ppi.sav')\n",
    "ppi_network = network_dict['network']\n",
    "ppi_nodes = network_dict['nodes']\n",
    "\n",
    "structure_features = pd.read_csv('../../0_data/structure/structure_features.csv', index_col=0)\n",
    "structure_features = structure_features.loc[:, ~structure_features.columns.str.startswith('Defined')]\n",
    "structure_features = structure_features.loc[:, ~structure_features.columns.str.startswith('Undefined')]\n",
    "structure_features = structure_features.drop(['IsotopeAtomCount', 'DefinedAtomStereoCount', 'UndefinedAtomStereoCount', 'DefinedBondStereoCount', 'UndefinedBondStereoCount'], axis=1, errors=\"ignore\")\n",
    "\n",
    "features = {}\n",
    "\n",
    "for target_set in drugs.keys():\n",
    "    if target_set == \"DRH Target\":\n",
    "        print(target_set)\n",
    "        network_features = create_feature_matrix(ppi=ppi_network, nodes=ppi_nodes, drug_targets=drugs[target_set], mercator_df=None)\n",
    "\n",
    "        features_combined = pd.concat([structure_features, network_features], axis=1, join='inner')\n",
    "        features_combined = features_combined[features_combined['n_targets'] >= 1]\n",
    "        # features_combined = features_combined.drop(['Target', 'Neighbor'], axis=1)\n",
    "        features_combined = features_combined.loc[:, ~features_combined.columns.duplicated()]\n",
    "        features_combined.to_csv(f'features_{target_set}.csv')\n",
    "\n",
    "print(\"Finished\")"
   ],
   "metadata": {
    "collapsed": false
   }
  },
  {
   "cell_type": "code",
   "execution_count": 8,
   "outputs": [
    {
     "data": {
      "text/plain": "           MolecularWeight  XLogP  TPSA  Complexity  Charge  HBondDonorCount  \\\nOutcome                                                                        \nCyto                    78     76    78          78      78               78   \nLow                    199    198   199         199     199              199   \nNo-Effect             3526   3495  3526        3526    3526             3526   \nStrong                 116    113   116         116     116              116   \nVery Weak              157    155   157         157     157              157   \nWeak                   140    140   140         140     140              140   \n\n           HBondAcceptorCount  RotatableBondCount  HeavyAtomCount  \\\nOutcome                                                             \nCyto                       78                  78              78   \nLow                       199                 199             199   \nNo-Effect                3526                3526            3526   \nStrong                    116                 116             116   \nVery Weak                 157                 157             157   \nWeak                      140                 140             140   \n\n           AtomStereoCount  ...  n_cov_targets  n_neighbors  \\\nOutcome                     ...                               \nCyto                    78  ...             78           78   \nLow                    199  ...            199          199   \nNo-Effect             3526  ...           3526         3526   \nStrong                 116  ...            116          116   \nVery Weak              157  ...            157          157   \nWeak                   140  ...            140          140   \n\n           mean_spl_to_covidome_min  mean_spl_to_covidome_mean  \\\nOutcome                                                          \nCyto                             78                         78   \nLow                             199                        199   \nNo-Effect                      3526                       3526   \nStrong                          116                        116   \nVery Weak                       157                        157   \nWeak                            140                        140   \n\n           mean_spl_to_covidome_median  mean_spl_to_covidome_max  \\\nOutcome                                                            \nCyto                                78                        78   \nLow                                199                       199   \nNo-Effect                         3526                      3526   \nStrong                             116                       116   \nVery Weak                          157                       157   \nWeak                               140                       140   \n\n           min_spl_to_covidome_min  min_spl_to_covidome_mean  \\\nOutcome                                                        \nCyto                            78                        78   \nLow                            199                       199   \nNo-Effect                     3526                      3526   \nStrong                         116                       116   \nVery Weak                      157                       157   \nWeak                           140                       140   \n\n           min_spl_to_covidome_median  min_spl_to_covidome_max  \nOutcome                                                         \nCyto                               78                       78  \nLow                               199                      199  \nNo-Effect                        3526                     3526  \nStrong                            116                      116  \nVery Weak                         157                      157  \nWeak                              140                      140  \n\n[6 rows x 95 columns]",
      "text/html": "<div>\n<style scoped>\n    .dataframe tbody tr th:only-of-type {\n        vertical-align: middle;\n    }\n\n    .dataframe tbody tr th {\n        vertical-align: top;\n    }\n\n    .dataframe thead th {\n        text-align: right;\n    }\n</style>\n<table border=\"1\" class=\"dataframe\">\n  <thead>\n    <tr style=\"text-align: right;\">\n      <th></th>\n      <th>MolecularWeight</th>\n      <th>XLogP</th>\n      <th>TPSA</th>\n      <th>Complexity</th>\n      <th>Charge</th>\n      <th>HBondDonorCount</th>\n      <th>HBondAcceptorCount</th>\n      <th>RotatableBondCount</th>\n      <th>HeavyAtomCount</th>\n      <th>AtomStereoCount</th>\n      <th>...</th>\n      <th>n_cov_targets</th>\n      <th>n_neighbors</th>\n      <th>mean_spl_to_covidome_min</th>\n      <th>mean_spl_to_covidome_mean</th>\n      <th>mean_spl_to_covidome_median</th>\n      <th>mean_spl_to_covidome_max</th>\n      <th>min_spl_to_covidome_min</th>\n      <th>min_spl_to_covidome_mean</th>\n      <th>min_spl_to_covidome_median</th>\n      <th>min_spl_to_covidome_max</th>\n    </tr>\n    <tr>\n      <th>Outcome</th>\n      <th></th>\n      <th></th>\n      <th></th>\n      <th></th>\n      <th></th>\n      <th></th>\n      <th></th>\n      <th></th>\n      <th></th>\n      <th></th>\n      <th></th>\n      <th></th>\n      <th></th>\n      <th></th>\n      <th></th>\n      <th></th>\n      <th></th>\n      <th></th>\n      <th></th>\n      <th></th>\n      <th></th>\n    </tr>\n  </thead>\n  <tbody>\n    <tr>\n      <th>Cyto</th>\n      <td>78</td>\n      <td>76</td>\n      <td>78</td>\n      <td>78</td>\n      <td>78</td>\n      <td>78</td>\n      <td>78</td>\n      <td>78</td>\n      <td>78</td>\n      <td>78</td>\n      <td>...</td>\n      <td>78</td>\n      <td>78</td>\n      <td>78</td>\n      <td>78</td>\n      <td>78</td>\n      <td>78</td>\n      <td>78</td>\n      <td>78</td>\n      <td>78</td>\n      <td>78</td>\n    </tr>\n    <tr>\n      <th>Low</th>\n      <td>199</td>\n      <td>198</td>\n      <td>199</td>\n      <td>199</td>\n      <td>199</td>\n      <td>199</td>\n      <td>199</td>\n      <td>199</td>\n      <td>199</td>\n      <td>199</td>\n      <td>...</td>\n      <td>199</td>\n      <td>199</td>\n      <td>199</td>\n      <td>199</td>\n      <td>199</td>\n      <td>199</td>\n      <td>199</td>\n      <td>199</td>\n      <td>199</td>\n      <td>199</td>\n    </tr>\n    <tr>\n      <th>No-Effect</th>\n      <td>3526</td>\n      <td>3495</td>\n      <td>3526</td>\n      <td>3526</td>\n      <td>3526</td>\n      <td>3526</td>\n      <td>3526</td>\n      <td>3526</td>\n      <td>3526</td>\n      <td>3526</td>\n      <td>...</td>\n      <td>3526</td>\n      <td>3526</td>\n      <td>3526</td>\n      <td>3526</td>\n      <td>3526</td>\n      <td>3526</td>\n      <td>3526</td>\n      <td>3526</td>\n      <td>3526</td>\n      <td>3526</td>\n    </tr>\n    <tr>\n      <th>Strong</th>\n      <td>116</td>\n      <td>113</td>\n      <td>116</td>\n      <td>116</td>\n      <td>116</td>\n      <td>116</td>\n      <td>116</td>\n      <td>116</td>\n      <td>116</td>\n      <td>116</td>\n      <td>...</td>\n      <td>116</td>\n      <td>116</td>\n      <td>116</td>\n      <td>116</td>\n      <td>116</td>\n      <td>116</td>\n      <td>116</td>\n      <td>116</td>\n      <td>116</td>\n      <td>116</td>\n    </tr>\n    <tr>\n      <th>Very Weak</th>\n      <td>157</td>\n      <td>155</td>\n      <td>157</td>\n      <td>157</td>\n      <td>157</td>\n      <td>157</td>\n      <td>157</td>\n      <td>157</td>\n      <td>157</td>\n      <td>157</td>\n      <td>...</td>\n      <td>157</td>\n      <td>157</td>\n      <td>157</td>\n      <td>157</td>\n      <td>157</td>\n      <td>157</td>\n      <td>157</td>\n      <td>157</td>\n      <td>157</td>\n      <td>157</td>\n    </tr>\n    <tr>\n      <th>Weak</th>\n      <td>140</td>\n      <td>140</td>\n      <td>140</td>\n      <td>140</td>\n      <td>140</td>\n      <td>140</td>\n      <td>140</td>\n      <td>140</td>\n      <td>140</td>\n      <td>140</td>\n      <td>...</td>\n      <td>140</td>\n      <td>140</td>\n      <td>140</td>\n      <td>140</td>\n      <td>140</td>\n      <td>140</td>\n      <td>140</td>\n      <td>140</td>\n      <td>140</td>\n      <td>140</td>\n    </tr>\n  </tbody>\n</table>\n<p>6 rows × 95 columns</p>\n</div>"
     },
     "execution_count": 8,
     "metadata": {},
     "output_type": "execute_result"
    }
   ],
   "source": [
    "features_combined = features_combined.drop(['MonoisotopicMass', 'ExactMass'], axis=1)\n",
    "features_combined.to_csv('features_DRH Target.csv')\n",
    "features_combined.groupby('Outcome').count()"
   ],
   "metadata": {
    "collapsed": false
   }
  },
  {
   "cell_type": "code",
   "execution_count": null,
   "outputs": [],
   "source": [],
   "metadata": {
    "collapsed": false
   }
  }
 ],
 "metadata": {
  "kernelspec": {
   "display_name": "Python 3",
   "language": "python",
   "name": "python3"
  },
  "language_info": {
   "codemirror_mode": {
    "name": "ipython",
    "version": 2
   },
   "file_extension": ".py",
   "mimetype": "text/x-python",
   "name": "python",
   "nbconvert_exporter": "python",
   "pygments_lexer": "ipython2",
   "version": "2.7.6"
  }
 },
 "nbformat": 4,
 "nbformat_minor": 0
}
