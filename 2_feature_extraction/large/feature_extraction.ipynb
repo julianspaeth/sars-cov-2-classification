{
 "cells": [
  {
   "cell_type": "code",
   "execution_count": 7,
   "metadata": {
    "collapsed": true,
    "ExecuteTime": {
     "end_time": "2023-08-08T06:40:03.296151Z",
     "start_time": "2023-08-08T06:40:03.290768Z"
    }
   },
   "outputs": [],
   "source": [
    "import warnings\n",
    "\n",
    "import numpy as np\n",
    "import pandas as pd\n",
    "import graph_tool as gt\n",
    "from graph_tool import generation\n",
    "\n",
    "import joblib\n",
    "\n",
    "from helper.graph_helper import extract_graph_features, prepare_compound_features, get_neighbors, create_spl_matrix, \\\n",
    "    create_compound_summary_statistics\n",
    "\n",
    "\n",
    "def create_feature_matrix(ppi: gt.Graph, nodes: list, drug_targets: pd.DataFrame, randomization: bool = False, random_state: None or int = None, mercator_df: pd.DataFrame = None):\n",
    "    if randomization:\n",
    "        if random_state is not None:\n",
    "            np.random.seed(random_state)\n",
    "            gt.seed_rng(random_state)\n",
    "\n",
    "        generation.random_rewire(ppi, 'configuration', n_iter=1)\n",
    "        np.random.shuffle(nodes)\n",
    "\n",
    "    cov_targets = pd.read_csv(\"../../0_data/sars_cov2/sars_cov2_targets.txt\", header=None)[0].values.tolist()\n",
    "    cov_targets = list(set(cov_targets).intersection(set(nodes)))\n",
    "\n",
    "    ppi_df = extract_graph_features(ppi, nodes)\n",
    "\n",
    "    if mercator_df is not None:\n",
    "        ppi_df = pd.concat([ppi_df, mercator_df], axis=1)\n",
    "\n",
    "\n",
    "    ppi_df.to_csv(\"ppi_df.csv\", index=True)\n",
    "\n",
    "    drug_targets.loc[:, 'Target'] = drug_targets['Target'].copy().apply(lambda x: \", \".join(set(ppi_df.index).intersection(set(str(x).split(\", \")))))\n",
    "    drug_targets = drug_targets[drug_targets['Target'] != '']\n",
    "    drug_targets.loc[:, 'Neighbor'] = drug_targets['Target'].copy().apply(lambda x: get_neighbors(ppi, x, nodes) if isinstance(x, str) else np.nan)\n",
    "\n",
    "    features = prepare_compound_features(drug_targets, ppi_df)\n",
    "    features.loc[:, 'n_targets'] = features['Target'].copy().apply(lambda x: len(x.split(', ')) if isinstance(x, str) else 0)\n",
    "    features.loc[:, 'n_cov_targets'] = features['Target'].copy().apply(\n",
    "        lambda x: len(set(str(x).split(', ')).intersection(set(cov_targets))))\n",
    "    features.loc[:, 'n_neighbors'] = features['Neighbor'].apply(lambda x: len(x.split(', ')) if isinstance(x, str) else 0)\n",
    "\n",
    "    spl_df = create_spl_matrix(ppi, nodes)\n",
    "    max_spl = spl_df.max().max()\n",
    "    spl_df.loc[:, 'mean_spl'] = spl_df.mean(axis=1, skipna=True, numeric_only=True)\n",
    "    spl_covidome_df = spl_df.loc[:, spl_df.index.intersection(cov_targets)]\n",
    "    spl_covidome_df['mean_spl_to_covidome'] = spl_covidome_df.mean(axis=1)\n",
    "    spl_covidome_df['min_spl_to_covidome'] = spl_covidome_df.min(axis=1)\n",
    "    spl_covidome_df['mean_spl_to_covidome'] = spl_covidome_df['mean_spl_to_covidome'].fillna(max_spl)\n",
    "    spl_covidome_df['min_spl_to_covidome'] = spl_covidome_df['min_spl_to_covidome'].fillna(max_spl)\n",
    "    spl_features = spl_covidome_df.loc[:, ['mean_spl_to_covidome', 'min_spl_to_covidome']]\n",
    "    for col in spl_features.columns:\n",
    "        features = pd.concat([features, create_compound_summary_statistics(drug_targets, spl_features, col, aim='Target').drop(\n",
    "            ['Target', 'Neighbor'], axis=1)], join='inner', axis=1)\n",
    "    features = features.replace({'': np.nan, 'nan': np.nan})\n",
    "\n",
    "    return features"
   ]
  },
  {
   "cell_type": "code",
   "execution_count": 2,
   "outputs": [
    {
     "name": "stdout",
     "output_type": "stream",
     "text": [
      "DRH Target\n"
     ]
    },
    {
     "name": "stderr",
     "output_type": "stream",
     "text": [
      "\n",
      "KeyboardInterrupt\n",
      "\n"
     ]
    }
   ],
   "source": [
    "warnings.filterwarnings('ignore', category=pd.errors.SettingWithCopyWarning)\n",
    "\n",
    "target_df = pd.read_csv('../../0_data/targets/targets.csv', index_col=0)\n",
    "\n",
    "drugs = {}\n",
    "for target_set in target_df.columns:\n",
    "    t = target_df.loc[:, target_set].to_frame()\n",
    "    t.columns = ['Target']\n",
    "    drugs[target_set] = t\n",
    "\n",
    "network_dict = joblib.load(f'../../1_ppi_networks/large_ppi.sav')\n",
    "ppi_network = network_dict['network']\n",
    "ppi_nodes = network_dict['nodes']\n",
    "\n",
    "structure_features = pd.read_csv('../../0_data/structure/structure_features.csv', index_col=0)\n",
    "structure_features = structure_features.loc[:, ~structure_features.columns.str.startswith('Defined')]\n",
    "structure_features = structure_features.loc[:, ~structure_features.columns.str.startswith('Undefined')]\n",
    "structure_features = structure_features.drop(['IsotopeAtomCount', 'DefinedAtomStereoCount', 'UndefinedAtomStereoCount', 'DefinedBondStereoCount', 'UndefinedBondStereoCount'], axis=1, errors=\"ignore\")\n",
    "\n",
    "features = {}\n",
    "\n",
    "for target_set in drugs.keys():\n",
    "    if target_set == \"DRH Target\":\n",
    "        print(target_set)\n",
    "        network_features = create_feature_matrix(ppi=ppi_network, nodes=ppi_nodes, randomization=False, drug_targets=drugs[target_set], mercator_df=None)\n",
    "\n",
    "        features_combined = pd.concat([structure_features, network_features], axis=1, join='inner')\n",
    "        features_combined = features_combined[features_combined['n_targets'] >= 1]\n",
    "        features_combined = features_combined.loc[:, ~features_combined.columns.duplicated()]\n",
    "        features_combined.to_csv(f'features_{target_set}.csv')\n",
    "        \n",
    "        features_combined = features_combined.drop(['MonoisotopicMass', 'ExactMass'], axis=1)\n",
    "        features_combined.to_csv(f'features_{target_set}.csv')\n",
    "\n",
    "print(\"Finished\")"
   ],
   "metadata": {
    "collapsed": false,
    "ExecuteTime": {
     "end_time": "2023-08-08T06:28:19.094952Z",
     "start_time": "2023-08-08T06:28:11.968874Z"
    }
   }
  },
  {
   "cell_type": "code",
   "execution_count": 9,
   "outputs": [
    {
     "name": "stdout",
     "output_type": "stream",
     "text": [
      "DRH Target\n",
      "13\n",
      "14\n",
      "15\n",
      "16\n",
      "17\n",
      "18\n",
      "19\n",
      "20\n",
      "21\n",
      "22\n",
      "23\n",
      "24\n",
      "25\n",
      "26\n",
      "27\n",
      "28\n",
      "29\n",
      "30\n",
      "31\n",
      "32\n",
      "33\n",
      "34\n",
      "35\n",
      "36\n",
      "37\n",
      "38\n",
      "39\n",
      "40\n",
      "41\n",
      "42\n",
      "43\n",
      "44\n",
      "45\n",
      "46\n",
      "47\n",
      "48\n",
      "49\n",
      "50\n",
      "51\n",
      "52\n",
      "53\n"
     ]
    },
    {
     "ename": "KeyboardInterrupt",
     "evalue": "",
     "output_type": "error",
     "traceback": [
      "\u001B[0;31m---------------------------------------------------------------------------\u001B[0m",
      "\u001B[0;31mKeyboardInterrupt\u001B[0m                         Traceback (most recent call last)",
      "Cell \u001B[0;32mIn[9], line 28\u001B[0m\n\u001B[1;32m     26\u001B[0m \u001B[38;5;28;01mfor\u001B[39;00m i \u001B[38;5;129;01min\u001B[39;00m \u001B[38;5;28mrange\u001B[39m(\u001B[38;5;241m13\u001B[39m,\u001B[38;5;241m100\u001B[39m):\n\u001B[1;32m     27\u001B[0m     \u001B[38;5;28mprint\u001B[39m(i)\n\u001B[0;32m---> 28\u001B[0m     network_features \u001B[38;5;241m=\u001B[39m \u001B[43mcreate_feature_matrix\u001B[49m\u001B[43m(\u001B[49m\u001B[43mppi\u001B[49m\u001B[38;5;241;43m=\u001B[39;49m\u001B[43mppi_network\u001B[49m\u001B[43m,\u001B[49m\u001B[43m \u001B[49m\u001B[43mnodes\u001B[49m\u001B[38;5;241;43m=\u001B[39;49m\u001B[43mppi_nodes\u001B[49m\u001B[43m,\u001B[49m\u001B[43m \u001B[49m\u001B[43mrandomization\u001B[49m\u001B[38;5;241;43m=\u001B[39;49m\u001B[38;5;28;43;01mTrue\u001B[39;49;00m\u001B[43m,\u001B[49m\u001B[43m \u001B[49m\u001B[43mdrug_targets\u001B[49m\u001B[38;5;241;43m=\u001B[39;49m\u001B[43mdrugs\u001B[49m\u001B[43m[\u001B[49m\u001B[43mtarget_set\u001B[49m\u001B[43m]\u001B[49m\u001B[43m,\u001B[49m\u001B[43m \u001B[49m\u001B[43mmercator_df\u001B[49m\u001B[38;5;241;43m=\u001B[39;49m\u001B[38;5;28;43;01mNone\u001B[39;49;00m\u001B[43m,\u001B[49m\u001B[43m \u001B[49m\u001B[43mrandom_state\u001B[49m\u001B[38;5;241;43m=\u001B[39;49m\u001B[43mi\u001B[49m\u001B[43m)\u001B[49m\n\u001B[1;32m     30\u001B[0m     features_combined \u001B[38;5;241m=\u001B[39m pd\u001B[38;5;241m.\u001B[39mconcat([structure_features, network_features], axis\u001B[38;5;241m=\u001B[39m\u001B[38;5;241m1\u001B[39m, join\u001B[38;5;241m=\u001B[39m\u001B[38;5;124m'\u001B[39m\u001B[38;5;124minner\u001B[39m\u001B[38;5;124m'\u001B[39m)\n\u001B[1;32m     31\u001B[0m     features_combined \u001B[38;5;241m=\u001B[39m features_combined[features_combined[\u001B[38;5;124m'\u001B[39m\u001B[38;5;124mn_targets\u001B[39m\u001B[38;5;124m'\u001B[39m] \u001B[38;5;241m>\u001B[39m\u001B[38;5;241m=\u001B[39m \u001B[38;5;241m1\u001B[39m]\n",
      "Cell \u001B[0;32mIn[7], line 34\u001B[0m, in \u001B[0;36mcreate_feature_matrix\u001B[0;34m(ppi, nodes, drug_targets, randomization, random_state, mercator_df)\u001B[0m\n\u001B[1;32m     29\u001B[0m     ppi_df \u001B[38;5;241m=\u001B[39m pd\u001B[38;5;241m.\u001B[39mconcat([ppi_df, mercator_df], axis\u001B[38;5;241m=\u001B[39m\u001B[38;5;241m1\u001B[39m)\n\u001B[1;32m     32\u001B[0m ppi_df\u001B[38;5;241m.\u001B[39mto_csv(\u001B[38;5;124m\"\u001B[39m\u001B[38;5;124mppi_df.csv\u001B[39m\u001B[38;5;124m\"\u001B[39m, index\u001B[38;5;241m=\u001B[39m\u001B[38;5;28;01mTrue\u001B[39;00m)\n\u001B[0;32m---> 34\u001B[0m drug_targets\u001B[38;5;241m.\u001B[39mloc[:, \u001B[38;5;124m'\u001B[39m\u001B[38;5;124mTarget\u001B[39m\u001B[38;5;124m'\u001B[39m] \u001B[38;5;241m=\u001B[39m \u001B[43mdrug_targets\u001B[49m\u001B[43m[\u001B[49m\u001B[38;5;124;43m'\u001B[39;49m\u001B[38;5;124;43mTarget\u001B[39;49m\u001B[38;5;124;43m'\u001B[39;49m\u001B[43m]\u001B[49m\u001B[38;5;241;43m.\u001B[39;49m\u001B[43mcopy\u001B[49m\u001B[43m(\u001B[49m\u001B[43m)\u001B[49m\u001B[38;5;241;43m.\u001B[39;49m\u001B[43mapply\u001B[49m\u001B[43m(\u001B[49m\u001B[38;5;28;43;01mlambda\u001B[39;49;00m\u001B[43m \u001B[49m\u001B[43mx\u001B[49m\u001B[43m:\u001B[49m\u001B[43m \u001B[49m\u001B[38;5;124;43m\"\u001B[39;49m\u001B[38;5;124;43m, \u001B[39;49m\u001B[38;5;124;43m\"\u001B[39;49m\u001B[38;5;241;43m.\u001B[39;49m\u001B[43mjoin\u001B[49m\u001B[43m(\u001B[49m\u001B[38;5;28;43mset\u001B[39;49m\u001B[43m(\u001B[49m\u001B[43mppi_df\u001B[49m\u001B[38;5;241;43m.\u001B[39;49m\u001B[43mindex\u001B[49m\u001B[43m)\u001B[49m\u001B[38;5;241;43m.\u001B[39;49m\u001B[43mintersection\u001B[49m\u001B[43m(\u001B[49m\u001B[38;5;28;43mset\u001B[39;49m\u001B[43m(\u001B[49m\u001B[38;5;28;43mstr\u001B[39;49m\u001B[43m(\u001B[49m\u001B[43mx\u001B[49m\u001B[43m)\u001B[49m\u001B[38;5;241;43m.\u001B[39;49m\u001B[43msplit\u001B[49m\u001B[43m(\u001B[49m\u001B[38;5;124;43m\"\u001B[39;49m\u001B[38;5;124;43m, \u001B[39;49m\u001B[38;5;124;43m\"\u001B[39;49m\u001B[43m)\u001B[49m\u001B[43m)\u001B[49m\u001B[43m)\u001B[49m\u001B[43m)\u001B[49m\u001B[43m)\u001B[49m\n\u001B[1;32m     35\u001B[0m drug_targets \u001B[38;5;241m=\u001B[39m drug_targets[drug_targets[\u001B[38;5;124m'\u001B[39m\u001B[38;5;124mTarget\u001B[39m\u001B[38;5;124m'\u001B[39m] \u001B[38;5;241m!=\u001B[39m \u001B[38;5;124m'\u001B[39m\u001B[38;5;124m'\u001B[39m]\n\u001B[1;32m     36\u001B[0m drug_targets\u001B[38;5;241m.\u001B[39mloc[:, \u001B[38;5;124m'\u001B[39m\u001B[38;5;124mNeighbor\u001B[39m\u001B[38;5;124m'\u001B[39m] \u001B[38;5;241m=\u001B[39m drug_targets[\u001B[38;5;124m'\u001B[39m\u001B[38;5;124mTarget\u001B[39m\u001B[38;5;124m'\u001B[39m]\u001B[38;5;241m.\u001B[39mcopy()\u001B[38;5;241m.\u001B[39mapply(\u001B[38;5;28;01mlambda\u001B[39;00m x: get_neighbors(ppi, x, nodes) \u001B[38;5;28;01mif\u001B[39;00m \u001B[38;5;28misinstance\u001B[39m(x, \u001B[38;5;28mstr\u001B[39m) \u001B[38;5;28;01melse\u001B[39;00m np\u001B[38;5;241m.\u001B[39mnan)\n",
      "File \u001B[0;32m~/miniforge3/envs/sars-cov-paper/lib/python3.9/site-packages/pandas/core/series.py:4630\u001B[0m, in \u001B[0;36mSeries.apply\u001B[0;34m(self, func, convert_dtype, args, **kwargs)\u001B[0m\n\u001B[1;32m   4520\u001B[0m \u001B[38;5;28;01mdef\u001B[39;00m \u001B[38;5;21mapply\u001B[39m(\n\u001B[1;32m   4521\u001B[0m     \u001B[38;5;28mself\u001B[39m,\n\u001B[1;32m   4522\u001B[0m     func: AggFuncType,\n\u001B[0;32m   (...)\u001B[0m\n\u001B[1;32m   4525\u001B[0m     \u001B[38;5;241m*\u001B[39m\u001B[38;5;241m*\u001B[39mkwargs,\n\u001B[1;32m   4526\u001B[0m ) \u001B[38;5;241m-\u001B[39m\u001B[38;5;241m>\u001B[39m DataFrame \u001B[38;5;241m|\u001B[39m Series:\n\u001B[1;32m   4527\u001B[0m \u001B[38;5;250m    \u001B[39m\u001B[38;5;124;03m\"\"\"\u001B[39;00m\n\u001B[1;32m   4528\u001B[0m \u001B[38;5;124;03m    Invoke function on values of Series.\u001B[39;00m\n\u001B[1;32m   4529\u001B[0m \n\u001B[0;32m   (...)\u001B[0m\n\u001B[1;32m   4628\u001B[0m \u001B[38;5;124;03m    dtype: float64\u001B[39;00m\n\u001B[1;32m   4629\u001B[0m \u001B[38;5;124;03m    \"\"\"\u001B[39;00m\n\u001B[0;32m-> 4630\u001B[0m     \u001B[38;5;28;01mreturn\u001B[39;00m \u001B[43mSeriesApply\u001B[49m\u001B[43m(\u001B[49m\u001B[38;5;28;43mself\u001B[39;49m\u001B[43m,\u001B[49m\u001B[43m \u001B[49m\u001B[43mfunc\u001B[49m\u001B[43m,\u001B[49m\u001B[43m \u001B[49m\u001B[43mconvert_dtype\u001B[49m\u001B[43m,\u001B[49m\u001B[43m \u001B[49m\u001B[43margs\u001B[49m\u001B[43m,\u001B[49m\u001B[43m \u001B[49m\u001B[43mkwargs\u001B[49m\u001B[43m)\u001B[49m\u001B[38;5;241;43m.\u001B[39;49m\u001B[43mapply\u001B[49m\u001B[43m(\u001B[49m\u001B[43m)\u001B[49m\n",
      "File \u001B[0;32m~/miniforge3/envs/sars-cov-paper/lib/python3.9/site-packages/pandas/core/apply.py:1025\u001B[0m, in \u001B[0;36mSeriesApply.apply\u001B[0;34m(self)\u001B[0m\n\u001B[1;32m   1022\u001B[0m     \u001B[38;5;28;01mreturn\u001B[39;00m \u001B[38;5;28mself\u001B[39m\u001B[38;5;241m.\u001B[39mapply_str()\n\u001B[1;32m   1024\u001B[0m \u001B[38;5;66;03m# self.f is Callable\u001B[39;00m\n\u001B[0;32m-> 1025\u001B[0m \u001B[38;5;28;01mreturn\u001B[39;00m \u001B[38;5;28;43mself\u001B[39;49m\u001B[38;5;241;43m.\u001B[39;49m\u001B[43mapply_standard\u001B[49m\u001B[43m(\u001B[49m\u001B[43m)\u001B[49m\n",
      "File \u001B[0;32m~/miniforge3/envs/sars-cov-paper/lib/python3.9/site-packages/pandas/core/apply.py:1076\u001B[0m, in \u001B[0;36mSeriesApply.apply_standard\u001B[0;34m(self)\u001B[0m\n\u001B[1;32m   1074\u001B[0m     \u001B[38;5;28;01melse\u001B[39;00m:\n\u001B[1;32m   1075\u001B[0m         values \u001B[38;5;241m=\u001B[39m obj\u001B[38;5;241m.\u001B[39mastype(\u001B[38;5;28mobject\u001B[39m)\u001B[38;5;241m.\u001B[39m_values\n\u001B[0;32m-> 1076\u001B[0m         mapped \u001B[38;5;241m=\u001B[39m \u001B[43mlib\u001B[49m\u001B[38;5;241;43m.\u001B[39;49m\u001B[43mmap_infer\u001B[49m\u001B[43m(\u001B[49m\n\u001B[1;32m   1077\u001B[0m \u001B[43m            \u001B[49m\u001B[43mvalues\u001B[49m\u001B[43m,\u001B[49m\n\u001B[1;32m   1078\u001B[0m \u001B[43m            \u001B[49m\u001B[43mf\u001B[49m\u001B[43m,\u001B[49m\n\u001B[1;32m   1079\u001B[0m \u001B[43m            \u001B[49m\u001B[43mconvert\u001B[49m\u001B[38;5;241;43m=\u001B[39;49m\u001B[38;5;28;43mself\u001B[39;49m\u001B[38;5;241;43m.\u001B[39;49m\u001B[43mconvert_dtype\u001B[49m\u001B[43m,\u001B[49m\n\u001B[1;32m   1080\u001B[0m \u001B[43m        \u001B[49m\u001B[43m)\u001B[49m\n\u001B[1;32m   1082\u001B[0m \u001B[38;5;28;01mif\u001B[39;00m \u001B[38;5;28mlen\u001B[39m(mapped) \u001B[38;5;129;01mand\u001B[39;00m \u001B[38;5;28misinstance\u001B[39m(mapped[\u001B[38;5;241m0\u001B[39m], ABCSeries):\n\u001B[1;32m   1083\u001B[0m     \u001B[38;5;66;03m# GH#43986 Need to do list(mapped) in order to get treated as nested\u001B[39;00m\n\u001B[1;32m   1084\u001B[0m     \u001B[38;5;66;03m#  See also GH#25959 regarding EA support\u001B[39;00m\n\u001B[1;32m   1085\u001B[0m     \u001B[38;5;28;01mreturn\u001B[39;00m obj\u001B[38;5;241m.\u001B[39m_constructor_expanddim(\u001B[38;5;28mlist\u001B[39m(mapped), index\u001B[38;5;241m=\u001B[39mobj\u001B[38;5;241m.\u001B[39mindex)\n",
      "File \u001B[0;32m~/miniforge3/envs/sars-cov-paper/lib/python3.9/site-packages/pandas/_libs/lib.pyx:2834\u001B[0m, in \u001B[0;36mpandas._libs.lib.map_infer\u001B[0;34m()\u001B[0m\n",
      "Cell \u001B[0;32mIn[7], line 34\u001B[0m, in \u001B[0;36mcreate_feature_matrix.<locals>.<lambda>\u001B[0;34m(x)\u001B[0m\n\u001B[1;32m     29\u001B[0m     ppi_df \u001B[38;5;241m=\u001B[39m pd\u001B[38;5;241m.\u001B[39mconcat([ppi_df, mercator_df], axis\u001B[38;5;241m=\u001B[39m\u001B[38;5;241m1\u001B[39m)\n\u001B[1;32m     32\u001B[0m ppi_df\u001B[38;5;241m.\u001B[39mto_csv(\u001B[38;5;124m\"\u001B[39m\u001B[38;5;124mppi_df.csv\u001B[39m\u001B[38;5;124m\"\u001B[39m, index\u001B[38;5;241m=\u001B[39m\u001B[38;5;28;01mTrue\u001B[39;00m)\n\u001B[0;32m---> 34\u001B[0m drug_targets\u001B[38;5;241m.\u001B[39mloc[:, \u001B[38;5;124m'\u001B[39m\u001B[38;5;124mTarget\u001B[39m\u001B[38;5;124m'\u001B[39m] \u001B[38;5;241m=\u001B[39m drug_targets[\u001B[38;5;124m'\u001B[39m\u001B[38;5;124mTarget\u001B[39m\u001B[38;5;124m'\u001B[39m]\u001B[38;5;241m.\u001B[39mcopy()\u001B[38;5;241m.\u001B[39mapply(\u001B[38;5;28;01mlambda\u001B[39;00m x: \u001B[38;5;124m\"\u001B[39m\u001B[38;5;124m, \u001B[39m\u001B[38;5;124m\"\u001B[39m\u001B[38;5;241m.\u001B[39mjoin(\u001B[38;5;28;43mset\u001B[39;49m\u001B[43m(\u001B[49m\u001B[43mppi_df\u001B[49m\u001B[38;5;241;43m.\u001B[39;49m\u001B[43mindex\u001B[49m\u001B[43m)\u001B[49m\u001B[38;5;241;43m.\u001B[39;49m\u001B[43mintersection\u001B[49m\u001B[43m(\u001B[49m\u001B[38;5;28;43mset\u001B[39;49m\u001B[43m(\u001B[49m\u001B[38;5;28;43mstr\u001B[39;49m\u001B[43m(\u001B[49m\u001B[43mx\u001B[49m\u001B[43m)\u001B[49m\u001B[38;5;241;43m.\u001B[39;49m\u001B[43msplit\u001B[49m\u001B[43m(\u001B[49m\u001B[38;5;124;43m\"\u001B[39;49m\u001B[38;5;124;43m, \u001B[39;49m\u001B[38;5;124;43m\"\u001B[39;49m\u001B[43m)\u001B[49m\u001B[43m)\u001B[49m\u001B[43m)\u001B[49m))\n\u001B[1;32m     35\u001B[0m drug_targets \u001B[38;5;241m=\u001B[39m drug_targets[drug_targets[\u001B[38;5;124m'\u001B[39m\u001B[38;5;124mTarget\u001B[39m\u001B[38;5;124m'\u001B[39m] \u001B[38;5;241m!=\u001B[39m \u001B[38;5;124m'\u001B[39m\u001B[38;5;124m'\u001B[39m]\n\u001B[1;32m     36\u001B[0m drug_targets\u001B[38;5;241m.\u001B[39mloc[:, \u001B[38;5;124m'\u001B[39m\u001B[38;5;124mNeighbor\u001B[39m\u001B[38;5;124m'\u001B[39m] \u001B[38;5;241m=\u001B[39m drug_targets[\u001B[38;5;124m'\u001B[39m\u001B[38;5;124mTarget\u001B[39m\u001B[38;5;124m'\u001B[39m]\u001B[38;5;241m.\u001B[39mcopy()\u001B[38;5;241m.\u001B[39mapply(\u001B[38;5;28;01mlambda\u001B[39;00m x: get_neighbors(ppi, x, nodes) \u001B[38;5;28;01mif\u001B[39;00m \u001B[38;5;28misinstance\u001B[39m(x, \u001B[38;5;28mstr\u001B[39m) \u001B[38;5;28;01melse\u001B[39;00m np\u001B[38;5;241m.\u001B[39mnan)\n",
      "\u001B[0;31mKeyboardInterrupt\u001B[0m: "
     ]
    }
   ],
   "source": [
    "warnings.filterwarnings('ignore', category=pd.errors.SettingWithCopyWarning)\n",
    "\n",
    "\n",
    "target_df = pd.read_csv('../../0_data/targets/targets.csv', index_col=0)\n",
    "\n",
    "drugs = {}\n",
    "for target_set in target_df.columns:\n",
    "    t = target_df.loc[:, target_set].to_frame()\n",
    "    t.columns = ['Target']\n",
    "    drugs[target_set] = t\n",
    "\n",
    "network_dict = joblib.load(f'../../1_ppi_networks/large_ppi.sav')\n",
    "ppi_network = network_dict['network']\n",
    "ppi_nodes = network_dict['nodes']\n",
    "\n",
    "structure_features = pd.read_csv('../../0_data/structure/structure_features.csv', index_col=0)\n",
    "structure_features = structure_features.loc[:, ~structure_features.columns.str.startswith('Defined')]\n",
    "structure_features = structure_features.loc[:, ~structure_features.columns.str.startswith('Undefined')]\n",
    "structure_features = structure_features.drop(['IsotopeAtomCount', 'DefinedAtomStereoCount', 'UndefinedAtomStereoCount', 'DefinedBondStereoCount', 'UndefinedBondStereoCount'], axis=1, errors=\"ignore\")\n",
    "\n",
    "features = {}\n",
    "\n",
    "for target_set in drugs.keys():\n",
    "    if target_set == \"DRH Target\":\n",
    "        print(target_set)\n",
    "        for i in range(13,100):\n",
    "            print(i)\n",
    "            network_features = create_feature_matrix(ppi=ppi_network, nodes=ppi_nodes, randomization=True, drug_targets=drugs[target_set], mercator_df=None, random_state=i)\n",
    "    \n",
    "            features_combined = pd.concat([structure_features, network_features], axis=1, join='inner')\n",
    "            features_combined = features_combined[features_combined['n_targets'] >= 1]\n",
    "            features_combined = features_combined.loc[:, ~features_combined.columns.duplicated()]\n",
    "            features_combined.to_csv(f'features_{target_set}.csv')\n",
    "            \n",
    "            features_combined = features_combined.drop(['MonoisotopicMass', 'ExactMass'], axis=1)\n",
    "            features_combined.to_csv(f'rand_{i}_features_{target_set}.csv')\n",
    "\n",
    "print(\"Finished\")"
   ],
   "metadata": {
    "collapsed": false,
    "ExecuteTime": {
     "start_time": "2023-08-08T06:40:53.770773Z"
    }
   }
  },
  {
   "cell_type": "code",
   "execution_count": null,
   "outputs": [],
   "source": [],
   "metadata": {
    "collapsed": false,
    "ExecuteTime": {
     "end_time": "2023-08-04T07:14:32.993020Z",
     "start_time": "2023-08-04T07:14:32.990696Z"
    }
   }
  },
  {
   "cell_type": "code",
   "execution_count": null,
   "outputs": [],
   "source": [],
   "metadata": {
    "collapsed": false
   }
  }
 ],
 "metadata": {
  "kernelspec": {
   "display_name": "Python 3",
   "language": "python",
   "name": "python3"
  },
  "language_info": {
   "codemirror_mode": {
    "name": "ipython",
    "version": 2
   },
   "file_extension": ".py",
   "mimetype": "text/x-python",
   "name": "python",
   "nbconvert_exporter": "python",
   "pygments_lexer": "ipython2",
   "version": "2.7.6"
  }
 },
 "nbformat": 4,
 "nbformat_minor": 0
}
