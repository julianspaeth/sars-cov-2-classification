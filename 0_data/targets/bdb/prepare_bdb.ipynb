{
 "cells": [
  {
   "cell_type": "code",
   "execution_count": 11,
   "outputs": [],
   "source": [
    "import pandas as pd\n",
    "from helper.misc import flatten\n",
    "import mygene\n",
    "\n",
    "mg = mygene.MyGeneInfo()"
   ],
   "metadata": {
    "collapsed": false,
    "pycharm": {
     "name": "#%%\n"
    }
   }
  },
  {
   "cell_type": "code",
   "execution_count": 12,
   "outputs": [
    {
     "data": {
      "text/plain": "                                                                         Target\nName                                                                           \n(R)-(-)-apomorphine           ADRA2A, ADRA2B, ADRA2C, CALY, DRD1, DRD2, DRD3...\n(R)-(-)-rolipram                              PDE4A, PDE4B, PDE4C, PDE4D, PDE5A\n(R)-baclofen                                                     GABBR1, GABBR2\n(S)-(+)-rolipram                                                   PDE4B, PDE4D\n[sar9,met(o2)11]-substance-p                                              TACR1\n...                                                                         ...\n8-M-PDOT                                                         MTNR1A, MTNR1B\n80841-78-7                                                                  NaN\n9-aminoacridine                                                             NaN\n9-aminocamptothecin                                                        TOP1\n9-anthracenecarboxylic-acid                                         ANO1, CLCN1\n\n[6798 rows x 1 columns]",
      "text/html": "<div>\n<style scoped>\n    .dataframe tbody tr th:only-of-type {\n        vertical-align: middle;\n    }\n\n    .dataframe tbody tr th {\n        vertical-align: top;\n    }\n\n    .dataframe thead th {\n        text-align: right;\n    }\n</style>\n<table border=\"1\" class=\"dataframe\">\n  <thead>\n    <tr style=\"text-align: right;\">\n      <th></th>\n      <th>Target</th>\n    </tr>\n    <tr>\n      <th>Name</th>\n      <th></th>\n    </tr>\n  </thead>\n  <tbody>\n    <tr>\n      <th>(R)-(-)-apomorphine</th>\n      <td>ADRA2A, ADRA2B, ADRA2C, CALY, DRD1, DRD2, DRD3...</td>\n    </tr>\n    <tr>\n      <th>(R)-(-)-rolipram</th>\n      <td>PDE4A, PDE4B, PDE4C, PDE4D, PDE5A</td>\n    </tr>\n    <tr>\n      <th>(R)-baclofen</th>\n      <td>GABBR1, GABBR2</td>\n    </tr>\n    <tr>\n      <th>(S)-(+)-rolipram</th>\n      <td>PDE4B, PDE4D</td>\n    </tr>\n    <tr>\n      <th>[sar9,met(o2)11]-substance-p</th>\n      <td>TACR1</td>\n    </tr>\n    <tr>\n      <th>...</th>\n      <td>...</td>\n    </tr>\n    <tr>\n      <th>8-M-PDOT</th>\n      <td>MTNR1A, MTNR1B</td>\n    </tr>\n    <tr>\n      <th>80841-78-7</th>\n      <td>NaN</td>\n    </tr>\n    <tr>\n      <th>9-aminoacridine</th>\n      <td>NaN</td>\n    </tr>\n    <tr>\n      <th>9-aminocamptothecin</th>\n      <td>TOP1</td>\n    </tr>\n    <tr>\n      <th>9-anthracenecarboxylic-acid</th>\n      <td>ANO1, CLCN1</td>\n    </tr>\n  </tbody>\n</table>\n<p>6798 rows × 1 columns</p>\n</div>"
     },
     "execution_count": 12,
     "metadata": {},
     "output_type": "execute_result"
    }
   ],
   "source": [
    "repurposing_hub_drug_targets = pd.read_csv(\"../../data/primary_data/repurposing_hub_drug_targets.txt\", sep=\"\\t\").drop(\n",
    "    ['MOA', 'Phase'], axis=1).set_index('Name')\n",
    "repurposing_hub_drug_targets = repurposing_hub_drug_targets[\n",
    "    ~repurposing_hub_drug_targets.index.duplicated(keep='first')]\n",
    "repurposing_hub_drug_targets"
   ],
   "metadata": {
    "collapsed": false,
    "pycharm": {
     "name": "#%%\n"
    }
   }
  },
  {
   "cell_type": "code",
   "execution_count": 29,
   "outputs": [
    {
     "data": {
      "text/plain": "                                   broad_id                     InChIKey\nName                                                                    \n(R)-(-)-apomorphine           BRD-K76022557  VMWNQDUVQKEIOC-CYBMUJFWSA-N\n(R)-(-)-rolipram              BRD-K75516118  HJORMJIFDVBMOB-LBPRGKRZSA-N\n(R)-baclofen                  BRD-K62353271  KPYSYYIEGFHWSV-QMMMGPOBSA-N\n(S)-(+)-rolipram              BRD-K65856711  HJORMJIFDVBMOB-GFCCVEGCSA-N\n[sar9,met(o2)11]-substance-p  BRD-K89787693  OUPXSLGGCPUZJJ-SARDKLJWSA-N\n...                                     ...                          ...\nzoxazolamine                  BRD-K66353228  YGCODSQDUUUKIV-UHFFFAOYSA-N\nZSET1446                      BRD-K35984734  QZWYXEBIQWJXAR-UHFFFAOYSA-N\nZSTK-474                      BRD-K63068307  HGVNLRPZOWWDKD-UHFFFAOYSA-N\nzuclopenthixol                BRD-K28761384  WFPIAZLQTJBIFN-DVZOWYKESA-N\nzuranolone                    BRD-K00003448  HARRKNSQXBRBGZ-GVKWWOCJSA-N\n\n[6798 rows x 2 columns]",
      "text/html": "<div>\n<style scoped>\n    .dataframe tbody tr th:only-of-type {\n        vertical-align: middle;\n    }\n\n    .dataframe tbody tr th {\n        vertical-align: top;\n    }\n\n    .dataframe thead th {\n        text-align: right;\n    }\n</style>\n<table border=\"1\" class=\"dataframe\">\n  <thead>\n    <tr style=\"text-align: right;\">\n      <th></th>\n      <th>broad_id</th>\n      <th>InChIKey</th>\n    </tr>\n    <tr>\n      <th>Name</th>\n      <th></th>\n      <th></th>\n    </tr>\n  </thead>\n  <tbody>\n    <tr>\n      <th>(R)-(-)-apomorphine</th>\n      <td>BRD-K76022557</td>\n      <td>VMWNQDUVQKEIOC-CYBMUJFWSA-N</td>\n    </tr>\n    <tr>\n      <th>(R)-(-)-rolipram</th>\n      <td>BRD-K75516118</td>\n      <td>HJORMJIFDVBMOB-LBPRGKRZSA-N</td>\n    </tr>\n    <tr>\n      <th>(R)-baclofen</th>\n      <td>BRD-K62353271</td>\n      <td>KPYSYYIEGFHWSV-QMMMGPOBSA-N</td>\n    </tr>\n    <tr>\n      <th>(S)-(+)-rolipram</th>\n      <td>BRD-K65856711</td>\n      <td>HJORMJIFDVBMOB-GFCCVEGCSA-N</td>\n    </tr>\n    <tr>\n      <th>[sar9,met(o2)11]-substance-p</th>\n      <td>BRD-K89787693</td>\n      <td>OUPXSLGGCPUZJJ-SARDKLJWSA-N</td>\n    </tr>\n    <tr>\n      <th>...</th>\n      <td>...</td>\n      <td>...</td>\n    </tr>\n    <tr>\n      <th>zoxazolamine</th>\n      <td>BRD-K66353228</td>\n      <td>YGCODSQDUUUKIV-UHFFFAOYSA-N</td>\n    </tr>\n    <tr>\n      <th>ZSET1446</th>\n      <td>BRD-K35984734</td>\n      <td>QZWYXEBIQWJXAR-UHFFFAOYSA-N</td>\n    </tr>\n    <tr>\n      <th>ZSTK-474</th>\n      <td>BRD-K63068307</td>\n      <td>HGVNLRPZOWWDKD-UHFFFAOYSA-N</td>\n    </tr>\n    <tr>\n      <th>zuclopenthixol</th>\n      <td>BRD-K28761384</td>\n      <td>WFPIAZLQTJBIFN-DVZOWYKESA-N</td>\n    </tr>\n    <tr>\n      <th>zuranolone</th>\n      <td>BRD-K00003448</td>\n      <td>HARRKNSQXBRBGZ-GVKWWOCJSA-N</td>\n    </tr>\n  </tbody>\n</table>\n<p>6798 rows × 2 columns</p>\n</div>"
     },
     "execution_count": 29,
     "metadata": {},
     "output_type": "execute_result"
    }
   ],
   "source": [
    "repurposing_hub_drugs = pd.read_csv('../../data/primary_data/repurposing_hub_drugs.txt', skiprows=9, sep='\\t')\n",
    "repurposing_hub_drugs['broad_id'] = repurposing_hub_drugs['broad_id'].apply(lambda x: x[:-9])\n",
    "repurposing_hub_drugs = repurposing_hub_drugs.loc[:, ['broad_id', 'pert_iname', 'InChIKey']].drop_duplicates().rename(\n",
    "    {'pert_iname': 'Name'}, axis=1).set_index('Name')\n",
    "repurposing_hub_drugs = repurposing_hub_drugs[~repurposing_hub_drugs.index.duplicated(keep='first')]\n",
    "repurposing_hub_drugs"
   ],
   "metadata": {
    "collapsed": false,
    "pycharm": {
     "name": "#%%\n"
    }
   }
  },
  {
   "cell_type": "code",
   "execution_count": 30,
   "outputs": [
    {
     "data": {
      "text/plain": "                                                                        Target  \\\nInChIKey                                                                         \nVMWNQDUVQKEIOC-CYBMUJFWSA-N  ADRA2A, ADRA2B, ADRA2C, CALY, DRD1, DRD2, DRD3...   \nHJORMJIFDVBMOB-LBPRGKRZSA-N                  PDE4A, PDE4B, PDE4C, PDE4D, PDE5A   \nKPYSYYIEGFHWSV-QMMMGPOBSA-N                                     GABBR1, GABBR2   \nHJORMJIFDVBMOB-GFCCVEGCSA-N                                       PDE4B, PDE4D   \nOUPXSLGGCPUZJJ-SARDKLJWSA-N                                              TACR1   \n...                                                                        ...   \nRVIGBTUDFAGRTQ-NSHDSACASA-N                                     MTNR1A, MTNR1B   \nQCLFSYYUWPUWQR-UHFFFAOYSA-N                                                NaN   \nXJGFWWJLMVZSIG-UHFFFAOYSA-N                                                NaN   \nFUXVKZWTXQUGMW-FQEVSTJZSA-N                                               TOP1   \nXGWFJBFNAQHLEF-UHFFFAOYSA-N                                        ANO1, CLCN1   \n\n                                  broad_id  \nInChIKey                                    \nVMWNQDUVQKEIOC-CYBMUJFWSA-N  BRD-K76022557  \nHJORMJIFDVBMOB-LBPRGKRZSA-N  BRD-K75516118  \nKPYSYYIEGFHWSV-QMMMGPOBSA-N  BRD-K62353271  \nHJORMJIFDVBMOB-GFCCVEGCSA-N  BRD-K65856711  \nOUPXSLGGCPUZJJ-SARDKLJWSA-N  BRD-K89787693  \n...                                    ...  \nRVIGBTUDFAGRTQ-NSHDSACASA-N  BRD-A07232941  \nQCLFSYYUWPUWQR-UHFFFAOYSA-N  BRD-K03044000  \nXJGFWWJLMVZSIG-UHFFFAOYSA-N  BRD-K00535541  \nFUXVKZWTXQUGMW-FQEVSTJZSA-N  BRD-K09291936  \nXGWFJBFNAQHLEF-UHFFFAOYSA-N  BRD-K62607075  \n\n[6769 rows x 2 columns]",
      "text/html": "<div>\n<style scoped>\n    .dataframe tbody tr th:only-of-type {\n        vertical-align: middle;\n    }\n\n    .dataframe tbody tr th {\n        vertical-align: top;\n    }\n\n    .dataframe thead th {\n        text-align: right;\n    }\n</style>\n<table border=\"1\" class=\"dataframe\">\n  <thead>\n    <tr style=\"text-align: right;\">\n      <th></th>\n      <th>Target</th>\n      <th>broad_id</th>\n    </tr>\n    <tr>\n      <th>InChIKey</th>\n      <th></th>\n      <th></th>\n    </tr>\n  </thead>\n  <tbody>\n    <tr>\n      <th>VMWNQDUVQKEIOC-CYBMUJFWSA-N</th>\n      <td>ADRA2A, ADRA2B, ADRA2C, CALY, DRD1, DRD2, DRD3...</td>\n      <td>BRD-K76022557</td>\n    </tr>\n    <tr>\n      <th>HJORMJIFDVBMOB-LBPRGKRZSA-N</th>\n      <td>PDE4A, PDE4B, PDE4C, PDE4D, PDE5A</td>\n      <td>BRD-K75516118</td>\n    </tr>\n    <tr>\n      <th>KPYSYYIEGFHWSV-QMMMGPOBSA-N</th>\n      <td>GABBR1, GABBR2</td>\n      <td>BRD-K62353271</td>\n    </tr>\n    <tr>\n      <th>HJORMJIFDVBMOB-GFCCVEGCSA-N</th>\n      <td>PDE4B, PDE4D</td>\n      <td>BRD-K65856711</td>\n    </tr>\n    <tr>\n      <th>OUPXSLGGCPUZJJ-SARDKLJWSA-N</th>\n      <td>TACR1</td>\n      <td>BRD-K89787693</td>\n    </tr>\n    <tr>\n      <th>...</th>\n      <td>...</td>\n      <td>...</td>\n    </tr>\n    <tr>\n      <th>RVIGBTUDFAGRTQ-NSHDSACASA-N</th>\n      <td>MTNR1A, MTNR1B</td>\n      <td>BRD-A07232941</td>\n    </tr>\n    <tr>\n      <th>QCLFSYYUWPUWQR-UHFFFAOYSA-N</th>\n      <td>NaN</td>\n      <td>BRD-K03044000</td>\n    </tr>\n    <tr>\n      <th>XJGFWWJLMVZSIG-UHFFFAOYSA-N</th>\n      <td>NaN</td>\n      <td>BRD-K00535541</td>\n    </tr>\n    <tr>\n      <th>FUXVKZWTXQUGMW-FQEVSTJZSA-N</th>\n      <td>TOP1</td>\n      <td>BRD-K09291936</td>\n    </tr>\n    <tr>\n      <th>XGWFJBFNAQHLEF-UHFFFAOYSA-N</th>\n      <td>ANO1, CLCN1</td>\n      <td>BRD-K62607075</td>\n    </tr>\n  </tbody>\n</table>\n<p>6769 rows × 2 columns</p>\n</div>"
     },
     "execution_count": 30,
     "metadata": {},
     "output_type": "execute_result"
    }
   ],
   "source": [
    "drh = pd.concat([repurposing_hub_drug_targets, repurposing_hub_drugs], axis=1).set_index('InChIKey')\n",
    "drh = drh[~drh.index.duplicated(keep='first')]\n",
    "drh"
   ],
   "metadata": {
    "collapsed": false,
    "pycharm": {
     "name": "#%%\n"
    }
   }
  },
  {
   "cell_type": "code",
   "execution_count": 42,
   "outputs": [
    {
     "name": "stdout",
     "output_type": "stream",
     "text": [
      "querying 1-1000...done.\n",
      "querying 1001-1787...done.\n",
      "Finished.\n",
      "12 input query terms found dup hits:\n",
      "\t[('P0C869', 2), ('P31941', 2), ('Q96BR1', 2), ('P36544', 2), ('P47929', 2), ('P57059', 2), ('Q9NQU5'\n",
      "19 input query terms found no hit:\n",
      "\t['P29477', 'Q92753', 'P0DUB6,P0DTE7,P0DTE8', 'P42227', 'P19835', 'P0DMV8,P0DMV9', 'P61169', 'P29476'\n",
      "Pass \"returnall=True\" to return complete lists of duplicate or missing query terms.\n"
     ]
    },
    {
     "data": {
      "text/plain": "query\nQ8NE63      HIPK4\nQ6P1M0    SLC27A4\nP14384        CPM\nQ8N4C6        NIN\nQ04771      ACVR1\n           ...   \nP51575      P2RX1\nQ16739       UGCG\nQ9Y6R4     MAP3K4\nP30556      AGTR1\nP48443       RXRG\nName: symbol, Length: 1780, dtype: object"
     },
     "execution_count": 42,
     "metadata": {},
     "output_type": "execute_result"
    }
   ],
   "source": [
    "bdb = pd.read_csv('BindingDB_All_2022m4.tsv.zip', compression='zip', sep=\"\\t\",\n",
    "                  usecols=['Ligand InChI Key', 'Target Source Organism According to Curator or DataSource',\n",
    "                           'UniProt (SwissProt) Primary ID of Target Chain'], low_memory=False)\n",
    "bdb = bdb[bdb['Target Source Organism According to Curator or DataSource'] == 'Homo sapiens'].drop(\n",
    "    'Target Source Organism According to Curator or DataSource', axis=1).dropna()\n",
    "bdb = bdb.groupby('Ligand InChI Key')['UniProt (SwissProt) Primary ID of Target Chain'].apply(\n",
    "    lambda x: ', '.join(x)).to_frame()\n",
    "\n",
    "uniprots = list(\n",
    "    set(flatten(bdb.loc[:, 'UniProt (SwissProt) Primary ID of Target Chain'].apply(lambda x: str(x).split(', ')))))\n",
    "uniprot_gene_mapping = mg.querymany(uniprots, scopes='uniprot', fields='symbol', species='human',\n",
    "                                    as_dataframe=True).loc[:, 'symbol'].dropna()\n",
    "uniprot_gene_mapping"
   ],
   "metadata": {
    "collapsed": false,
    "pycharm": {
     "name": "#%%\n"
    }
   }
  },
  {
   "cell_type": "code",
   "execution_count": 57,
   "outputs": [
    {
     "data": {
      "text/plain": "1787"
     },
     "execution_count": 57,
     "metadata": {},
     "output_type": "execute_result"
    }
   ],
   "source": [
    "uniprots = list(\n",
    "    set(flatten(bdb.loc[:, 'UniProt (SwissProt) Primary ID of Target Chain'].apply(lambda x: str(x).split(', ')))))\n",
    "len(uniprots)"
   ],
   "metadata": {
    "collapsed": false,
    "pycharm": {
     "name": "#%%\n"
    }
   }
  },
  {
   "cell_type": "code",
   "execution_count": 59,
   "outputs": [
    {
     "data": {
      "text/plain": "                            UniProt (SwissProt) Primary ID of Target Chain  \\\nLigand InChI Key                                                             \nAAAAEENPAALFRN-UHFFFAOYSA-N                                         Q9UBL9   \nAAAAZQPHATYWOK-JXMROGBWSA-N                                         P00533   \nAAACBXVBBDAYRQ-UHFFFAOYSA-N                                         Q5S007   \nAAADCKOTKJSVMJ-SZNDQCEHSA-N                                         P56524   \nAAADPBLPXCELKR-UHFFFAOYSA-N                                         P20309   \n...                                                                    ...   \nZZZWVADOTWQQFE-VWLOTQADSA-N                                         P00742   \nZZZWVMJSEFVIAC-UHFFFAOYSA-N                                 Q13535, Q13535   \nZZZYFYOJEILVNN-UHFFFAOYSA-N                                         P08246   \nZZZYHIMVKOHVIH-UHFFFAOYSA-N                                         P24468   \nZZZYUEUIXFBSTB-UHFFFAOYSA-N                                 P20292, P20292   \n\n                            BDB Target  \nLigand InChI Key                        \nAAAAEENPAALFRN-UHFFFAOYSA-N    [P2RX2]  \nAAAAZQPHATYWOK-JXMROGBWSA-N     [EGFR]  \nAAACBXVBBDAYRQ-UHFFFAOYSA-N    [LRRK2]  \nAAADCKOTKJSVMJ-SZNDQCEHSA-N    [HDAC4]  \nAAADPBLPXCELKR-UHFFFAOYSA-N    [CHRM3]  \n...                                ...  \nZZZWVADOTWQQFE-VWLOTQADSA-N      [F10]  \nZZZWVMJSEFVIAC-UHFFFAOYSA-N      [ATR]  \nZZZYFYOJEILVNN-UHFFFAOYSA-N    [ELANE]  \nZZZYHIMVKOHVIH-UHFFFAOYSA-N    [NR2F2]  \nZZZYUEUIXFBSTB-UHFFFAOYSA-N  [ALOX5AP]  \n\n[575654 rows x 2 columns]",
      "text/html": "<div>\n<style scoped>\n    .dataframe tbody tr th:only-of-type {\n        vertical-align: middle;\n    }\n\n    .dataframe tbody tr th {\n        vertical-align: top;\n    }\n\n    .dataframe thead th {\n        text-align: right;\n    }\n</style>\n<table border=\"1\" class=\"dataframe\">\n  <thead>\n    <tr style=\"text-align: right;\">\n      <th></th>\n      <th>UniProt (SwissProt) Primary ID of Target Chain</th>\n      <th>BDB Target</th>\n    </tr>\n    <tr>\n      <th>Ligand InChI Key</th>\n      <th></th>\n      <th></th>\n    </tr>\n  </thead>\n  <tbody>\n    <tr>\n      <th>AAAAEENPAALFRN-UHFFFAOYSA-N</th>\n      <td>Q9UBL9</td>\n      <td>[P2RX2]</td>\n    </tr>\n    <tr>\n      <th>AAAAZQPHATYWOK-JXMROGBWSA-N</th>\n      <td>P00533</td>\n      <td>[EGFR]</td>\n    </tr>\n    <tr>\n      <th>AAACBXVBBDAYRQ-UHFFFAOYSA-N</th>\n      <td>Q5S007</td>\n      <td>[LRRK2]</td>\n    </tr>\n    <tr>\n      <th>AAADCKOTKJSVMJ-SZNDQCEHSA-N</th>\n      <td>P56524</td>\n      <td>[HDAC4]</td>\n    </tr>\n    <tr>\n      <th>AAADPBLPXCELKR-UHFFFAOYSA-N</th>\n      <td>P20309</td>\n      <td>[CHRM3]</td>\n    </tr>\n    <tr>\n      <th>...</th>\n      <td>...</td>\n      <td>...</td>\n    </tr>\n    <tr>\n      <th>ZZZWVADOTWQQFE-VWLOTQADSA-N</th>\n      <td>P00742</td>\n      <td>[F10]</td>\n    </tr>\n    <tr>\n      <th>ZZZWVMJSEFVIAC-UHFFFAOYSA-N</th>\n      <td>Q13535, Q13535</td>\n      <td>[ATR]</td>\n    </tr>\n    <tr>\n      <th>ZZZYFYOJEILVNN-UHFFFAOYSA-N</th>\n      <td>P08246</td>\n      <td>[ELANE]</td>\n    </tr>\n    <tr>\n      <th>ZZZYHIMVKOHVIH-UHFFFAOYSA-N</th>\n      <td>P24468</td>\n      <td>[NR2F2]</td>\n    </tr>\n    <tr>\n      <th>ZZZYUEUIXFBSTB-UHFFFAOYSA-N</th>\n      <td>P20292, P20292</td>\n      <td>[ALOX5AP]</td>\n    </tr>\n  </tbody>\n</table>\n<p>575654 rows × 2 columns</p>\n</div>"
     },
     "execution_count": 59,
     "metadata": {},
     "output_type": "execute_result"
    }
   ],
   "source": [
    "bdb"
   ],
   "metadata": {
    "collapsed": false,
    "pycharm": {
     "name": "#%%\n"
    }
   }
  },
  {
   "cell_type": "code",
   "execution_count": 67,
   "outputs": [],
   "source": [
    "import numpy as np\n",
    "\n",
    "\n",
    "def map_uniprot_to_gene(x):\n",
    "    uniprot_genes = list(map(str.strip, x.split(\",\")))\n",
    "    gene_names = []\n",
    "    for x in uniprot_genes:\n",
    "        if x in uniprot_gene_mapping.index:\n",
    "            mapping = uniprot_gene_mapping.loc[x]\n",
    "            if type(mapping) == pd.Series:\n",
    "                gene_names.append(mapping.values[0])\n",
    "            else:\n",
    "                gene_names.append(mapping)\n",
    "\n",
    "    return \", \".join(gene_names)\n",
    "\n",
    "\n",
    "bdb['BDB Target'] = bdb['UniProt (SwissProt) Primary ID of Target Chain'].apply(\n",
    "    lambda x: map_uniprot_to_gene(str(x)))\n",
    "\n",
    "\n",
    "def list_to_string(x):\n",
    "    try:\n",
    "        str_list = \", \".join(x)\n",
    "    except TypeError:\n",
    "        ls = [str(xs) for xs in x]\n",
    "        str_list = \", \".join(ls)\n",
    "    return str_list\n",
    "\n"
   ],
   "metadata": {
    "collapsed": false,
    "pycharm": {
     "name": "#%%\n"
    }
   }
  },
  {
   "cell_type": "code",
   "execution_count": 68,
   "outputs": [
    {
     "data": {
      "text/plain": "                            UniProt (SwissProt) Primary ID of Target Chain  \\\nLigand InChI Key                                                             \nAAAAEENPAALFRN-UHFFFAOYSA-N                                         Q9UBL9   \nAAAAZQPHATYWOK-JXMROGBWSA-N                                         P00533   \nAAACBXVBBDAYRQ-UHFFFAOYSA-N                                         Q5S007   \nAAADCKOTKJSVMJ-SZNDQCEHSA-N                                         P56524   \nAAADPBLPXCELKR-UHFFFAOYSA-N                                         P20309   \n...                                                                    ...   \nZZZWVADOTWQQFE-VWLOTQADSA-N                                         P00742   \nZZZWVMJSEFVIAC-UHFFFAOYSA-N                                 Q13535, Q13535   \nZZZYFYOJEILVNN-UHFFFAOYSA-N                                         P08246   \nZZZYHIMVKOHVIH-UHFFFAOYSA-N                                         P24468   \nZZZYUEUIXFBSTB-UHFFFAOYSA-N                                 P20292, P20292   \n\n                                   BDB Target  \nLigand InChI Key                               \nAAAAEENPAALFRN-UHFFFAOYSA-N             P2RX2  \nAAAAZQPHATYWOK-JXMROGBWSA-N              EGFR  \nAAACBXVBBDAYRQ-UHFFFAOYSA-N             LRRK2  \nAAADCKOTKJSVMJ-SZNDQCEHSA-N             HDAC4  \nAAADPBLPXCELKR-UHFFFAOYSA-N             CHRM3  \n...                                       ...  \nZZZWVADOTWQQFE-VWLOTQADSA-N               F10  \nZZZWVMJSEFVIAC-UHFFFAOYSA-N          ATR, ATR  \nZZZYFYOJEILVNN-UHFFFAOYSA-N             ELANE  \nZZZYHIMVKOHVIH-UHFFFAOYSA-N             NR2F2  \nZZZYUEUIXFBSTB-UHFFFAOYSA-N  ALOX5AP, ALOX5AP  \n\n[575654 rows x 2 columns]",
      "text/html": "<div>\n<style scoped>\n    .dataframe tbody tr th:only-of-type {\n        vertical-align: middle;\n    }\n\n    .dataframe tbody tr th {\n        vertical-align: top;\n    }\n\n    .dataframe thead th {\n        text-align: right;\n    }\n</style>\n<table border=\"1\" class=\"dataframe\">\n  <thead>\n    <tr style=\"text-align: right;\">\n      <th></th>\n      <th>UniProt (SwissProt) Primary ID of Target Chain</th>\n      <th>BDB Target</th>\n    </tr>\n    <tr>\n      <th>Ligand InChI Key</th>\n      <th></th>\n      <th></th>\n    </tr>\n  </thead>\n  <tbody>\n    <tr>\n      <th>AAAAEENPAALFRN-UHFFFAOYSA-N</th>\n      <td>Q9UBL9</td>\n      <td>P2RX2</td>\n    </tr>\n    <tr>\n      <th>AAAAZQPHATYWOK-JXMROGBWSA-N</th>\n      <td>P00533</td>\n      <td>EGFR</td>\n    </tr>\n    <tr>\n      <th>AAACBXVBBDAYRQ-UHFFFAOYSA-N</th>\n      <td>Q5S007</td>\n      <td>LRRK2</td>\n    </tr>\n    <tr>\n      <th>AAADCKOTKJSVMJ-SZNDQCEHSA-N</th>\n      <td>P56524</td>\n      <td>HDAC4</td>\n    </tr>\n    <tr>\n      <th>AAADPBLPXCELKR-UHFFFAOYSA-N</th>\n      <td>P20309</td>\n      <td>CHRM3</td>\n    </tr>\n    <tr>\n      <th>...</th>\n      <td>...</td>\n      <td>...</td>\n    </tr>\n    <tr>\n      <th>ZZZWVADOTWQQFE-VWLOTQADSA-N</th>\n      <td>P00742</td>\n      <td>F10</td>\n    </tr>\n    <tr>\n      <th>ZZZWVMJSEFVIAC-UHFFFAOYSA-N</th>\n      <td>Q13535, Q13535</td>\n      <td>ATR, ATR</td>\n    </tr>\n    <tr>\n      <th>ZZZYFYOJEILVNN-UHFFFAOYSA-N</th>\n      <td>P08246</td>\n      <td>ELANE</td>\n    </tr>\n    <tr>\n      <th>ZZZYHIMVKOHVIH-UHFFFAOYSA-N</th>\n      <td>P24468</td>\n      <td>NR2F2</td>\n    </tr>\n    <tr>\n      <th>ZZZYUEUIXFBSTB-UHFFFAOYSA-N</th>\n      <td>P20292, P20292</td>\n      <td>ALOX5AP, ALOX5AP</td>\n    </tr>\n  </tbody>\n</table>\n<p>575654 rows × 2 columns</p>\n</div>"
     },
     "execution_count": 68,
     "metadata": {},
     "output_type": "execute_result"
    }
   ],
   "source": [
    "bdb"
   ],
   "metadata": {
    "collapsed": false,
    "pycharm": {
     "name": "#%%\n"
    }
   }
  },
  {
   "cell_type": "code",
   "execution_count": 79,
   "outputs": [],
   "source": [
    "pd.concat([drh, bdb], axis=1, join='outer').dropna(subset='broad_id').drop(\n",
    "    'UniProt (SwissProt) Primary ID of Target Chain', axis=1).drop_duplicates().reset_index().set_index('broad_id').rename({'index': 'InChIKey'}, axis=1).to_csv('bdb_drh_merge.csv', index=True)"
   ],
   "metadata": {
    "collapsed": false,
    "pycharm": {
     "name": "#%%\n"
    }
   }
  },
  {
   "cell_type": "code",
   "execution_count": null,
   "outputs": [],
   "source": [],
   "metadata": {
    "collapsed": false,
    "pycharm": {
     "name": "#%%\n"
    }
   }
  },
  {
   "cell_type": "code",
   "execution_count": null,
   "outputs": [],
   "source": [],
   "metadata": {
    "collapsed": false,
    "pycharm": {
     "name": "#%%\n"
    }
   }
  }
 ],
 "metadata": {
  "kernelspec": {
   "display_name": "Python 3",
   "language": "python",
   "name": "python3"
  },
  "language_info": {
   "codemirror_mode": {
    "name": "ipython",
    "version": 2
   },
   "file_extension": ".py",
   "mimetype": "text/x-python",
   "name": "python",
   "nbconvert_exporter": "python",
   "pygments_lexer": "ipython2",
   "version": "2.7.6"
  }
 },
 "nbformat": 4,
 "nbformat_minor": 0
}