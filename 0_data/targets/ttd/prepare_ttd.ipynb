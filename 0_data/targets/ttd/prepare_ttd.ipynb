{
 "cells": [
  {
   "cell_type": "code",
   "execution_count": 61,
   "outputs": [],
   "source": [
    "import pandas as pd\n",
    "import numpy as np\n",
    "import mygene\n",
    "\n",
    "mg = mygene.MyGeneInfo()"
   ],
   "metadata": {
    "collapsed": false,
    "pycharm": {
     "name": "#%%\n"
    }
   }
  },
  {
   "cell_type": "code",
   "execution_count": 62,
   "outputs": [
    {
     "data": {
      "text/plain": "                           DRUGINKE\nD00AAN  MSUMHGMGRZWLMN-WXPZYUJUSA-N\nD00AAU  KUJAWCSIKNKXLL-UHFFFAOYSA-N\nD00ABO  YYLKKYCXAOBSRM-JXMROGBWSA-N\nD00ACC  JLFMYEAXZNPWBK-REWPJTCUSA-N\nD00ACL  PLETUCDALFTIQN-UHFFFAOYSA-N\n...                             ...\nDZ76PB  AKCDDYGYIGPEKL-JQOQJDEVSA-N\nDZ8UP4  JDBSZVDIUIRSDG-DAFODLJHSA-N\nDZB84T  STPKWKPURVSAJF-LJEWAXOPSA-N\nDZK7E0  PSNKGVAXBSAHCH-UHFFFAOYSA-N\nDZTX12  ZMGUKFHHNQMKJI-CIOHCNBKSA-N\n\n[25103 rows x 1 columns]",
      "text/html": "<div>\n<style scoped>\n    .dataframe tbody tr th:only-of-type {\n        vertical-align: middle;\n    }\n\n    .dataframe tbody tr th {\n        vertical-align: top;\n    }\n\n    .dataframe thead th {\n        text-align: right;\n    }\n</style>\n<table border=\"1\" class=\"dataframe\">\n  <thead>\n    <tr style=\"text-align: right;\">\n      <th></th>\n      <th>DRUGINKE</th>\n    </tr>\n  </thead>\n  <tbody>\n    <tr>\n      <th>D00AAN</th>\n      <td>MSUMHGMGRZWLMN-WXPZYUJUSA-N</td>\n    </tr>\n    <tr>\n      <th>D00AAU</th>\n      <td>KUJAWCSIKNKXLL-UHFFFAOYSA-N</td>\n    </tr>\n    <tr>\n      <th>D00ABO</th>\n      <td>YYLKKYCXAOBSRM-JXMROGBWSA-N</td>\n    </tr>\n    <tr>\n      <th>D00ACC</th>\n      <td>JLFMYEAXZNPWBK-REWPJTCUSA-N</td>\n    </tr>\n    <tr>\n      <th>D00ACL</th>\n      <td>PLETUCDALFTIQN-UHFFFAOYSA-N</td>\n    </tr>\n    <tr>\n      <th>...</th>\n      <td>...</td>\n    </tr>\n    <tr>\n      <th>DZ76PB</th>\n      <td>AKCDDYGYIGPEKL-JQOQJDEVSA-N</td>\n    </tr>\n    <tr>\n      <th>DZ8UP4</th>\n      <td>JDBSZVDIUIRSDG-DAFODLJHSA-N</td>\n    </tr>\n    <tr>\n      <th>DZB84T</th>\n      <td>STPKWKPURVSAJF-LJEWAXOPSA-N</td>\n    </tr>\n    <tr>\n      <th>DZK7E0</th>\n      <td>PSNKGVAXBSAHCH-UHFFFAOYSA-N</td>\n    </tr>\n    <tr>\n      <th>DZTX12</th>\n      <td>ZMGUKFHHNQMKJI-CIOHCNBKSA-N</td>\n    </tr>\n  </tbody>\n</table>\n<p>25103 rows × 1 columns</p>\n</div>"
     },
     "execution_count": 62,
     "metadata": {},
     "output_type": "execute_result"
    }
   ],
   "source": [
    "count = 0\n",
    "mapping = {}\n",
    "with open('P1-02-TTD_drug_download.txt') as fp:\n",
    "    Lines = fp.readlines()\n",
    "    target_id = None\n",
    "    for line in Lines:\n",
    "        line_content = line.strip().split(\"\\t\")\n",
    "        if len(line_content) >= 3:\n",
    "            if line_content[1] == \"DRUG__ID\":\n",
    "                if target_id is not None:\n",
    "                    mapping[target_id] = smiles\n",
    "                    target_id = np.nan\n",
    "                    smiles = np.nan\n",
    "                target_id = line_content[2].strip()\n",
    "            elif line_content[1] == \"DRUGINKE\":\n",
    "                smiles = line_content[2].strip()\n",
    "\n",
    "drugs_df = pd.DataFrame().from_dict(mapping, orient='index', columns=[\"DRUGINKE\"]).dropna()\n",
    "drugs_df"
   ],
   "metadata": {
    "collapsed": false,
    "pycharm": {
     "name": "#%%\n"
    }
   }
  },
  {
   "cell_type": "code",
   "execution_count": 63,
   "outputs": [
    {
     "data": {
      "text/plain": "                               GENE\nT47101                        FGFR1\nT59328                         EGFR\nT89515                          PDF\nT08391                         JAK2\nT07663                        PDE5A\n...                             ...\nT47438  BACE2; PSENEN; APH1A; APH1B\nT83320                      SLC12A7\nT07601                  CAMLG; CAML\nT47583                          WRN\nT74839                        CDK13\n\n[3594 rows x 1 columns]",
      "text/html": "<div>\n<style scoped>\n    .dataframe tbody tr th:only-of-type {\n        vertical-align: middle;\n    }\n\n    .dataframe tbody tr th {\n        vertical-align: top;\n    }\n\n    .dataframe thead th {\n        text-align: right;\n    }\n</style>\n<table border=\"1\" class=\"dataframe\">\n  <thead>\n    <tr style=\"text-align: right;\">\n      <th></th>\n      <th>GENE</th>\n    </tr>\n  </thead>\n  <tbody>\n    <tr>\n      <th>T47101</th>\n      <td>FGFR1</td>\n    </tr>\n    <tr>\n      <th>T59328</th>\n      <td>EGFR</td>\n    </tr>\n    <tr>\n      <th>T89515</th>\n      <td>PDF</td>\n    </tr>\n    <tr>\n      <th>T08391</th>\n      <td>JAK2</td>\n    </tr>\n    <tr>\n      <th>T07663</th>\n      <td>PDE5A</td>\n    </tr>\n    <tr>\n      <th>...</th>\n      <td>...</td>\n    </tr>\n    <tr>\n      <th>T47438</th>\n      <td>BACE2; PSENEN; APH1A; APH1B</td>\n    </tr>\n    <tr>\n      <th>T83320</th>\n      <td>SLC12A7</td>\n    </tr>\n    <tr>\n      <th>T07601</th>\n      <td>CAMLG; CAML</td>\n    </tr>\n    <tr>\n      <th>T47583</th>\n      <td>WRN</td>\n    </tr>\n    <tr>\n      <th>T74839</th>\n      <td>CDK13</td>\n    </tr>\n  </tbody>\n</table>\n<p>3594 rows × 1 columns</p>\n</div>"
     },
     "execution_count": 63,
     "metadata": {},
     "output_type": "execute_result"
    }
   ],
   "source": [
    "count = 0\n",
    "mapping = {}\n",
    "with open('P1-01-TTD_target_download.txt') as fp:\n",
    "    Lines = fp.readlines()\n",
    "    target_id = None\n",
    "    for line in Lines:\n",
    "        line_content = line.strip().split(\"\\t\")\n",
    "        if len(line_content) >= 3:\n",
    "            if line_content[1] == \"TARGETID\":\n",
    "                target_id = line_content[2].strip()\n",
    "\n",
    "            elif line_content[1] == \"GENENAME\":\n",
    "                genename = line_content[2].strip()\n",
    "                mapping[target_id] = genename\n",
    "                target_id = None\n",
    "                genename = None\n",
    "\n",
    "targets_df = pd.DataFrame().from_dict(mapping, orient='index', columns=[\"GENE\"])\n",
    "targets_df['GENE'] = targets_df['GENE'].str.strip()\n",
    "targets_df"
   ],
   "metadata": {
    "collapsed": false,
    "pycharm": {
     "name": "#%%\n"
    }
   }
  },
  {
   "cell_type": "code",
   "execution_count": 64,
   "outputs": [
    {
     "data": {
      "text/plain": "TTD Drug/Compound ID\nC01ABG    T55959, T27812, T21945\nC01ACX                    T85467\nC01ADI            T37693, T76685\nC01AFD    T27812, T11448, T01777\nC01AGL                    T20401\n                   ...          \nD0ZY7X    T37848, T57392, T19244\nD0ZY8V                    T64765\nD0ZZ2L                    T57392\nD0ZZ4S                    T32060\nD0ZZ4Z    T31204, T83813, T32060\nName: TTD Target ID, Length: 427262, dtype: object"
     },
     "execution_count": 64,
     "metadata": {},
     "output_type": "execute_result"
    }
   ],
   "source": [
    "target_drug_df = pd.read_csv('P1-09-Target_compound_activity.txt', sep=\"\\t\")\n",
    "target_drug_df = target_drug_df.groupby('TTD Drug/Compound ID')['TTD Target ID'].apply(lambda x: \", \".join(x))\n",
    "target_drug_df"
   ],
   "metadata": {
    "collapsed": false,
    "pycharm": {
     "name": "#%%\n"
    }
   }
  },
  {
   "cell_type": "code",
   "execution_count": 65,
   "outputs": [
    {
     "data": {
      "text/plain": "                                              TTD Target ID\nDRUGINKE                                                   \nMSUMHGMGRZWLMN-WXPZYUJUSA-N                          T70977\nYYLKKYCXAOBSRM-JXMROGBWSA-N                          T74312\nJLFMYEAXZNPWBK-REWPJTCUSA-N  T52921, T47768, T60693, T58992\nDNTSIBUQMRRYIU-UHFFFAOYSA-N                          T58921\nDCDHWTNKKCKJLQ-UHFFFAOYSA-N          T37848, T57392, T19244\n...                                                     ...\nGDKCAAWSNQLXNX-UHFFFAOYSA-N          T37848, T57392, T19244\nOFZZAFXTRYWAHX-UHFFFAOYSA-N                          T64765\nBTFWDABQNDILAN-UHFFFAOYSA-N                          T57392\nMVQHAVPXHRGPMI-UHFFFAOYSA-N                          T32060\nXASLPZWIPBCAPF-UHFFFAOYSA-N          T31204, T83813, T32060\n\n[12256 rows x 1 columns]",
      "text/html": "<div>\n<style scoped>\n    .dataframe tbody tr th:only-of-type {\n        vertical-align: middle;\n    }\n\n    .dataframe tbody tr th {\n        vertical-align: top;\n    }\n\n    .dataframe thead th {\n        text-align: right;\n    }\n</style>\n<table border=\"1\" class=\"dataframe\">\n  <thead>\n    <tr style=\"text-align: right;\">\n      <th></th>\n      <th>TTD Target ID</th>\n    </tr>\n    <tr>\n      <th>DRUGINKE</th>\n      <th></th>\n    </tr>\n  </thead>\n  <tbody>\n    <tr>\n      <th>MSUMHGMGRZWLMN-WXPZYUJUSA-N</th>\n      <td>T70977</td>\n    </tr>\n    <tr>\n      <th>YYLKKYCXAOBSRM-JXMROGBWSA-N</th>\n      <td>T74312</td>\n    </tr>\n    <tr>\n      <th>JLFMYEAXZNPWBK-REWPJTCUSA-N</th>\n      <td>T52921, T47768, T60693, T58992</td>\n    </tr>\n    <tr>\n      <th>DNTSIBUQMRRYIU-UHFFFAOYSA-N</th>\n      <td>T58921</td>\n    </tr>\n    <tr>\n      <th>DCDHWTNKKCKJLQ-UHFFFAOYSA-N</th>\n      <td>T37848, T57392, T19244</td>\n    </tr>\n    <tr>\n      <th>...</th>\n      <td>...</td>\n    </tr>\n    <tr>\n      <th>GDKCAAWSNQLXNX-UHFFFAOYSA-N</th>\n      <td>T37848, T57392, T19244</td>\n    </tr>\n    <tr>\n      <th>OFZZAFXTRYWAHX-UHFFFAOYSA-N</th>\n      <td>T64765</td>\n    </tr>\n    <tr>\n      <th>BTFWDABQNDILAN-UHFFFAOYSA-N</th>\n      <td>T57392</td>\n    </tr>\n    <tr>\n      <th>MVQHAVPXHRGPMI-UHFFFAOYSA-N</th>\n      <td>T32060</td>\n    </tr>\n    <tr>\n      <th>XASLPZWIPBCAPF-UHFFFAOYSA-N</th>\n      <td>T31204, T83813, T32060</td>\n    </tr>\n  </tbody>\n</table>\n<p>12256 rows × 1 columns</p>\n</div>"
     },
     "execution_count": 65,
     "metadata": {},
     "output_type": "execute_result"
    }
   ],
   "source": [
    "ttd_df = pd.concat([drugs_df, target_drug_df], axis=1, join='inner').set_index('DRUGINKE')\n",
    "ttd_df"
   ],
   "metadata": {
    "collapsed": false,
    "pycharm": {
     "name": "#%%\n"
    }
   }
  },
  {
   "cell_type": "code",
   "execution_count": 66,
   "outputs": [
    {
     "data": {
      "text/plain": "                                                                    TTD Target\nDRUGINKE                                                                      \nMSUMHGMGRZWLMN-WXPZYUJUSA-N                                              GSK3B\nYYLKKYCXAOBSRM-JXMROGBWSA-N                                               FLT3\nJLFMYEAXZNPWBK-REWPJTCUSA-N                         OPRL1, OPRM1, OPRK1, OPRD1\nDNTSIBUQMRRYIU-UHFFFAOYSA-N                                              PPARG\nDCDHWTNKKCKJLQ-UHFFFAOYSA-N                             CYP3A4, CYP2D6, CYP2C9\n...                                                                        ...\nGDLIGKIOYRNHDA-UHFFFAOYSA-N  HTR6, ABCC4, Trypano TPR, SLC6A3, ABCC2, SLC6A...\nNCDNCNXCDXHOMX-XGKFQTDJSA-N  ABCC4, SLCO1B3, SLC47A2, CYP3A4, Malaria PLA5,...\nWIVGIKIKQHUFOD-UHFFFAOYSA-N                             GRM2, GRM1, GRM8, GRM5\nDNVXATUJJDPFDM-KRWDZBQOSA-N                     BRDT, CREBBP, BRD3, BRD4, BRD2\nACGUYXCXAPNIKK-UHFFFAOYSA-N                                         HSPA5, MIF\n\n[3813 rows x 1 columns]",
      "text/html": "<div>\n<style scoped>\n    .dataframe tbody tr th:only-of-type {\n        vertical-align: middle;\n    }\n\n    .dataframe tbody tr th {\n        vertical-align: top;\n    }\n\n    .dataframe thead th {\n        text-align: right;\n    }\n</style>\n<table border=\"1\" class=\"dataframe\">\n  <thead>\n    <tr style=\"text-align: right;\">\n      <th></th>\n      <th>TTD Target</th>\n    </tr>\n    <tr>\n      <th>DRUGINKE</th>\n      <th></th>\n    </tr>\n  </thead>\n  <tbody>\n    <tr>\n      <th>MSUMHGMGRZWLMN-WXPZYUJUSA-N</th>\n      <td>GSK3B</td>\n    </tr>\n    <tr>\n      <th>YYLKKYCXAOBSRM-JXMROGBWSA-N</th>\n      <td>FLT3</td>\n    </tr>\n    <tr>\n      <th>JLFMYEAXZNPWBK-REWPJTCUSA-N</th>\n      <td>OPRL1, OPRM1, OPRK1, OPRD1</td>\n    </tr>\n    <tr>\n      <th>DNTSIBUQMRRYIU-UHFFFAOYSA-N</th>\n      <td>PPARG</td>\n    </tr>\n    <tr>\n      <th>DCDHWTNKKCKJLQ-UHFFFAOYSA-N</th>\n      <td>CYP3A4, CYP2D6, CYP2C9</td>\n    </tr>\n    <tr>\n      <th>...</th>\n      <td>...</td>\n    </tr>\n    <tr>\n      <th>GDLIGKIOYRNHDA-UHFFFAOYSA-N</th>\n      <td>HTR6, ABCC4, Trypano TPR, SLC6A3, ABCC2, SLC6A...</td>\n    </tr>\n    <tr>\n      <th>NCDNCNXCDXHOMX-XGKFQTDJSA-N</th>\n      <td>ABCC4, SLCO1B3, SLC47A2, CYP3A4, Malaria PLA5,...</td>\n    </tr>\n    <tr>\n      <th>WIVGIKIKQHUFOD-UHFFFAOYSA-N</th>\n      <td>GRM2, GRM1, GRM8, GRM5</td>\n    </tr>\n    <tr>\n      <th>DNVXATUJJDPFDM-KRWDZBQOSA-N</th>\n      <td>BRDT, CREBBP, BRD3, BRD4, BRD2</td>\n    </tr>\n    <tr>\n      <th>ACGUYXCXAPNIKK-UHFFFAOYSA-N</th>\n      <td>HSPA5, MIF</td>\n    </tr>\n  </tbody>\n</table>\n<p>3813 rows × 1 columns</p>\n</div>"
     },
     "execution_count": 66,
     "metadata": {},
     "output_type": "execute_result"
    }
   ],
   "source": [
    "def get_target(x: str):\n",
    "    targets = str(x).split(\",\")\n",
    "\n",
    "    if len(targets) == 1:\n",
    "        try:\n",
    "            target = targets_df.loc[x.strip()].values[0].strip()\n",
    "            return target\n",
    "        except KeyError:\n",
    "            return np.nan\n",
    "    else:\n",
    "        r = []\n",
    "        for target in targets:\n",
    "            try:\n",
    "                r.append(targets_df.loc[target.strip()].values[0].strip())\n",
    "            except KeyError:\n",
    "                pass\n",
    "        return \", \".join(r)\n",
    "\n",
    "\n",
    "ttd_df['TTD Target'] = ttd_df['TTD Target ID'].apply(lambda x: get_target(str(x)))\n",
    "ttd_df = ttd_df.dropna()\n",
    "ttd_df = ttd_df.drop('TTD Target ID', axis=1).drop_duplicates()\n",
    "ttd_df"
   ],
   "metadata": {
    "collapsed": false,
    "pycharm": {
     "name": "#%%\n"
    }
   }
  },
  {
   "cell_type": "code",
   "execution_count": 67,
   "outputs": [
    {
     "data": {
      "text/plain": "                                                                    TTD Target\nInChIKey                                                                      \nMSUMHGMGRZWLMN-WXPZYUJUSA-N                                              GSK3B\nYYLKKYCXAOBSRM-JXMROGBWSA-N                                               FLT3\nJLFMYEAXZNPWBK-REWPJTCUSA-N                         OPRL1, OPRM1, OPRK1, OPRD1\nDNTSIBUQMRRYIU-UHFFFAOYSA-N                                              PPARG\nDCDHWTNKKCKJLQ-UHFFFAOYSA-N                             CYP3A4, CYP2D6, CYP2C9\n...                                                                        ...\nGDLIGKIOYRNHDA-UHFFFAOYSA-N  HTR6, ABCC4, Trypano TPR, SLC6A3, ABCC2, SLC6A...\nNCDNCNXCDXHOMX-XGKFQTDJSA-N  ABCC4, SLCO1B3, SLC47A2, CYP3A4, Malaria PLA5,...\nWIVGIKIKQHUFOD-UHFFFAOYSA-N                             GRM2, GRM1, GRM8, GRM5\nDNVXATUJJDPFDM-KRWDZBQOSA-N                     BRDT, CREBBP, BRD3, BRD4, BRD2\nACGUYXCXAPNIKK-UHFFFAOYSA-N                                         HSPA5, MIF\n\n[3813 rows x 1 columns]",
      "text/html": "<div>\n<style scoped>\n    .dataframe tbody tr th:only-of-type {\n        vertical-align: middle;\n    }\n\n    .dataframe tbody tr th {\n        vertical-align: top;\n    }\n\n    .dataframe thead th {\n        text-align: right;\n    }\n</style>\n<table border=\"1\" class=\"dataframe\">\n  <thead>\n    <tr style=\"text-align: right;\">\n      <th></th>\n      <th>TTD Target</th>\n    </tr>\n    <tr>\n      <th>InChIKey</th>\n      <th></th>\n    </tr>\n  </thead>\n  <tbody>\n    <tr>\n      <th>MSUMHGMGRZWLMN-WXPZYUJUSA-N</th>\n      <td>GSK3B</td>\n    </tr>\n    <tr>\n      <th>YYLKKYCXAOBSRM-JXMROGBWSA-N</th>\n      <td>FLT3</td>\n    </tr>\n    <tr>\n      <th>JLFMYEAXZNPWBK-REWPJTCUSA-N</th>\n      <td>OPRL1, OPRM1, OPRK1, OPRD1</td>\n    </tr>\n    <tr>\n      <th>DNTSIBUQMRRYIU-UHFFFAOYSA-N</th>\n      <td>PPARG</td>\n    </tr>\n    <tr>\n      <th>DCDHWTNKKCKJLQ-UHFFFAOYSA-N</th>\n      <td>CYP3A4, CYP2D6, CYP2C9</td>\n    </tr>\n    <tr>\n      <th>...</th>\n      <td>...</td>\n    </tr>\n    <tr>\n      <th>GDLIGKIOYRNHDA-UHFFFAOYSA-N</th>\n      <td>HTR6, ABCC4, Trypano TPR, SLC6A3, ABCC2, SLC6A...</td>\n    </tr>\n    <tr>\n      <th>NCDNCNXCDXHOMX-XGKFQTDJSA-N</th>\n      <td>ABCC4, SLCO1B3, SLC47A2, CYP3A4, Malaria PLA5,...</td>\n    </tr>\n    <tr>\n      <th>WIVGIKIKQHUFOD-UHFFFAOYSA-N</th>\n      <td>GRM2, GRM1, GRM8, GRM5</td>\n    </tr>\n    <tr>\n      <th>DNVXATUJJDPFDM-KRWDZBQOSA-N</th>\n      <td>BRDT, CREBBP, BRD3, BRD4, BRD2</td>\n    </tr>\n    <tr>\n      <th>ACGUYXCXAPNIKK-UHFFFAOYSA-N</th>\n      <td>HSPA5, MIF</td>\n    </tr>\n  </tbody>\n</table>\n<p>3813 rows × 1 columns</p>\n</div>"
     },
     "execution_count": 67,
     "metadata": {},
     "output_type": "execute_result"
    }
   ],
   "source": [
    "ttd_df = ttd_df.reset_index().rename({'DRUGINKE': 'InChIKey'}, axis=1).set_index('InChIKey')\n",
    "ttd_df"
   ],
   "metadata": {
    "collapsed": false,
    "pycharm": {
     "name": "#%%\n"
    }
   }
  },
  {
   "cell_type": "code",
   "execution_count": 68,
   "outputs": [
    {
     "data": {
      "text/plain": "                                                                         Target\nName                                                                           \n(R)-(-)-apomorphine           ADRA2A, ADRA2B, ADRA2C, CALY, DRD1, DRD2, DRD3...\n(R)-(-)-rolipram                              PDE4A, PDE4B, PDE4C, PDE4D, PDE5A\n(R)-baclofen                                                     GABBR1, GABBR2\n(S)-(+)-rolipram                                                   PDE4B, PDE4D\n[sar9,met(o2)11]-substance-p                                              TACR1\n...                                                                         ...\n8-M-PDOT                                                         MTNR1A, MTNR1B\n80841-78-7                                                                  NaN\n9-aminoacridine                                                             NaN\n9-aminocamptothecin                                                        TOP1\n9-anthracenecarboxylic-acid                                         ANO1, CLCN1\n\n[6798 rows x 1 columns]",
      "text/html": "<div>\n<style scoped>\n    .dataframe tbody tr th:only-of-type {\n        vertical-align: middle;\n    }\n\n    .dataframe tbody tr th {\n        vertical-align: top;\n    }\n\n    .dataframe thead th {\n        text-align: right;\n    }\n</style>\n<table border=\"1\" class=\"dataframe\">\n  <thead>\n    <tr style=\"text-align: right;\">\n      <th></th>\n      <th>Target</th>\n    </tr>\n    <tr>\n      <th>Name</th>\n      <th></th>\n    </tr>\n  </thead>\n  <tbody>\n    <tr>\n      <th>(R)-(-)-apomorphine</th>\n      <td>ADRA2A, ADRA2B, ADRA2C, CALY, DRD1, DRD2, DRD3...</td>\n    </tr>\n    <tr>\n      <th>(R)-(-)-rolipram</th>\n      <td>PDE4A, PDE4B, PDE4C, PDE4D, PDE5A</td>\n    </tr>\n    <tr>\n      <th>(R)-baclofen</th>\n      <td>GABBR1, GABBR2</td>\n    </tr>\n    <tr>\n      <th>(S)-(+)-rolipram</th>\n      <td>PDE4B, PDE4D</td>\n    </tr>\n    <tr>\n      <th>[sar9,met(o2)11]-substance-p</th>\n      <td>TACR1</td>\n    </tr>\n    <tr>\n      <th>...</th>\n      <td>...</td>\n    </tr>\n    <tr>\n      <th>8-M-PDOT</th>\n      <td>MTNR1A, MTNR1B</td>\n    </tr>\n    <tr>\n      <th>80841-78-7</th>\n      <td>NaN</td>\n    </tr>\n    <tr>\n      <th>9-aminoacridine</th>\n      <td>NaN</td>\n    </tr>\n    <tr>\n      <th>9-aminocamptothecin</th>\n      <td>TOP1</td>\n    </tr>\n    <tr>\n      <th>9-anthracenecarboxylic-acid</th>\n      <td>ANO1, CLCN1</td>\n    </tr>\n  </tbody>\n</table>\n<p>6798 rows × 1 columns</p>\n</div>"
     },
     "execution_count": 68,
     "metadata": {},
     "output_type": "execute_result"
    }
   ],
   "source": [
    "repurposing_hub_drug_targets = pd.read_csv(\"../../data/primary_data/repurposing_hub_drug_targets.txt\", sep=\"\\t\").drop(\n",
    "    ['MOA', 'Phase'], axis=1).set_index('Name')\n",
    "repurposing_hub_drug_targets = repurposing_hub_drug_targets[\n",
    "    ~repurposing_hub_drug_targets.index.duplicated(keep='first')]\n",
    "repurposing_hub_drug_targets"
   ],
   "metadata": {
    "collapsed": false,
    "pycharm": {
     "name": "#%%\n"
    }
   }
  },
  {
   "cell_type": "code",
   "execution_count": 69,
   "outputs": [
    {
     "data": {
      "text/plain": "                                   broad_id                     InChIKey\nName                                                                    \n(R)-(-)-apomorphine           BRD-K76022557  VMWNQDUVQKEIOC-CYBMUJFWSA-N\n(R)-(-)-rolipram              BRD-K75516118  HJORMJIFDVBMOB-LBPRGKRZSA-N\n(R)-baclofen                  BRD-K62353271  KPYSYYIEGFHWSV-QMMMGPOBSA-N\n(S)-(+)-rolipram              BRD-K65856711  HJORMJIFDVBMOB-GFCCVEGCSA-N\n[sar9,met(o2)11]-substance-p  BRD-K89787693  OUPXSLGGCPUZJJ-SARDKLJWSA-N\n...                                     ...                          ...\nzoxazolamine                  BRD-K66353228  YGCODSQDUUUKIV-UHFFFAOYSA-N\nZSET1446                      BRD-K35984734  QZWYXEBIQWJXAR-UHFFFAOYSA-N\nZSTK-474                      BRD-K63068307  HGVNLRPZOWWDKD-UHFFFAOYSA-N\nzuclopenthixol                BRD-K28761384  WFPIAZLQTJBIFN-DVZOWYKESA-N\nzuranolone                    BRD-K00003448  HARRKNSQXBRBGZ-GVKWWOCJSA-N\n\n[6798 rows x 2 columns]",
      "text/html": "<div>\n<style scoped>\n    .dataframe tbody tr th:only-of-type {\n        vertical-align: middle;\n    }\n\n    .dataframe tbody tr th {\n        vertical-align: top;\n    }\n\n    .dataframe thead th {\n        text-align: right;\n    }\n</style>\n<table border=\"1\" class=\"dataframe\">\n  <thead>\n    <tr style=\"text-align: right;\">\n      <th></th>\n      <th>broad_id</th>\n      <th>InChIKey</th>\n    </tr>\n    <tr>\n      <th>Name</th>\n      <th></th>\n      <th></th>\n    </tr>\n  </thead>\n  <tbody>\n    <tr>\n      <th>(R)-(-)-apomorphine</th>\n      <td>BRD-K76022557</td>\n      <td>VMWNQDUVQKEIOC-CYBMUJFWSA-N</td>\n    </tr>\n    <tr>\n      <th>(R)-(-)-rolipram</th>\n      <td>BRD-K75516118</td>\n      <td>HJORMJIFDVBMOB-LBPRGKRZSA-N</td>\n    </tr>\n    <tr>\n      <th>(R)-baclofen</th>\n      <td>BRD-K62353271</td>\n      <td>KPYSYYIEGFHWSV-QMMMGPOBSA-N</td>\n    </tr>\n    <tr>\n      <th>(S)-(+)-rolipram</th>\n      <td>BRD-K65856711</td>\n      <td>HJORMJIFDVBMOB-GFCCVEGCSA-N</td>\n    </tr>\n    <tr>\n      <th>[sar9,met(o2)11]-substance-p</th>\n      <td>BRD-K89787693</td>\n      <td>OUPXSLGGCPUZJJ-SARDKLJWSA-N</td>\n    </tr>\n    <tr>\n      <th>...</th>\n      <td>...</td>\n      <td>...</td>\n    </tr>\n    <tr>\n      <th>zoxazolamine</th>\n      <td>BRD-K66353228</td>\n      <td>YGCODSQDUUUKIV-UHFFFAOYSA-N</td>\n    </tr>\n    <tr>\n      <th>ZSET1446</th>\n      <td>BRD-K35984734</td>\n      <td>QZWYXEBIQWJXAR-UHFFFAOYSA-N</td>\n    </tr>\n    <tr>\n      <th>ZSTK-474</th>\n      <td>BRD-K63068307</td>\n      <td>HGVNLRPZOWWDKD-UHFFFAOYSA-N</td>\n    </tr>\n    <tr>\n      <th>zuclopenthixol</th>\n      <td>BRD-K28761384</td>\n      <td>WFPIAZLQTJBIFN-DVZOWYKESA-N</td>\n    </tr>\n    <tr>\n      <th>zuranolone</th>\n      <td>BRD-K00003448</td>\n      <td>HARRKNSQXBRBGZ-GVKWWOCJSA-N</td>\n    </tr>\n  </tbody>\n</table>\n<p>6798 rows × 2 columns</p>\n</div>"
     },
     "execution_count": 69,
     "metadata": {},
     "output_type": "execute_result"
    }
   ],
   "source": [
    "repurposing_hub_drugs = pd.read_csv('../../data/primary_data/repurposing_hub_drugs.txt', skiprows=9, sep='\\t')\n",
    "repurposing_hub_drugs['broad_id'] = repurposing_hub_drugs['broad_id'].apply(lambda x: x[:-9])\n",
    "repurposing_hub_drugs = repurposing_hub_drugs.loc[:, ['broad_id', 'pert_iname', 'InChIKey']].drop_duplicates().rename(\n",
    "    {'pert_iname': 'Name'}, axis=1).set_index('Name')\n",
    "repurposing_hub_drugs = repurposing_hub_drugs[~repurposing_hub_drugs.index.duplicated(keep='first')]\n",
    "repurposing_hub_drugs"
   ],
   "metadata": {
    "collapsed": false,
    "pycharm": {
     "name": "#%%\n"
    }
   }
  },
  {
   "cell_type": "code",
   "execution_count": 70,
   "outputs": [
    {
     "data": {
      "text/plain": "                                                                        Target  \\\nInChIKey                                                                         \nVMWNQDUVQKEIOC-CYBMUJFWSA-N  ADRA2A, ADRA2B, ADRA2C, CALY, DRD1, DRD2, DRD3...   \nHJORMJIFDVBMOB-LBPRGKRZSA-N                  PDE4A, PDE4B, PDE4C, PDE4D, PDE5A   \nKPYSYYIEGFHWSV-QMMMGPOBSA-N                                     GABBR1, GABBR2   \nHJORMJIFDVBMOB-GFCCVEGCSA-N                                       PDE4B, PDE4D   \nOUPXSLGGCPUZJJ-SARDKLJWSA-N                                              TACR1   \n...                                                                        ...   \nRVIGBTUDFAGRTQ-NSHDSACASA-N                                     MTNR1A, MTNR1B   \nQCLFSYYUWPUWQR-UHFFFAOYSA-N                                                NaN   \nXJGFWWJLMVZSIG-UHFFFAOYSA-N                                                NaN   \nFUXVKZWTXQUGMW-FQEVSTJZSA-N                                               TOP1   \nXGWFJBFNAQHLEF-UHFFFAOYSA-N                                        ANO1, CLCN1   \n\n                                  broad_id  \nInChIKey                                    \nVMWNQDUVQKEIOC-CYBMUJFWSA-N  BRD-K76022557  \nHJORMJIFDVBMOB-LBPRGKRZSA-N  BRD-K75516118  \nKPYSYYIEGFHWSV-QMMMGPOBSA-N  BRD-K62353271  \nHJORMJIFDVBMOB-GFCCVEGCSA-N  BRD-K65856711  \nOUPXSLGGCPUZJJ-SARDKLJWSA-N  BRD-K89787693  \n...                                    ...  \nRVIGBTUDFAGRTQ-NSHDSACASA-N  BRD-A07232941  \nQCLFSYYUWPUWQR-UHFFFAOYSA-N  BRD-K03044000  \nXJGFWWJLMVZSIG-UHFFFAOYSA-N  BRD-K00535541  \nFUXVKZWTXQUGMW-FQEVSTJZSA-N  BRD-K09291936  \nXGWFJBFNAQHLEF-UHFFFAOYSA-N  BRD-K62607075  \n\n[6798 rows x 2 columns]",
      "text/html": "<div>\n<style scoped>\n    .dataframe tbody tr th:only-of-type {\n        vertical-align: middle;\n    }\n\n    .dataframe tbody tr th {\n        vertical-align: top;\n    }\n\n    .dataframe thead th {\n        text-align: right;\n    }\n</style>\n<table border=\"1\" class=\"dataframe\">\n  <thead>\n    <tr style=\"text-align: right;\">\n      <th></th>\n      <th>Target</th>\n      <th>broad_id</th>\n    </tr>\n    <tr>\n      <th>InChIKey</th>\n      <th></th>\n      <th></th>\n    </tr>\n  </thead>\n  <tbody>\n    <tr>\n      <th>VMWNQDUVQKEIOC-CYBMUJFWSA-N</th>\n      <td>ADRA2A, ADRA2B, ADRA2C, CALY, DRD1, DRD2, DRD3...</td>\n      <td>BRD-K76022557</td>\n    </tr>\n    <tr>\n      <th>HJORMJIFDVBMOB-LBPRGKRZSA-N</th>\n      <td>PDE4A, PDE4B, PDE4C, PDE4D, PDE5A</td>\n      <td>BRD-K75516118</td>\n    </tr>\n    <tr>\n      <th>KPYSYYIEGFHWSV-QMMMGPOBSA-N</th>\n      <td>GABBR1, GABBR2</td>\n      <td>BRD-K62353271</td>\n    </tr>\n    <tr>\n      <th>HJORMJIFDVBMOB-GFCCVEGCSA-N</th>\n      <td>PDE4B, PDE4D</td>\n      <td>BRD-K65856711</td>\n    </tr>\n    <tr>\n      <th>OUPXSLGGCPUZJJ-SARDKLJWSA-N</th>\n      <td>TACR1</td>\n      <td>BRD-K89787693</td>\n    </tr>\n    <tr>\n      <th>...</th>\n      <td>...</td>\n      <td>...</td>\n    </tr>\n    <tr>\n      <th>RVIGBTUDFAGRTQ-NSHDSACASA-N</th>\n      <td>MTNR1A, MTNR1B</td>\n      <td>BRD-A07232941</td>\n    </tr>\n    <tr>\n      <th>QCLFSYYUWPUWQR-UHFFFAOYSA-N</th>\n      <td>NaN</td>\n      <td>BRD-K03044000</td>\n    </tr>\n    <tr>\n      <th>XJGFWWJLMVZSIG-UHFFFAOYSA-N</th>\n      <td>NaN</td>\n      <td>BRD-K00535541</td>\n    </tr>\n    <tr>\n      <th>FUXVKZWTXQUGMW-FQEVSTJZSA-N</th>\n      <td>TOP1</td>\n      <td>BRD-K09291936</td>\n    </tr>\n    <tr>\n      <th>XGWFJBFNAQHLEF-UHFFFAOYSA-N</th>\n      <td>ANO1, CLCN1</td>\n      <td>BRD-K62607075</td>\n    </tr>\n  </tbody>\n</table>\n<p>6798 rows × 2 columns</p>\n</div>"
     },
     "execution_count": 70,
     "metadata": {},
     "output_type": "execute_result"
    }
   ],
   "source": [
    "drh = pd.concat([repurposing_hub_drug_targets, repurposing_hub_drugs], axis=1, join='inner').set_index('InChIKey')\n",
    "drh"
   ],
   "metadata": {
    "collapsed": false,
    "pycharm": {
     "name": "#%%\n"
    }
   }
  },
  {
   "cell_type": "code",
   "execution_count": 71,
   "outputs": [
    {
     "data": {
      "text/plain": "                                                                        Target  \\\nInChIKey                                                                         \nVMWNQDUVQKEIOC-CYBMUJFWSA-N  ADRA2A, ADRA2B, ADRA2C, CALY, DRD1, DRD2, DRD3...   \nHJORMJIFDVBMOB-LBPRGKRZSA-N                  PDE4A, PDE4B, PDE4C, PDE4D, PDE5A   \nKPYSYYIEGFHWSV-QMMMGPOBSA-N                                     GABBR1, GABBR2   \nHJORMJIFDVBMOB-GFCCVEGCSA-N                                       PDE4B, PDE4D   \nOUPXSLGGCPUZJJ-SARDKLJWSA-N                                              TACR1   \n...                                                                        ...   \nRVIGBTUDFAGRTQ-NSHDSACASA-N                                     MTNR1A, MTNR1B   \nQCLFSYYUWPUWQR-UHFFFAOYSA-N                                                NaN   \nXJGFWWJLMVZSIG-UHFFFAOYSA-N                                                NaN   \nFUXVKZWTXQUGMW-FQEVSTJZSA-N                                               TOP1   \nXGWFJBFNAQHLEF-UHFFFAOYSA-N                                        ANO1, CLCN1   \n\n                                  broad_id  \nInChIKey                                    \nVMWNQDUVQKEIOC-CYBMUJFWSA-N  BRD-K76022557  \nHJORMJIFDVBMOB-LBPRGKRZSA-N  BRD-K75516118  \nKPYSYYIEGFHWSV-QMMMGPOBSA-N  BRD-K62353271  \nHJORMJIFDVBMOB-GFCCVEGCSA-N  BRD-K65856711  \nOUPXSLGGCPUZJJ-SARDKLJWSA-N  BRD-K89787693  \n...                                    ...  \nRVIGBTUDFAGRTQ-NSHDSACASA-N  BRD-A07232941  \nQCLFSYYUWPUWQR-UHFFFAOYSA-N  BRD-K03044000  \nXJGFWWJLMVZSIG-UHFFFAOYSA-N  BRD-K00535541  \nFUXVKZWTXQUGMW-FQEVSTJZSA-N  BRD-K09291936  \nXGWFJBFNAQHLEF-UHFFFAOYSA-N  BRD-K62607075  \n\n[6769 rows x 2 columns]",
      "text/html": "<div>\n<style scoped>\n    .dataframe tbody tr th:only-of-type {\n        vertical-align: middle;\n    }\n\n    .dataframe tbody tr th {\n        vertical-align: top;\n    }\n\n    .dataframe thead th {\n        text-align: right;\n    }\n</style>\n<table border=\"1\" class=\"dataframe\">\n  <thead>\n    <tr style=\"text-align: right;\">\n      <th></th>\n      <th>Target</th>\n      <th>broad_id</th>\n    </tr>\n    <tr>\n      <th>InChIKey</th>\n      <th></th>\n      <th></th>\n    </tr>\n  </thead>\n  <tbody>\n    <tr>\n      <th>VMWNQDUVQKEIOC-CYBMUJFWSA-N</th>\n      <td>ADRA2A, ADRA2B, ADRA2C, CALY, DRD1, DRD2, DRD3...</td>\n      <td>BRD-K76022557</td>\n    </tr>\n    <tr>\n      <th>HJORMJIFDVBMOB-LBPRGKRZSA-N</th>\n      <td>PDE4A, PDE4B, PDE4C, PDE4D, PDE5A</td>\n      <td>BRD-K75516118</td>\n    </tr>\n    <tr>\n      <th>KPYSYYIEGFHWSV-QMMMGPOBSA-N</th>\n      <td>GABBR1, GABBR2</td>\n      <td>BRD-K62353271</td>\n    </tr>\n    <tr>\n      <th>HJORMJIFDVBMOB-GFCCVEGCSA-N</th>\n      <td>PDE4B, PDE4D</td>\n      <td>BRD-K65856711</td>\n    </tr>\n    <tr>\n      <th>OUPXSLGGCPUZJJ-SARDKLJWSA-N</th>\n      <td>TACR1</td>\n      <td>BRD-K89787693</td>\n    </tr>\n    <tr>\n      <th>...</th>\n      <td>...</td>\n      <td>...</td>\n    </tr>\n    <tr>\n      <th>RVIGBTUDFAGRTQ-NSHDSACASA-N</th>\n      <td>MTNR1A, MTNR1B</td>\n      <td>BRD-A07232941</td>\n    </tr>\n    <tr>\n      <th>QCLFSYYUWPUWQR-UHFFFAOYSA-N</th>\n      <td>NaN</td>\n      <td>BRD-K03044000</td>\n    </tr>\n    <tr>\n      <th>XJGFWWJLMVZSIG-UHFFFAOYSA-N</th>\n      <td>NaN</td>\n      <td>BRD-K00535541</td>\n    </tr>\n    <tr>\n      <th>FUXVKZWTXQUGMW-FQEVSTJZSA-N</th>\n      <td>TOP1</td>\n      <td>BRD-K09291936</td>\n    </tr>\n    <tr>\n      <th>XGWFJBFNAQHLEF-UHFFFAOYSA-N</th>\n      <td>ANO1, CLCN1</td>\n      <td>BRD-K62607075</td>\n    </tr>\n  </tbody>\n</table>\n<p>6769 rows × 2 columns</p>\n</div>"
     },
     "execution_count": 71,
     "metadata": {},
     "output_type": "execute_result"
    }
   ],
   "source": [
    "drh = drh[~drh.index.duplicated(keep='first')]\n",
    "drh"
   ],
   "metadata": {
    "collapsed": false,
    "pycharm": {
     "name": "#%%\n"
    }
   }
  },
  {
   "cell_type": "code",
   "execution_count": 71,
   "outputs": [],
   "source": [],
   "metadata": {
    "collapsed": false,
    "pycharm": {
     "name": "#%%\n"
    }
   }
  },
  {
   "cell_type": "code",
   "execution_count": 72,
   "outputs": [
    {
     "data": {
      "text/plain": "                                                                    TTD Target\nInChIKey                                                                      \nMSUMHGMGRZWLMN-WXPZYUJUSA-N                                              GSK3B\nYYLKKYCXAOBSRM-JXMROGBWSA-N                                               FLT3\nJLFMYEAXZNPWBK-REWPJTCUSA-N                         OPRL1, OPRM1, OPRK1, OPRD1\nDNTSIBUQMRRYIU-UHFFFAOYSA-N                                              PPARG\nDCDHWTNKKCKJLQ-UHFFFAOYSA-N                             CYP3A4, CYP2D6, CYP2C9\n...                                                                        ...\nGDLIGKIOYRNHDA-UHFFFAOYSA-N  HTR6, ABCC4, Trypano TPR, SLC6A3, ABCC2, SLC6A...\nNCDNCNXCDXHOMX-XGKFQTDJSA-N  ABCC4, SLCO1B3, SLC47A2, CYP3A4, Malaria PLA5,...\nWIVGIKIKQHUFOD-UHFFFAOYSA-N                             GRM2, GRM1, GRM8, GRM5\nDNVXATUJJDPFDM-KRWDZBQOSA-N                     BRDT, CREBBP, BRD3, BRD4, BRD2\nACGUYXCXAPNIKK-UHFFFAOYSA-N                                         HSPA5, MIF\n\n[3813 rows x 1 columns]",
      "text/html": "<div>\n<style scoped>\n    .dataframe tbody tr th:only-of-type {\n        vertical-align: middle;\n    }\n\n    .dataframe tbody tr th {\n        vertical-align: top;\n    }\n\n    .dataframe thead th {\n        text-align: right;\n    }\n</style>\n<table border=\"1\" class=\"dataframe\">\n  <thead>\n    <tr style=\"text-align: right;\">\n      <th></th>\n      <th>TTD Target</th>\n    </tr>\n    <tr>\n      <th>InChIKey</th>\n      <th></th>\n    </tr>\n  </thead>\n  <tbody>\n    <tr>\n      <th>MSUMHGMGRZWLMN-WXPZYUJUSA-N</th>\n      <td>GSK3B</td>\n    </tr>\n    <tr>\n      <th>YYLKKYCXAOBSRM-JXMROGBWSA-N</th>\n      <td>FLT3</td>\n    </tr>\n    <tr>\n      <th>JLFMYEAXZNPWBK-REWPJTCUSA-N</th>\n      <td>OPRL1, OPRM1, OPRK1, OPRD1</td>\n    </tr>\n    <tr>\n      <th>DNTSIBUQMRRYIU-UHFFFAOYSA-N</th>\n      <td>PPARG</td>\n    </tr>\n    <tr>\n      <th>DCDHWTNKKCKJLQ-UHFFFAOYSA-N</th>\n      <td>CYP3A4, CYP2D6, CYP2C9</td>\n    </tr>\n    <tr>\n      <th>...</th>\n      <td>...</td>\n    </tr>\n    <tr>\n      <th>GDLIGKIOYRNHDA-UHFFFAOYSA-N</th>\n      <td>HTR6, ABCC4, Trypano TPR, SLC6A3, ABCC2, SLC6A...</td>\n    </tr>\n    <tr>\n      <th>NCDNCNXCDXHOMX-XGKFQTDJSA-N</th>\n      <td>ABCC4, SLCO1B3, SLC47A2, CYP3A4, Malaria PLA5,...</td>\n    </tr>\n    <tr>\n      <th>WIVGIKIKQHUFOD-UHFFFAOYSA-N</th>\n      <td>GRM2, GRM1, GRM8, GRM5</td>\n    </tr>\n    <tr>\n      <th>DNVXATUJJDPFDM-KRWDZBQOSA-N</th>\n      <td>BRDT, CREBBP, BRD3, BRD4, BRD2</td>\n    </tr>\n    <tr>\n      <th>ACGUYXCXAPNIKK-UHFFFAOYSA-N</th>\n      <td>HSPA5, MIF</td>\n    </tr>\n  </tbody>\n</table>\n<p>3813 rows × 1 columns</p>\n</div>"
     },
     "execution_count": 72,
     "metadata": {},
     "output_type": "execute_result"
    }
   ],
   "source": [
    "ttd_df = ttd_df[~ttd_df.index.duplicated(keep='first')]\n",
    "ttd_df"
   ],
   "metadata": {
    "collapsed": false,
    "pycharm": {
     "name": "#%%\n"
    }
   }
  },
  {
   "cell_type": "code",
   "execution_count": 73,
   "outputs": [
    {
     "data": {
      "text/plain": "                                                                        Target  \\\nInChIKey                                                                         \nVMWNQDUVQKEIOC-CYBMUJFWSA-N  ADRA2A, ADRA2B, ADRA2C, CALY, DRD1, DRD2, DRD3...   \nHJORMJIFDVBMOB-LBPRGKRZSA-N                  PDE4A, PDE4B, PDE4C, PDE4D, PDE5A   \nKPYSYYIEGFHWSV-QMMMGPOBSA-N                                     GABBR1, GABBR2   \nHJORMJIFDVBMOB-GFCCVEGCSA-N                                       PDE4B, PDE4D   \nOUPXSLGGCPUZJJ-SARDKLJWSA-N                                              TACR1   \n...                                                                        ...   \nGAYSOZKZPOVDSB-HZMBPMFUSA-N                                                NaN   \nUXNUQVZRIJPJBL-UHFFFAOYSA-N                                                NaN   \nLBWQSAZEYIZZCE-SNVBAGLBSA-N                                                NaN   \nFFNDMZIBVDSQFI-UHFFFAOYSA-N                                                NaN   \nWIVGIKIKQHUFOD-UHFFFAOYSA-N                                                NaN   \n\n                                  broad_id  \\\nInChIKey                                     \nVMWNQDUVQKEIOC-CYBMUJFWSA-N  BRD-K76022557   \nHJORMJIFDVBMOB-LBPRGKRZSA-N  BRD-K75516118   \nKPYSYYIEGFHWSV-QMMMGPOBSA-N  BRD-K62353271   \nHJORMJIFDVBMOB-GFCCVEGCSA-N  BRD-K65856711   \nOUPXSLGGCPUZJJ-SARDKLJWSA-N  BRD-K89787693   \n...                                    ...   \nGAYSOZKZPOVDSB-HZMBPMFUSA-N            NaN   \nUXNUQVZRIJPJBL-UHFFFAOYSA-N            NaN   \nLBWQSAZEYIZZCE-SNVBAGLBSA-N            NaN   \nFFNDMZIBVDSQFI-UHFFFAOYSA-N            NaN   \nWIVGIKIKQHUFOD-UHFFFAOYSA-N            NaN   \n\n                                                                    TTD Target  \nInChIKey                                                                        \nVMWNQDUVQKEIOC-CYBMUJFWSA-N  HTR1A, ABCC4, DRD3, DRD2, DRD4, ABCC2, ABCB11,...  \nHJORMJIFDVBMOB-LBPRGKRZSA-N                         PDE4A, PDE4C, PDE4D, PDE4B  \nKPYSYYIEGFHWSV-QMMMGPOBSA-N                                                NaN  \nHJORMJIFDVBMOB-GFCCVEGCSA-N                                       PDE4A, PDE4D  \nOUPXSLGGCPUZJJ-SARDKLJWSA-N                                                NaN  \n...                                                                        ...  \nGAYSOZKZPOVDSB-HZMBPMFUSA-N              ADRB1, DRD2, HTR3A, HTR4, ADRB2, DRD1  \nUXNUQVZRIJPJBL-UHFFFAOYSA-N                             MKNK2, MKNK1, BCR-ABL1  \nLBWQSAZEYIZZCE-SNVBAGLBSA-N                         CRHR2, CRHBP, CRHR1, TACR2  \nFFNDMZIBVDSQFI-UHFFFAOYSA-N                              KDR, GLO1, EGFR, EGFR  \nWIVGIKIKQHUFOD-UHFFFAOYSA-N                             GRM2, GRM1, GRM8, GRM5  \n\n[9183 rows x 3 columns]",
      "text/html": "<div>\n<style scoped>\n    .dataframe tbody tr th:only-of-type {\n        vertical-align: middle;\n    }\n\n    .dataframe tbody tr th {\n        vertical-align: top;\n    }\n\n    .dataframe thead th {\n        text-align: right;\n    }\n</style>\n<table border=\"1\" class=\"dataframe\">\n  <thead>\n    <tr style=\"text-align: right;\">\n      <th></th>\n      <th>Target</th>\n      <th>broad_id</th>\n      <th>TTD Target</th>\n    </tr>\n    <tr>\n      <th>InChIKey</th>\n      <th></th>\n      <th></th>\n      <th></th>\n    </tr>\n  </thead>\n  <tbody>\n    <tr>\n      <th>VMWNQDUVQKEIOC-CYBMUJFWSA-N</th>\n      <td>ADRA2A, ADRA2B, ADRA2C, CALY, DRD1, DRD2, DRD3...</td>\n      <td>BRD-K76022557</td>\n      <td>HTR1A, ABCC4, DRD3, DRD2, DRD4, ABCC2, ABCB11,...</td>\n    </tr>\n    <tr>\n      <th>HJORMJIFDVBMOB-LBPRGKRZSA-N</th>\n      <td>PDE4A, PDE4B, PDE4C, PDE4D, PDE5A</td>\n      <td>BRD-K75516118</td>\n      <td>PDE4A, PDE4C, PDE4D, PDE4B</td>\n    </tr>\n    <tr>\n      <th>KPYSYYIEGFHWSV-QMMMGPOBSA-N</th>\n      <td>GABBR1, GABBR2</td>\n      <td>BRD-K62353271</td>\n      <td>NaN</td>\n    </tr>\n    <tr>\n      <th>HJORMJIFDVBMOB-GFCCVEGCSA-N</th>\n      <td>PDE4B, PDE4D</td>\n      <td>BRD-K65856711</td>\n      <td>PDE4A, PDE4D</td>\n    </tr>\n    <tr>\n      <th>OUPXSLGGCPUZJJ-SARDKLJWSA-N</th>\n      <td>TACR1</td>\n      <td>BRD-K89787693</td>\n      <td>NaN</td>\n    </tr>\n    <tr>\n      <th>...</th>\n      <td>...</td>\n      <td>...</td>\n      <td>...</td>\n    </tr>\n    <tr>\n      <th>GAYSOZKZPOVDSB-HZMBPMFUSA-N</th>\n      <td>NaN</td>\n      <td>NaN</td>\n      <td>ADRB1, DRD2, HTR3A, HTR4, ADRB2, DRD1</td>\n    </tr>\n    <tr>\n      <th>UXNUQVZRIJPJBL-UHFFFAOYSA-N</th>\n      <td>NaN</td>\n      <td>NaN</td>\n      <td>MKNK2, MKNK1, BCR-ABL1</td>\n    </tr>\n    <tr>\n      <th>LBWQSAZEYIZZCE-SNVBAGLBSA-N</th>\n      <td>NaN</td>\n      <td>NaN</td>\n      <td>CRHR2, CRHBP, CRHR1, TACR2</td>\n    </tr>\n    <tr>\n      <th>FFNDMZIBVDSQFI-UHFFFAOYSA-N</th>\n      <td>NaN</td>\n      <td>NaN</td>\n      <td>KDR, GLO1, EGFR, EGFR</td>\n    </tr>\n    <tr>\n      <th>WIVGIKIKQHUFOD-UHFFFAOYSA-N</th>\n      <td>NaN</td>\n      <td>NaN</td>\n      <td>GRM2, GRM1, GRM8, GRM5</td>\n    </tr>\n  </tbody>\n</table>\n<p>9183 rows × 3 columns</p>\n</div>"
     },
     "execution_count": 73,
     "metadata": {},
     "output_type": "execute_result"
    }
   ],
   "source": [
    "ttd_drh_merge = pd.concat([drh, ttd_df], axis=1, join='outer')\n",
    "ttd_drh_merge"
   ],
   "metadata": {
    "collapsed": false,
    "pycharm": {
     "name": "#%%\n"
    }
   }
  },
  {
   "cell_type": "code",
   "execution_count": 74,
   "outputs": [],
   "source": [
    "ttd_drh_merge.dropna(subset='broad_id', inplace=True)\n",
    "ttd_drh_merge = ttd_drh_merge.reset_index().set_index('broad_id')"
   ],
   "metadata": {
    "collapsed": false,
    "pycharm": {
     "name": "#%%\n"
    }
   }
  },
  {
   "cell_type": "code",
   "execution_count": 75,
   "outputs": [],
   "source": [
    "ttd_drh_merge.to_csv('ttd_drh_merge.csv', index=True)"
   ],
   "metadata": {
    "collapsed": false,
    "pycharm": {
     "name": "#%%\n"
    }
   }
  },
  {
   "cell_type": "code",
   "execution_count": 76,
   "outputs": [
    {
     "data": {
      "text/plain": "                                  InChIKey  \\\nbroad_id                                     \nBRD-K76022557  VMWNQDUVQKEIOC-CYBMUJFWSA-N   \nBRD-K75516118  HJORMJIFDVBMOB-LBPRGKRZSA-N   \nBRD-K62353271  KPYSYYIEGFHWSV-QMMMGPOBSA-N   \nBRD-K65856711  HJORMJIFDVBMOB-GFCCVEGCSA-N   \nBRD-K89787693  OUPXSLGGCPUZJJ-SARDKLJWSA-N   \n...                                    ...   \nBRD-A07232941  RVIGBTUDFAGRTQ-NSHDSACASA-N   \nBRD-K03044000  QCLFSYYUWPUWQR-UHFFFAOYSA-N   \nBRD-K00535541  XJGFWWJLMVZSIG-UHFFFAOYSA-N   \nBRD-K09291936  FUXVKZWTXQUGMW-FQEVSTJZSA-N   \nBRD-K62607075  XGWFJBFNAQHLEF-UHFFFAOYSA-N   \n\n                                                          Target  \\\nbroad_id                                                           \nBRD-K76022557  ADRA2A, ADRA2B, ADRA2C, CALY, DRD1, DRD2, DRD3...   \nBRD-K75516118                  PDE4A, PDE4B, PDE4C, PDE4D, PDE5A   \nBRD-K62353271                                     GABBR1, GABBR2   \nBRD-K65856711                                       PDE4B, PDE4D   \nBRD-K89787693                                              TACR1   \n...                                                          ...   \nBRD-A07232941                                     MTNR1A, MTNR1B   \nBRD-K03044000                                                NaN   \nBRD-K00535541                                                NaN   \nBRD-K09291936                                               TOP1   \nBRD-K62607075                                        ANO1, CLCN1   \n\n                                                      TTD Target  \nbroad_id                                                          \nBRD-K76022557  HTR1A, ABCC4, DRD3, DRD2, DRD4, ABCC2, ABCB11,...  \nBRD-K75516118                         PDE4A, PDE4C, PDE4D, PDE4B  \nBRD-K62353271                                                NaN  \nBRD-K65856711                                       PDE4A, PDE4D  \nBRD-K89787693                                                NaN  \n...                                                          ...  \nBRD-A07232941                                                NaN  \nBRD-K03044000                                                NaN  \nBRD-K00535541                                                NaN  \nBRD-K09291936                                                NaN  \nBRD-K62607075                                                NaN  \n\n[6769 rows x 3 columns]",
      "text/html": "<div>\n<style scoped>\n    .dataframe tbody tr th:only-of-type {\n        vertical-align: middle;\n    }\n\n    .dataframe tbody tr th {\n        vertical-align: top;\n    }\n\n    .dataframe thead th {\n        text-align: right;\n    }\n</style>\n<table border=\"1\" class=\"dataframe\">\n  <thead>\n    <tr style=\"text-align: right;\">\n      <th></th>\n      <th>InChIKey</th>\n      <th>Target</th>\n      <th>TTD Target</th>\n    </tr>\n    <tr>\n      <th>broad_id</th>\n      <th></th>\n      <th></th>\n      <th></th>\n    </tr>\n  </thead>\n  <tbody>\n    <tr>\n      <th>BRD-K76022557</th>\n      <td>VMWNQDUVQKEIOC-CYBMUJFWSA-N</td>\n      <td>ADRA2A, ADRA2B, ADRA2C, CALY, DRD1, DRD2, DRD3...</td>\n      <td>HTR1A, ABCC4, DRD3, DRD2, DRD4, ABCC2, ABCB11,...</td>\n    </tr>\n    <tr>\n      <th>BRD-K75516118</th>\n      <td>HJORMJIFDVBMOB-LBPRGKRZSA-N</td>\n      <td>PDE4A, PDE4B, PDE4C, PDE4D, PDE5A</td>\n      <td>PDE4A, PDE4C, PDE4D, PDE4B</td>\n    </tr>\n    <tr>\n      <th>BRD-K62353271</th>\n      <td>KPYSYYIEGFHWSV-QMMMGPOBSA-N</td>\n      <td>GABBR1, GABBR2</td>\n      <td>NaN</td>\n    </tr>\n    <tr>\n      <th>BRD-K65856711</th>\n      <td>HJORMJIFDVBMOB-GFCCVEGCSA-N</td>\n      <td>PDE4B, PDE4D</td>\n      <td>PDE4A, PDE4D</td>\n    </tr>\n    <tr>\n      <th>BRD-K89787693</th>\n      <td>OUPXSLGGCPUZJJ-SARDKLJWSA-N</td>\n      <td>TACR1</td>\n      <td>NaN</td>\n    </tr>\n    <tr>\n      <th>...</th>\n      <td>...</td>\n      <td>...</td>\n      <td>...</td>\n    </tr>\n    <tr>\n      <th>BRD-A07232941</th>\n      <td>RVIGBTUDFAGRTQ-NSHDSACASA-N</td>\n      <td>MTNR1A, MTNR1B</td>\n      <td>NaN</td>\n    </tr>\n    <tr>\n      <th>BRD-K03044000</th>\n      <td>QCLFSYYUWPUWQR-UHFFFAOYSA-N</td>\n      <td>NaN</td>\n      <td>NaN</td>\n    </tr>\n    <tr>\n      <th>BRD-K00535541</th>\n      <td>XJGFWWJLMVZSIG-UHFFFAOYSA-N</td>\n      <td>NaN</td>\n      <td>NaN</td>\n    </tr>\n    <tr>\n      <th>BRD-K09291936</th>\n      <td>FUXVKZWTXQUGMW-FQEVSTJZSA-N</td>\n      <td>TOP1</td>\n      <td>NaN</td>\n    </tr>\n    <tr>\n      <th>BRD-K62607075</th>\n      <td>XGWFJBFNAQHLEF-UHFFFAOYSA-N</td>\n      <td>ANO1, CLCN1</td>\n      <td>NaN</td>\n    </tr>\n  </tbody>\n</table>\n<p>6769 rows × 3 columns</p>\n</div>"
     },
     "execution_count": 76,
     "metadata": {},
     "output_type": "execute_result"
    }
   ],
   "source": [
    "ttd_drh_merge"
   ],
   "metadata": {
    "collapsed": false,
    "pycharm": {
     "name": "#%%\n"
    }
   }
  }
 ],
 "metadata": {
  "kernelspec": {
   "display_name": "Python 3",
   "language": "python",
   "name": "python3"
  },
  "language_info": {
   "codemirror_mode": {
    "name": "ipython",
    "version": 2
   },
   "file_extension": ".py",
   "mimetype": "text/x-python",
   "name": "python",
   "nbconvert_exporter": "python",
   "pygments_lexer": "ipython2",
   "version": "2.7.6"
  }
 },
 "nbformat": 4,
 "nbformat_minor": 0
}