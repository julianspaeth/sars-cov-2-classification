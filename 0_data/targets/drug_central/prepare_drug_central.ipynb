{
 "cells": [
  {
   "cell_type": "code",
   "execution_count": 1,
   "outputs": [],
   "source": [
    "import pandas as pd"
   ],
   "metadata": {
    "collapsed": false,
    "pycharm": {
     "name": "#%%\n"
    }
   }
  },
  {
   "cell_type": "code",
   "execution_count": 7,
   "outputs": [
    {
     "data": {
      "text/plain": "STRUCT_ID\n4       KCNH2, SCN1A, SCN4A, PTGER1, CYP2D6, HTR3A, KC...\n5                                         CACNA1D|CACNA1C\n6                        KCNN4, CACNA1D, CACNA1F, CACNA1C\n13                                                  ADRB1\n21                                                   DHFR\n                              ...                        \n5457                                                   C3\n5458                                                FOLH1\n5459    MST1R, ABL1, KIT, SRC, LCK, YES1, FYN, BRAF, F...\n5460                                  OPRM1, OPRK1, OPRD1\n5461                                                 KRAS\nName: GENE, Length: 2339, dtype: object"
     },
     "execution_count": 7,
     "metadata": {},
     "output_type": "execute_result"
    }
   ],
   "source": [
    "dc_targets = pd.read_csv('drug.target.interaction.tsv', sep='\\t')\n",
    "dc_targets = dc_targets[dc_targets['ORGANISM'] == 'Homo sapiens']\n",
    "dc_targets = dc_targets.groupby('STRUCT_ID')['GENE'].apply(lambda x: \", \".join(x))\n",
    "dc_targets"
   ],
   "metadata": {
    "collapsed": false,
    "pycharm": {
     "name": "#%%\n"
    }
   }
  },
  {
   "cell_type": "code",
   "execution_count": 21,
   "outputs": [
    {
     "data": {
      "text/plain": "                         InChIKey\nID                               \n4     LEBVLXFERQHONN-INIZCTEOSA-N\n5     ZBBHBTPTTSWHBA-DEOSSOPVSA-N\n6     PVHUJELLJLJGLN-INIZCTEOSA-N\n13    JRWZLRBJNMZMFE-ZDUSSCGKSA-N\n21    TVZGACDUOSZQKY-LBPRGKRZSA-N\n...                           ...\n5450  AJIPIJNNOJSSQC-NYLIRDPKSA-N\n5459  QADPYRIHXKWUSV-UHFFFAOYSA-N\n5460  RYIDHLJADOKWFM-UHFFFAOYSA-N\n5461  BODYFEUFKHPRCK-ZCZMVWJSSA-N\n5462  BODYFEUFKHPRCK-ZCZMVWJSSA-N\n\n[4098 rows x 1 columns]",
      "text/html": "<div>\n<style scoped>\n    .dataframe tbody tr th:only-of-type {\n        vertical-align: middle;\n    }\n\n    .dataframe tbody tr th {\n        vertical-align: top;\n    }\n\n    .dataframe thead th {\n        text-align: right;\n    }\n</style>\n<table border=\"1\" class=\"dataframe\">\n  <thead>\n    <tr style=\"text-align: right;\">\n      <th></th>\n      <th>InChIKey</th>\n    </tr>\n    <tr>\n      <th>ID</th>\n      <th></th>\n    </tr>\n  </thead>\n  <tbody>\n    <tr>\n      <th>4</th>\n      <td>LEBVLXFERQHONN-INIZCTEOSA-N</td>\n    </tr>\n    <tr>\n      <th>5</th>\n      <td>ZBBHBTPTTSWHBA-DEOSSOPVSA-N</td>\n    </tr>\n    <tr>\n      <th>6</th>\n      <td>PVHUJELLJLJGLN-INIZCTEOSA-N</td>\n    </tr>\n    <tr>\n      <th>13</th>\n      <td>JRWZLRBJNMZMFE-ZDUSSCGKSA-N</td>\n    </tr>\n    <tr>\n      <th>21</th>\n      <td>TVZGACDUOSZQKY-LBPRGKRZSA-N</td>\n    </tr>\n    <tr>\n      <th>...</th>\n      <td>...</td>\n    </tr>\n    <tr>\n      <th>5450</th>\n      <td>AJIPIJNNOJSSQC-NYLIRDPKSA-N</td>\n    </tr>\n    <tr>\n      <th>5459</th>\n      <td>QADPYRIHXKWUSV-UHFFFAOYSA-N</td>\n    </tr>\n    <tr>\n      <th>5460</th>\n      <td>RYIDHLJADOKWFM-UHFFFAOYSA-N</td>\n    </tr>\n    <tr>\n      <th>5461</th>\n      <td>BODYFEUFKHPRCK-ZCZMVWJSSA-N</td>\n    </tr>\n    <tr>\n      <th>5462</th>\n      <td>BODYFEUFKHPRCK-ZCZMVWJSSA-N</td>\n    </tr>\n  </tbody>\n</table>\n<p>4098 rows × 1 columns</p>\n</div>"
     },
     "execution_count": 21,
     "metadata": {},
     "output_type": "execute_result"
    }
   ],
   "source": [
    "dc_structures = pd.read_csv('structures.smiles.tsv', sep='\\t', usecols=['ID', 'InChIKey']).set_index('ID').sort_index().dropna(subset=['InChIKey'])\n",
    "dc_structures"
   ],
   "metadata": {
    "collapsed": false,
    "pycharm": {
     "name": "#%%\n"
    }
   }
  },
  {
   "cell_type": "code",
   "execution_count": 28,
   "outputs": [],
   "source": [
    "dc = pd.concat([dc_structures, dc_targets], axis=1, join='outer').rename({'GENE': 'DC Target'}, axis=1)\n",
    "dc['DC Target'] = dc['DC Target'].apply(lambda x: x.replace('|', ', ') if type(x) == str else x)\n",
    "dc = dc.dropna()\n",
    "dc.set_index('InChIKey', inplace=True)"
   ],
   "metadata": {
    "collapsed": false,
    "pycharm": {
     "name": "#%%\n"
    }
   }
  },
  {
   "cell_type": "code",
   "execution_count": 29,
   "outputs": [
    {
     "data": {
      "text/plain": "                                                                        Target  \\\nInChIKey                                                                         \nVMWNQDUVQKEIOC-CYBMUJFWSA-N  ADRA2A, ADRA2B, ADRA2C, CALY, DRD1, DRD2, DRD3...   \nHJORMJIFDVBMOB-LBPRGKRZSA-N                  PDE4A, PDE4B, PDE4C, PDE4D, PDE5A   \nKPYSYYIEGFHWSV-QMMMGPOBSA-N                                     GABBR1, GABBR2   \nHJORMJIFDVBMOB-GFCCVEGCSA-N                                       PDE4B, PDE4D   \nOUPXSLGGCPUZJJ-SARDKLJWSA-N                                              TACR1   \n...                                                                        ...   \nRVIGBTUDFAGRTQ-NSHDSACASA-N                                     MTNR1A, MTNR1B   \nQCLFSYYUWPUWQR-UHFFFAOYSA-N                                                NaN   \nXJGFWWJLMVZSIG-UHFFFAOYSA-N                                                NaN   \nFUXVKZWTXQUGMW-FQEVSTJZSA-N                                               TOP1   \nXGWFJBFNAQHLEF-UHFFFAOYSA-N                                        ANO1, CLCN1   \n\n                                  broad_id  \nInChIKey                                    \nVMWNQDUVQKEIOC-CYBMUJFWSA-N  BRD-K76022557  \nHJORMJIFDVBMOB-LBPRGKRZSA-N  BRD-K75516118  \nKPYSYYIEGFHWSV-QMMMGPOBSA-N  BRD-K62353271  \nHJORMJIFDVBMOB-GFCCVEGCSA-N  BRD-K65856711  \nOUPXSLGGCPUZJJ-SARDKLJWSA-N  BRD-K89787693  \n...                                    ...  \nRVIGBTUDFAGRTQ-NSHDSACASA-N  BRD-A07232941  \nQCLFSYYUWPUWQR-UHFFFAOYSA-N  BRD-K03044000  \nXJGFWWJLMVZSIG-UHFFFAOYSA-N  BRD-K00535541  \nFUXVKZWTXQUGMW-FQEVSTJZSA-N  BRD-K09291936  \nXGWFJBFNAQHLEF-UHFFFAOYSA-N  BRD-K62607075  \n\n[6769 rows x 2 columns]",
      "text/html": "<div>\n<style scoped>\n    .dataframe tbody tr th:only-of-type {\n        vertical-align: middle;\n    }\n\n    .dataframe tbody tr th {\n        vertical-align: top;\n    }\n\n    .dataframe thead th {\n        text-align: right;\n    }\n</style>\n<table border=\"1\" class=\"dataframe\">\n  <thead>\n    <tr style=\"text-align: right;\">\n      <th></th>\n      <th>Target</th>\n      <th>broad_id</th>\n    </tr>\n    <tr>\n      <th>InChIKey</th>\n      <th></th>\n      <th></th>\n    </tr>\n  </thead>\n  <tbody>\n    <tr>\n      <th>VMWNQDUVQKEIOC-CYBMUJFWSA-N</th>\n      <td>ADRA2A, ADRA2B, ADRA2C, CALY, DRD1, DRD2, DRD3...</td>\n      <td>BRD-K76022557</td>\n    </tr>\n    <tr>\n      <th>HJORMJIFDVBMOB-LBPRGKRZSA-N</th>\n      <td>PDE4A, PDE4B, PDE4C, PDE4D, PDE5A</td>\n      <td>BRD-K75516118</td>\n    </tr>\n    <tr>\n      <th>KPYSYYIEGFHWSV-QMMMGPOBSA-N</th>\n      <td>GABBR1, GABBR2</td>\n      <td>BRD-K62353271</td>\n    </tr>\n    <tr>\n      <th>HJORMJIFDVBMOB-GFCCVEGCSA-N</th>\n      <td>PDE4B, PDE4D</td>\n      <td>BRD-K65856711</td>\n    </tr>\n    <tr>\n      <th>OUPXSLGGCPUZJJ-SARDKLJWSA-N</th>\n      <td>TACR1</td>\n      <td>BRD-K89787693</td>\n    </tr>\n    <tr>\n      <th>...</th>\n      <td>...</td>\n      <td>...</td>\n    </tr>\n    <tr>\n      <th>RVIGBTUDFAGRTQ-NSHDSACASA-N</th>\n      <td>MTNR1A, MTNR1B</td>\n      <td>BRD-A07232941</td>\n    </tr>\n    <tr>\n      <th>QCLFSYYUWPUWQR-UHFFFAOYSA-N</th>\n      <td>NaN</td>\n      <td>BRD-K03044000</td>\n    </tr>\n    <tr>\n      <th>XJGFWWJLMVZSIG-UHFFFAOYSA-N</th>\n      <td>NaN</td>\n      <td>BRD-K00535541</td>\n    </tr>\n    <tr>\n      <th>FUXVKZWTXQUGMW-FQEVSTJZSA-N</th>\n      <td>TOP1</td>\n      <td>BRD-K09291936</td>\n    </tr>\n    <tr>\n      <th>XGWFJBFNAQHLEF-UHFFFAOYSA-N</th>\n      <td>ANO1, CLCN1</td>\n      <td>BRD-K62607075</td>\n    </tr>\n  </tbody>\n</table>\n<p>6769 rows × 2 columns</p>\n</div>"
     },
     "execution_count": 29,
     "metadata": {},
     "output_type": "execute_result"
    }
   ],
   "source": [
    "repurposing_hub_drug_targets = pd.read_csv(\"../../data/primary_data/repurposing_hub_drug_targets.txt\", sep=\"\\t\").drop(\n",
    "    ['MOA', 'Phase'], axis=1).set_index('Name')\n",
    "repurposing_hub_drug_targets = repurposing_hub_drug_targets[\n",
    "    ~repurposing_hub_drug_targets.index.duplicated(keep='first')]\n",
    "\n",
    "repurposing_hub_drugs = pd.read_csv('../../data/primary_data/repurposing_hub_drugs.txt', skiprows=9, sep='\\t')\n",
    "repurposing_hub_drugs['broad_id'] = repurposing_hub_drugs['broad_id'].apply(lambda x: x[:-9])\n",
    "repurposing_hub_drugs = repurposing_hub_drugs.loc[:, ['broad_id', 'pert_iname', 'InChIKey']].drop_duplicates().rename(\n",
    "    {'pert_iname': 'Name'}, axis=1).set_index('Name')\n",
    "repurposing_hub_drugs = repurposing_hub_drugs[~repurposing_hub_drugs.index.duplicated(keep='first')]\n",
    "drh = pd.concat([repurposing_hub_drug_targets, repurposing_hub_drugs], axis=1, join='inner').set_index('InChIKey')\n",
    "drh = drh[~drh.index.duplicated(keep='first')]\n",
    "drh"
   ],
   "metadata": {
    "collapsed": false,
    "pycharm": {
     "name": "#%%\n"
    }
   }
  },
  {
   "cell_type": "code",
   "execution_count": 34,
   "outputs": [],
   "source": [
    "drh_dc_merge = pd.concat([drh, dc], axis=1, join='outer').dropna(subset='broad_id').reset_index().set_index('broad_id')"
   ],
   "metadata": {
    "collapsed": false,
    "pycharm": {
     "name": "#%%\n"
    }
   }
  },
  {
   "cell_type": "code",
   "execution_count": 35,
   "outputs": [
    {
     "data": {
      "text/plain": "                                  InChIKey  \\\nbroad_id                                     \nBRD-K76022557  VMWNQDUVQKEIOC-CYBMUJFWSA-N   \nBRD-K75516118  HJORMJIFDVBMOB-LBPRGKRZSA-N   \nBRD-K62353271  KPYSYYIEGFHWSV-QMMMGPOBSA-N   \nBRD-K65856711  HJORMJIFDVBMOB-GFCCVEGCSA-N   \nBRD-K89787693  OUPXSLGGCPUZJJ-SARDKLJWSA-N   \n...                                    ...   \nBRD-A07232941  RVIGBTUDFAGRTQ-NSHDSACASA-N   \nBRD-K03044000  QCLFSYYUWPUWQR-UHFFFAOYSA-N   \nBRD-K00535541  XJGFWWJLMVZSIG-UHFFFAOYSA-N   \nBRD-K09291936  FUXVKZWTXQUGMW-FQEVSTJZSA-N   \nBRD-K62607075  XGWFJBFNAQHLEF-UHFFFAOYSA-N   \n\n                                                          Target  \\\nbroad_id                                                           \nBRD-K76022557  ADRA2A, ADRA2B, ADRA2C, CALY, DRD1, DRD2, DRD3...   \nBRD-K75516118                  PDE4A, PDE4B, PDE4C, PDE4D, PDE5A   \nBRD-K62353271                                     GABBR1, GABBR2   \nBRD-K65856711                                       PDE4B, PDE4D   \nBRD-K89787693                                              TACR1   \n...                                                          ...   \nBRD-A07232941                                     MTNR1A, MTNR1B   \nBRD-K03044000                                                NaN   \nBRD-K00535541                                                NaN   \nBRD-K09291936                                               TOP1   \nBRD-K62607075                                        ANO1, CLCN1   \n\n                                                       DC Target  \nbroad_id                                                          \nBRD-K76022557  DRD1, DRD2, ADRA2A, HTR1A, HTR2A, HTR2B, HTR2C...  \nBRD-K75516118                                                NaN  \nBRD-K62353271                                                NaN  \nBRD-K65856711                                                NaN  \nBRD-K89787693                                                NaN  \n...                                                          ...  \nBRD-A07232941                                                NaN  \nBRD-K03044000                                                NaN  \nBRD-K00535541                                         NQO2, NQO2  \nBRD-K09291936                                                NaN  \nBRD-K62607075                                                NaN  \n\n[6769 rows x 3 columns]",
      "text/html": "<div>\n<style scoped>\n    .dataframe tbody tr th:only-of-type {\n        vertical-align: middle;\n    }\n\n    .dataframe tbody tr th {\n        vertical-align: top;\n    }\n\n    .dataframe thead th {\n        text-align: right;\n    }\n</style>\n<table border=\"1\" class=\"dataframe\">\n  <thead>\n    <tr style=\"text-align: right;\">\n      <th></th>\n      <th>InChIKey</th>\n      <th>Target</th>\n      <th>DC Target</th>\n    </tr>\n    <tr>\n      <th>broad_id</th>\n      <th></th>\n      <th></th>\n      <th></th>\n    </tr>\n  </thead>\n  <tbody>\n    <tr>\n      <th>BRD-K76022557</th>\n      <td>VMWNQDUVQKEIOC-CYBMUJFWSA-N</td>\n      <td>ADRA2A, ADRA2B, ADRA2C, CALY, DRD1, DRD2, DRD3...</td>\n      <td>DRD1, DRD2, ADRA2A, HTR1A, HTR2A, HTR2B, HTR2C...</td>\n    </tr>\n    <tr>\n      <th>BRD-K75516118</th>\n      <td>HJORMJIFDVBMOB-LBPRGKRZSA-N</td>\n      <td>PDE4A, PDE4B, PDE4C, PDE4D, PDE5A</td>\n      <td>NaN</td>\n    </tr>\n    <tr>\n      <th>BRD-K62353271</th>\n      <td>KPYSYYIEGFHWSV-QMMMGPOBSA-N</td>\n      <td>GABBR1, GABBR2</td>\n      <td>NaN</td>\n    </tr>\n    <tr>\n      <th>BRD-K65856711</th>\n      <td>HJORMJIFDVBMOB-GFCCVEGCSA-N</td>\n      <td>PDE4B, PDE4D</td>\n      <td>NaN</td>\n    </tr>\n    <tr>\n      <th>BRD-K89787693</th>\n      <td>OUPXSLGGCPUZJJ-SARDKLJWSA-N</td>\n      <td>TACR1</td>\n      <td>NaN</td>\n    </tr>\n    <tr>\n      <th>...</th>\n      <td>...</td>\n      <td>...</td>\n      <td>...</td>\n    </tr>\n    <tr>\n      <th>BRD-A07232941</th>\n      <td>RVIGBTUDFAGRTQ-NSHDSACASA-N</td>\n      <td>MTNR1A, MTNR1B</td>\n      <td>NaN</td>\n    </tr>\n    <tr>\n      <th>BRD-K03044000</th>\n      <td>QCLFSYYUWPUWQR-UHFFFAOYSA-N</td>\n      <td>NaN</td>\n      <td>NaN</td>\n    </tr>\n    <tr>\n      <th>BRD-K00535541</th>\n      <td>XJGFWWJLMVZSIG-UHFFFAOYSA-N</td>\n      <td>NaN</td>\n      <td>NQO2, NQO2</td>\n    </tr>\n    <tr>\n      <th>BRD-K09291936</th>\n      <td>FUXVKZWTXQUGMW-FQEVSTJZSA-N</td>\n      <td>TOP1</td>\n      <td>NaN</td>\n    </tr>\n    <tr>\n      <th>BRD-K62607075</th>\n      <td>XGWFJBFNAQHLEF-UHFFFAOYSA-N</td>\n      <td>ANO1, CLCN1</td>\n      <td>NaN</td>\n    </tr>\n  </tbody>\n</table>\n<p>6769 rows × 3 columns</p>\n</div>"
     },
     "execution_count": 35,
     "metadata": {},
     "output_type": "execute_result"
    }
   ],
   "source": [
    "drh_dc_merge"
   ],
   "metadata": {
    "collapsed": false,
    "pycharm": {
     "name": "#%%\n"
    }
   }
  },
  {
   "cell_type": "code",
   "execution_count": 36,
   "outputs": [],
   "source": [
    "drh_dc_merge.to_csv('dc_drh_merge.csv', index=True)"
   ],
   "metadata": {
    "collapsed": false,
    "pycharm": {
     "name": "#%%\n"
    }
   }
  },
  {
   "cell_type": "code",
   "execution_count": null,
   "outputs": [],
   "source": [],
   "metadata": {
    "collapsed": false,
    "pycharm": {
     "name": "#%%\n"
    }
   }
  }
 ],
 "metadata": {
  "kernelspec": {
   "display_name": "Python 3",
   "language": "python",
   "name": "python3"
  },
  "language_info": {
   "codemirror_mode": {
    "name": "ipython",
    "version": 2
   },
   "file_extension": ".py",
   "mimetype": "text/x-python",
   "name": "python",
   "nbconvert_exporter": "python",
   "pygments_lexer": "ipython2",
   "version": "2.7.6"
  }
 },
 "nbformat": 4,
 "nbformat_minor": 0
}