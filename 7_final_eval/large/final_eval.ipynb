{
 "cells": [
  {
   "cell_type": "code",
   "execution_count": 1,
   "metadata": {
    "ExecuteTime": {
     "end_time": "2023-08-04T09:02:11.559294Z",
     "start_time": "2023-08-04T09:02:11.302286Z"
    }
   },
   "outputs": [],
   "source": [
    "import joblib\n",
    "import pandas as pd\n",
    "from sklearn.metrics import roc_auc_score\n",
    "import numpy as np"
   ]
  },
  {
   "cell_type": "code",
   "execution_count": 2,
   "metadata": {
    "ExecuteTime": {
     "end_time": "2023-08-04T09:02:21.393682Z",
     "start_time": "2023-08-04T09:02:11.590429Z"
    }
   },
   "outputs": [
    {
     "name": "stdout",
     "output_type": "stream",
     "text": [
      "No-Effect vs. Effect\n",
      "ROC-AUC: 0.683\n",
      "No-Effect vs. Cyto\n",
      "ROC-AUC: 0.832\n",
      "Cyto vs. Effect\n",
      "ROC-AUC: 0.686\n",
      "Overall Mean ROC-AUC: 0.734 +/- 0.069\n"
     ]
    }
   ],
   "source": [
    "results = joblib.load('../../5_evaluation/large/results.sav')['real']\n",
    "\n",
    "scores = []\n",
    "for key in results.keys():\n",
    "    print(key)\n",
    "    labels = key.split(' vs. ')\n",
    "    model = results[key]['model']\n",
    "    X_test = results[key]['X_test']\n",
    "    y_test = results[key]['y_test']\n",
    "    y_pred = model.predict(X_test)\n",
    "    y_proba = model.predict_proba(X_test)[:, 1]\n",
    "    score = roc_auc_score(y_true=y_test, y_score=y_proba)\n",
    "    scores.append(score)\n",
    "    print('ROC-AUC:', round(score, 3))\n",
    "\n",
    "print('Overall Mean ROC-AUC:', round(np.mean(scores), 3), '+/-', round(np.std(scores), 3))"
   ]
  },
  {
   "cell_type": "code",
   "execution_count": null,
   "outputs": [],
   "source": [],
   "metadata": {
    "collapsed": false,
    "ExecuteTime": {
     "end_time": "2023-08-18T06:56:37.317294Z",
     "start_time": "2023-08-18T06:56:37.315056Z"
    }
   }
  },
  {
   "cell_type": "code",
   "execution_count": null,
   "outputs": [],
   "source": [],
   "metadata": {
    "collapsed": false
   }
  }
 ],
 "metadata": {
  "kernelspec": {
   "display_name": "Python 3 (ipykernel)",
   "language": "python",
   "name": "python3"
  },
  "language_info": {
   "codemirror_mode": {
    "name": "ipython",
    "version": 3
   },
   "file_extension": ".py",
   "mimetype": "text/x-python",
   "name": "python",
   "nbconvert_exporter": "python",
   "pygments_lexer": "ipython3",
   "version": "3.9.15"
  },
  "vscode": {
   "interpreter": {
    "hash": "b6a6486c60085fc2c2c01606fdf32f816811d0c0cc4f6bd38289b6f3f64799ee"
   }
  }
 },
 "nbformat": 4,
 "nbformat_minor": 1
}
